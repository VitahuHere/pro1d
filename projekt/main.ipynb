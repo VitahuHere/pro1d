{
 "cells": [
  {
   "cell_type": "code",
   "execution_count": 1,
   "id": "67f50e65c9abcec",
   "metadata": {
    "ExecuteTime": {
     "end_time": "2024-01-13T15:27:27.186636Z",
     "start_time": "2024-01-13T15:27:26.173723Z"
    },
    "collapsed": false
   },
   "outputs": [
    {
     "name": "stdout",
     "output_type": "stream",
     "text": [
      "Requirement already satisfied: scikit-learn in /Users/vitah/PycharmProjects/pro1d/.venv/lib/python3.10/site-packages (1.3.2)\n",
      "Requirement already satisfied: pandas in /Users/vitah/PycharmProjects/pro1d/.venv/lib/python3.10/site-packages (2.1.4)\n",
      "Requirement already satisfied: matplotlib in /Users/vitah/PycharmProjects/pro1d/.venv/lib/python3.10/site-packages (3.8.2)\n",
      "Requirement already satisfied: imbalanced-learn in /Users/vitah/PycharmProjects/pro1d/.venv/lib/python3.10/site-packages (0.11.0)\n",
      "Requirement already satisfied: tensorflow in /Users/vitah/PycharmProjects/pro1d/.venv/lib/python3.10/site-packages (2.15.0)\n",
      "Requirement already satisfied: joblib>=1.1.1 in /Users/vitah/PycharmProjects/pro1d/.venv/lib/python3.10/site-packages (from scikit-learn) (1.3.2)\n",
      "Requirement already satisfied: threadpoolctl>=2.0.0 in /Users/vitah/PycharmProjects/pro1d/.venv/lib/python3.10/site-packages (from scikit-learn) (3.2.0)\n",
      "Requirement already satisfied: numpy<2.0,>=1.17.3 in /Users/vitah/PycharmProjects/pro1d/.venv/lib/python3.10/site-packages (from scikit-learn) (1.26.2)\n",
      "Requirement already satisfied: scipy>=1.5.0 in /Users/vitah/PycharmProjects/pro1d/.venv/lib/python3.10/site-packages (from scikit-learn) (1.11.4)\n",
      "Requirement already satisfied: tzdata>=2022.1 in /Users/vitah/PycharmProjects/pro1d/.venv/lib/python3.10/site-packages (from pandas) (2023.3)\n",
      "Requirement already satisfied: pytz>=2020.1 in /Users/vitah/PycharmProjects/pro1d/.venv/lib/python3.10/site-packages (from pandas) (2023.3.post1)\n",
      "Requirement already satisfied: python-dateutil>=2.8.2 in /Users/vitah/PycharmProjects/pro1d/.venv/lib/python3.10/site-packages (from pandas) (2.8.2)\n",
      "Requirement already satisfied: contourpy>=1.0.1 in /Users/vitah/PycharmProjects/pro1d/.venv/lib/python3.10/site-packages (from matplotlib) (1.2.0)\n",
      "Requirement already satisfied: pillow>=8 in /Users/vitah/PycharmProjects/pro1d/.venv/lib/python3.10/site-packages (from matplotlib) (10.1.0)\n",
      "Requirement already satisfied: packaging>=20.0 in /Users/vitah/PycharmProjects/pro1d/.venv/lib/python3.10/site-packages (from matplotlib) (23.2)\n",
      "Requirement already satisfied: pyparsing>=2.3.1 in /Users/vitah/PycharmProjects/pro1d/.venv/lib/python3.10/site-packages (from matplotlib) (3.1.1)\n",
      "Requirement already satisfied: fonttools>=4.22.0 in /Users/vitah/PycharmProjects/pro1d/.venv/lib/python3.10/site-packages (from matplotlib) (4.47.0)\n",
      "Requirement already satisfied: cycler>=0.10 in /Users/vitah/PycharmProjects/pro1d/.venv/lib/python3.10/site-packages (from matplotlib) (0.12.1)\n",
      "Requirement already satisfied: kiwisolver>=1.3.1 in /Users/vitah/PycharmProjects/pro1d/.venv/lib/python3.10/site-packages (from matplotlib) (1.4.5)\n",
      "Requirement already satisfied: tensorflow-macos==2.15.0 in /Users/vitah/PycharmProjects/pro1d/.venv/lib/python3.10/site-packages (from tensorflow) (2.15.0)\n",
      "Requirement already satisfied: astunparse>=1.6.0 in /Users/vitah/PycharmProjects/pro1d/.venv/lib/python3.10/site-packages (from tensorflow-macos==2.15.0->tensorflow) (1.6.3)\n",
      "Requirement already satisfied: flatbuffers>=23.5.26 in /Users/vitah/PycharmProjects/pro1d/.venv/lib/python3.10/site-packages (from tensorflow-macos==2.15.0->tensorflow) (23.5.26)\n",
      "Requirement already satisfied: typing-extensions>=3.6.6 in /Users/vitah/PycharmProjects/pro1d/.venv/lib/python3.10/site-packages (from tensorflow-macos==2.15.0->tensorflow) (4.9.0)\n",
      "Requirement already satisfied: tensorflow-io-gcs-filesystem>=0.23.1 in /Users/vitah/PycharmProjects/pro1d/.venv/lib/python3.10/site-packages (from tensorflow-macos==2.15.0->tensorflow) (0.34.0)\n",
      "Requirement already satisfied: protobuf!=4.21.0,!=4.21.1,!=4.21.2,!=4.21.3,!=4.21.4,!=4.21.5,<5.0.0dev,>=3.20.3 in /Users/vitah/PycharmProjects/pro1d/.venv/lib/python3.10/site-packages (from tensorflow-macos==2.15.0->tensorflow) (4.23.4)\n",
      "Requirement already satisfied: h5py>=2.9.0 in /Users/vitah/PycharmProjects/pro1d/.venv/lib/python3.10/site-packages (from tensorflow-macos==2.15.0->tensorflow) (3.10.0)\n",
      "Requirement already satisfied: setuptools in /Users/vitah/PycharmProjects/pro1d/.venv/lib/python3.10/site-packages (from tensorflow-macos==2.15.0->tensorflow) (65.5.0)\n",
      "Requirement already satisfied: google-pasta>=0.1.1 in /Users/vitah/PycharmProjects/pro1d/.venv/lib/python3.10/site-packages (from tensorflow-macos==2.15.0->tensorflow) (0.2.0)\n",
      "Requirement already satisfied: ml-dtypes~=0.2.0 in /Users/vitah/PycharmProjects/pro1d/.venv/lib/python3.10/site-packages (from tensorflow-macos==2.15.0->tensorflow) (0.2.0)\n",
      "Requirement already satisfied: wrapt<1.15,>=1.11.0 in /Users/vitah/PycharmProjects/pro1d/.venv/lib/python3.10/site-packages (from tensorflow-macos==2.15.0->tensorflow) (1.14.1)\n",
      "Requirement already satisfied: gast!=0.5.0,!=0.5.1,!=0.5.2,>=0.2.1 in /Users/vitah/PycharmProjects/pro1d/.venv/lib/python3.10/site-packages (from tensorflow-macos==2.15.0->tensorflow) (0.5.4)\n",
      "Requirement already satisfied: tensorflow-estimator<2.16,>=2.15.0 in /Users/vitah/PycharmProjects/pro1d/.venv/lib/python3.10/site-packages (from tensorflow-macos==2.15.0->tensorflow) (2.15.0)\n",
      "Requirement already satisfied: keras<2.16,>=2.15.0 in /Users/vitah/PycharmProjects/pro1d/.venv/lib/python3.10/site-packages (from tensorflow-macos==2.15.0->tensorflow) (2.15.0)\n",
      "Requirement already satisfied: libclang>=13.0.0 in /Users/vitah/PycharmProjects/pro1d/.venv/lib/python3.10/site-packages (from tensorflow-macos==2.15.0->tensorflow) (16.0.6)\n",
      "Requirement already satisfied: grpcio<2.0,>=1.24.3 in /Users/vitah/PycharmProjects/pro1d/.venv/lib/python3.10/site-packages (from tensorflow-macos==2.15.0->tensorflow) (1.60.0)\n",
      "Requirement already satisfied: absl-py>=1.0.0 in /Users/vitah/PycharmProjects/pro1d/.venv/lib/python3.10/site-packages (from tensorflow-macos==2.15.0->tensorflow) (2.0.0)\n",
      "Requirement already satisfied: tensorboard<2.16,>=2.15 in /Users/vitah/PycharmProjects/pro1d/.venv/lib/python3.10/site-packages (from tensorflow-macos==2.15.0->tensorflow) (2.15.1)\n",
      "Requirement already satisfied: termcolor>=1.1.0 in /Users/vitah/PycharmProjects/pro1d/.venv/lib/python3.10/site-packages (from tensorflow-macos==2.15.0->tensorflow) (2.4.0)\n",
      "Requirement already satisfied: opt-einsum>=2.3.2 in /Users/vitah/PycharmProjects/pro1d/.venv/lib/python3.10/site-packages (from tensorflow-macos==2.15.0->tensorflow) (3.3.0)\n",
      "Requirement already satisfied: six>=1.12.0 in /Users/vitah/PycharmProjects/pro1d/.venv/lib/python3.10/site-packages (from tensorflow-macos==2.15.0->tensorflow) (1.16.0)\n",
      "Requirement already satisfied: wheel<1.0,>=0.23.0 in /Users/vitah/PycharmProjects/pro1d/.venv/lib/python3.10/site-packages (from astunparse>=1.6.0->tensorflow-macos==2.15.0->tensorflow) (0.42.0)\n",
      "Requirement already satisfied: tensorboard-data-server<0.8.0,>=0.7.0 in /Users/vitah/PycharmProjects/pro1d/.venv/lib/python3.10/site-packages (from tensorboard<2.16,>=2.15->tensorflow-macos==2.15.0->tensorflow) (0.7.2)\n",
      "Requirement already satisfied: werkzeug>=1.0.1 in /Users/vitah/PycharmProjects/pro1d/.venv/lib/python3.10/site-packages (from tensorboard<2.16,>=2.15->tensorflow-macos==2.15.0->tensorflow) (3.0.1)\n",
      "Requirement already satisfied: google-auth-oauthlib<2,>=0.5 in /Users/vitah/PycharmProjects/pro1d/.venv/lib/python3.10/site-packages (from tensorboard<2.16,>=2.15->tensorflow-macos==2.15.0->tensorflow) (1.2.0)\n",
      "Requirement already satisfied: markdown>=2.6.8 in /Users/vitah/PycharmProjects/pro1d/.venv/lib/python3.10/site-packages (from tensorboard<2.16,>=2.15->tensorflow-macos==2.15.0->tensorflow) (3.5.2)\n",
      "Requirement already satisfied: requests<3,>=2.21.0 in /Users/vitah/PycharmProjects/pro1d/.venv/lib/python3.10/site-packages (from tensorboard<2.16,>=2.15->tensorflow-macos==2.15.0->tensorflow) (2.31.0)\n",
      "Requirement already satisfied: google-auth<3,>=1.6.3 in /Users/vitah/PycharmProjects/pro1d/.venv/lib/python3.10/site-packages (from tensorboard<2.16,>=2.15->tensorflow-macos==2.15.0->tensorflow) (2.26.2)\n",
      "Requirement already satisfied: pyasn1-modules>=0.2.1 in /Users/vitah/PycharmProjects/pro1d/.venv/lib/python3.10/site-packages (from google-auth<3,>=1.6.3->tensorboard<2.16,>=2.15->tensorflow-macos==2.15.0->tensorflow) (0.3.0)\n",
      "Requirement already satisfied: rsa<5,>=3.1.4 in /Users/vitah/PycharmProjects/pro1d/.venv/lib/python3.10/site-packages (from google-auth<3,>=1.6.3->tensorboard<2.16,>=2.15->tensorflow-macos==2.15.0->tensorflow) (4.9)\n",
      "Requirement already satisfied: cachetools<6.0,>=2.0.0 in /Users/vitah/PycharmProjects/pro1d/.venv/lib/python3.10/site-packages (from google-auth<3,>=1.6.3->tensorboard<2.16,>=2.15->tensorflow-macos==2.15.0->tensorflow) (5.3.2)\n",
      "Requirement already satisfied: requests-oauthlib>=0.7.0 in /Users/vitah/PycharmProjects/pro1d/.venv/lib/python3.10/site-packages (from google-auth-oauthlib<2,>=0.5->tensorboard<2.16,>=2.15->tensorflow-macos==2.15.0->tensorflow) (1.3.1)\n",
      "Requirement already satisfied: certifi>=2017.4.17 in /Users/vitah/PycharmProjects/pro1d/.venv/lib/python3.10/site-packages (from requests<3,>=2.21.0->tensorboard<2.16,>=2.15->tensorflow-macos==2.15.0->tensorflow) (2023.11.17)\n",
      "Requirement already satisfied: charset-normalizer<4,>=2 in /Users/vitah/PycharmProjects/pro1d/.venv/lib/python3.10/site-packages (from requests<3,>=2.21.0->tensorboard<2.16,>=2.15->tensorflow-macos==2.15.0->tensorflow) (3.3.2)\n",
      "Requirement already satisfied: idna<4,>=2.5 in /Users/vitah/PycharmProjects/pro1d/.venv/lib/python3.10/site-packages (from requests<3,>=2.21.0->tensorboard<2.16,>=2.15->tensorflow-macos==2.15.0->tensorflow) (3.6)\n",
      "Requirement already satisfied: urllib3<3,>=1.21.1 in /Users/vitah/PycharmProjects/pro1d/.venv/lib/python3.10/site-packages (from requests<3,>=2.21.0->tensorboard<2.16,>=2.15->tensorflow-macos==2.15.0->tensorflow) (2.1.0)\n",
      "Requirement already satisfied: MarkupSafe>=2.1.1 in /Users/vitah/PycharmProjects/pro1d/.venv/lib/python3.10/site-packages (from werkzeug>=1.0.1->tensorboard<2.16,>=2.15->tensorflow-macos==2.15.0->tensorflow) (2.1.3)\n",
      "Requirement already satisfied: pyasn1<0.6.0,>=0.4.6 in /Users/vitah/PycharmProjects/pro1d/.venv/lib/python3.10/site-packages (from pyasn1-modules>=0.2.1->google-auth<3,>=1.6.3->tensorboard<2.16,>=2.15->tensorflow-macos==2.15.0->tensorflow) (0.5.1)\n",
      "Requirement already satisfied: oauthlib>=3.0.0 in /Users/vitah/PycharmProjects/pro1d/.venv/lib/python3.10/site-packages (from requests-oauthlib>=0.7.0->google-auth-oauthlib<2,>=0.5->tensorboard<2.16,>=2.15->tensorflow-macos==2.15.0->tensorflow) (3.2.2)\n",
      "\n",
      "\u001b[1m[\u001b[0m\u001b[34;49mnotice\u001b[0m\u001b[1;39;49m]\u001b[0m\u001b[39;49m A new release of pip available: \u001b[0m\u001b[31;49m22.3.1\u001b[0m\u001b[39;49m -> \u001b[0m\u001b[32;49m23.3.2\u001b[0m\n",
      "\u001b[1m[\u001b[0m\u001b[34;49mnotice\u001b[0m\u001b[1;39;49m]\u001b[0m\u001b[39;49m To update, run: \u001b[0m\u001b[32;49mpip install --upgrade pip\u001b[0m\n",
      "Note: you may need to restart the kernel to use updated packages.\n"
     ]
    }
   ],
   "source": [
    "%pip install scikit-learn pandas matplotlib imbalanced-learn tensorflow"
   ]
  },
  {
   "cell_type": "code",
   "execution_count": 2,
   "id": "initial_id",
   "metadata": {
    "ExecuteTime": {
     "end_time": "2024-01-13T15:27:30.465819Z",
     "start_time": "2024-01-13T15:27:27.183617Z"
    },
    "collapsed": true
   },
   "outputs": [],
   "source": [
    "import pandas as pd\n",
    "import numpy as np\n",
    "import tensorflow as tf\n",
    "from sklearn.model_selection import train_test_split\n",
    "from sklearn.neighbors import KNeighborsClassifier\n",
    "from sklearn.model_selection import GridSearchCV\n",
    "from sklearn.metrics import accuracy_score, f1_score\n",
    "from sklearn.preprocessing import normalize\n",
    "import matplotlib.pyplot as plt\n",
    "from imblearn.under_sampling import RandomUnderSampler\n",
    "from imblearn.over_sampling import RandomOverSampler\n",
    "from scipy import stats"
   ]
  },
  {
   "cell_type": "code",
   "execution_count": 3,
   "id": "f58f196395e4ca3b",
   "metadata": {
    "ExecuteTime": {
     "end_time": "2024-01-13T15:27:30.468818Z",
     "start_time": "2024-01-13T15:27:30.466954Z"
    },
    "collapsed": false
   },
   "outputs": [],
   "source": [
    "DATA_PATH = \"letter-recognition.data\"\n",
    "HEADERS = [\n",
    "    \"lettr\",\n",
    "    \"x-box\",\n",
    "    \"y-box\",\n",
    "    \"width\",\n",
    "    \"high\",\n",
    "    \"onpix\",\n",
    "    \"x-bar\",\n",
    "    \"y-bar\",\n",
    "    \"x2bar\",\n",
    "    \"y2bar\",\n",
    "    \"xybar\",\n",
    "    \"x2ybr\",\n",
    "    \"xy2br\",\n",
    "    \"x-ege\",\n",
    "    \"xegvy\",\n",
    "    \"y-ege\",\n",
    "    \"yegvx\",\n",
    "]"
   ]
  },
  {
   "cell_type": "code",
   "execution_count": 4,
   "id": "aea6f9b4612bb8c3",
   "metadata": {
    "ExecuteTime": {
     "end_time": "2024-01-13T15:27:30.484015Z",
     "start_time": "2024-01-13T15:27:30.471220Z"
    },
    "collapsed": false
   },
   "outputs": [],
   "source": [
    "data = pd.read_csv(DATA_PATH, header=None, names=HEADERS)"
   ]
  },
  {
   "cell_type": "code",
   "execution_count": 5,
   "id": "cfdbd37bbe2a7c55",
   "metadata": {
    "ExecuteTime": {
     "end_time": "2024-01-13T15:27:30.495300Z",
     "start_time": "2024-01-13T15:27:30.486432Z"
    },
    "collapsed": false
   },
   "outputs": [
    {
     "data": {
      "text/html": [
       "<div>\n",
       "<style scoped>\n",
       "    .dataframe tbody tr th:only-of-type {\n",
       "        vertical-align: middle;\n",
       "    }\n",
       "\n",
       "    .dataframe tbody tr th {\n",
       "        vertical-align: top;\n",
       "    }\n",
       "\n",
       "    .dataframe thead th {\n",
       "        text-align: right;\n",
       "    }\n",
       "</style>\n",
       "<table border=\"1\" class=\"dataframe\">\n",
       "  <thead>\n",
       "    <tr style=\"text-align: right;\">\n",
       "      <th></th>\n",
       "      <th>lettr</th>\n",
       "      <th>x-box</th>\n",
       "      <th>y-box</th>\n",
       "      <th>width</th>\n",
       "      <th>high</th>\n",
       "      <th>onpix</th>\n",
       "      <th>x-bar</th>\n",
       "      <th>y-bar</th>\n",
       "      <th>x2bar</th>\n",
       "      <th>y2bar</th>\n",
       "      <th>xybar</th>\n",
       "      <th>x2ybr</th>\n",
       "      <th>xy2br</th>\n",
       "      <th>x-ege</th>\n",
       "      <th>xegvy</th>\n",
       "      <th>y-ege</th>\n",
       "      <th>yegvx</th>\n",
       "    </tr>\n",
       "  </thead>\n",
       "  <tbody>\n",
       "    <tr>\n",
       "      <th>0</th>\n",
       "      <td>T</td>\n",
       "      <td>2</td>\n",
       "      <td>8</td>\n",
       "      <td>3</td>\n",
       "      <td>5</td>\n",
       "      <td>1</td>\n",
       "      <td>8</td>\n",
       "      <td>13</td>\n",
       "      <td>0</td>\n",
       "      <td>6</td>\n",
       "      <td>6</td>\n",
       "      <td>10</td>\n",
       "      <td>8</td>\n",
       "      <td>0</td>\n",
       "      <td>8</td>\n",
       "      <td>0</td>\n",
       "      <td>8</td>\n",
       "    </tr>\n",
       "    <tr>\n",
       "      <th>1</th>\n",
       "      <td>I</td>\n",
       "      <td>5</td>\n",
       "      <td>12</td>\n",
       "      <td>3</td>\n",
       "      <td>7</td>\n",
       "      <td>2</td>\n",
       "      <td>10</td>\n",
       "      <td>5</td>\n",
       "      <td>5</td>\n",
       "      <td>4</td>\n",
       "      <td>13</td>\n",
       "      <td>3</td>\n",
       "      <td>9</td>\n",
       "      <td>2</td>\n",
       "      <td>8</td>\n",
       "      <td>4</td>\n",
       "      <td>10</td>\n",
       "    </tr>\n",
       "    <tr>\n",
       "      <th>2</th>\n",
       "      <td>D</td>\n",
       "      <td>4</td>\n",
       "      <td>11</td>\n",
       "      <td>6</td>\n",
       "      <td>8</td>\n",
       "      <td>6</td>\n",
       "      <td>10</td>\n",
       "      <td>6</td>\n",
       "      <td>2</td>\n",
       "      <td>6</td>\n",
       "      <td>10</td>\n",
       "      <td>3</td>\n",
       "      <td>7</td>\n",
       "      <td>3</td>\n",
       "      <td>7</td>\n",
       "      <td>3</td>\n",
       "      <td>9</td>\n",
       "    </tr>\n",
       "    <tr>\n",
       "      <th>3</th>\n",
       "      <td>N</td>\n",
       "      <td>7</td>\n",
       "      <td>11</td>\n",
       "      <td>6</td>\n",
       "      <td>6</td>\n",
       "      <td>3</td>\n",
       "      <td>5</td>\n",
       "      <td>9</td>\n",
       "      <td>4</td>\n",
       "      <td>6</td>\n",
       "      <td>4</td>\n",
       "      <td>4</td>\n",
       "      <td>10</td>\n",
       "      <td>6</td>\n",
       "      <td>10</td>\n",
       "      <td>2</td>\n",
       "      <td>8</td>\n",
       "    </tr>\n",
       "    <tr>\n",
       "      <th>4</th>\n",
       "      <td>G</td>\n",
       "      <td>2</td>\n",
       "      <td>1</td>\n",
       "      <td>3</td>\n",
       "      <td>1</td>\n",
       "      <td>1</td>\n",
       "      <td>8</td>\n",
       "      <td>6</td>\n",
       "      <td>6</td>\n",
       "      <td>6</td>\n",
       "      <td>6</td>\n",
       "      <td>5</td>\n",
       "      <td>9</td>\n",
       "      <td>1</td>\n",
       "      <td>7</td>\n",
       "      <td>5</td>\n",
       "      <td>10</td>\n",
       "    </tr>\n",
       "  </tbody>\n",
       "</table>\n",
       "</div>"
      ],
      "text/plain": [
       "  lettr  x-box  y-box  width  high  onpix  x-bar  y-bar  x2bar  y2bar  xybar  \\\n",
       "0     T      2      8      3     5      1      8     13      0      6      6   \n",
       "1     I      5     12      3     7      2     10      5      5      4     13   \n",
       "2     D      4     11      6     8      6     10      6      2      6     10   \n",
       "3     N      7     11      6     6      3      5      9      4      6      4   \n",
       "4     G      2      1      3     1      1      8      6      6      6      6   \n",
       "\n",
       "   x2ybr  xy2br  x-ege  xegvy  y-ege  yegvx  \n",
       "0     10      8      0      8      0      8  \n",
       "1      3      9      2      8      4     10  \n",
       "2      3      7      3      7      3      9  \n",
       "3      4     10      6     10      2      8  \n",
       "4      5      9      1      7      5     10  "
      ]
     },
     "execution_count": 5,
     "metadata": {},
     "output_type": "execute_result"
    }
   ],
   "source": [
    "data.head()"
   ]
  },
  {
   "cell_type": "markdown",
   "id": "d447d4c3655657cc",
   "metadata": {
    "collapsed": false
   },
   "source": [
    "# Preprocessing"
   ]
  },
  {
   "cell_type": "code",
   "execution_count": 6,
   "id": "896dd3a02caa8962",
   "metadata": {
    "ExecuteTime": {
     "end_time": "2024-01-13T15:27:30.497616Z",
     "start_time": "2024-01-13T15:27:30.494126Z"
    },
    "collapsed": false
   },
   "outputs": [
    {
     "data": {
      "text/plain": [
       "(20000, 17)"
      ]
     },
     "execution_count": 6,
     "metadata": {},
     "output_type": "execute_result"
    }
   ],
   "source": [
    "data.shape"
   ]
  },
  {
   "cell_type": "code",
   "execution_count": 7,
   "id": "cc0543988f032234",
   "metadata": {
    "ExecuteTime": {
     "end_time": "2024-01-13T15:27:30.651332Z",
     "start_time": "2024-01-13T15:27:30.500078Z"
    },
    "collapsed": false
   },
   "outputs": [
    {
     "data": {
      "text/plain": [
       "<BarContainer object of 26 artists>"
      ]
     },
     "execution_count": 7,
     "metadata": {},
     "output_type": "execute_result"
    },
    {
     "data": {
      "image/png": "[encoded data removed]",
      "text/plain": [
       "<Figure size 640x480 with 1 Axes>"
      ]
     },
     "metadata": {},
     "output_type": "display_data"
    }
   ],
   "source": [
    "plt.bar(data[\"lettr\"].value_counts().index, data[\"lettr\"].value_counts().values)"
   ]
  },
  {
   "cell_type": "code",
   "execution_count": 8,
   "id": "1bc0f101",
   "metadata": {
    "ExecuteTime": {
     "end_time": "2024-01-13T15:27:30.660753Z",
     "start_time": "2024-01-13T15:27:30.652761Z"
    }
   },
   "outputs": [
    {
     "name": "stdout",
     "output_type": "stream",
     "text": [
      "813\n",
      "734\n",
      "Max is 10.762942779291551 more than min\n"
     ]
    }
   ],
   "source": [
    "# print max and min count of a letter\n",
    "max_count = data[\"lettr\"].value_counts().max()\n",
    "min_count = data[\"lettr\"].value_counts().min()\n",
    "# print how many % more is the max than the min\n",
    "print(max_count)\n",
    "print(min_count)\n",
    "print(f\"Max is {(1 - max_count / min_count) * (-1) * 100} more than min\")"
   ]
  },
  {
   "cell_type": "code",
   "execution_count": 9,
   "id": "6a61e2d0225b5922",
   "metadata": {
    "ExecuteTime": {
     "end_time": "2024-01-13T15:27:30.720350Z",
     "start_time": "2024-01-13T15:27:30.663099Z"
    },
    "collapsed": false
   },
   "outputs": [],
   "source": [
    "# remove duplicates\n",
    "data.drop_duplicates(inplace=True)"
   ]
  },
  {
   "cell_type": "code",
   "execution_count": 10,
   "id": "b322b71405ff6416",
   "metadata": {
    "ExecuteTime": {
     "end_time": "2024-01-13T15:27:30.736393Z",
     "start_time": "2024-01-13T15:27:30.700420Z"
    },
    "collapsed": false
   },
   "outputs": [
    {
     "data": {
      "text/plain": [
       "(18668, 17)"
      ]
     },
     "execution_count": 10,
     "metadata": {},
     "output_type": "execute_result"
    }
   ],
   "source": [
    "data.shape"
   ]
  },
  {
   "cell_type": "code",
   "execution_count": 11,
   "id": "b9bdc7d5d2480c09",
   "metadata": {
    "ExecuteTime": {
     "end_time": "2024-01-13T15:27:30.900402Z",
     "start_time": "2024-01-13T15:27:30.738904Z"
    },
    "collapsed": false
   },
   "outputs": [
    {
     "data": {
      "text/plain": [
       "<BarContainer object of 26 artists>"
      ]
     },
     "execution_count": 11,
     "metadata": {},
     "output_type": "execute_result"
    },
    {
     "data": {
      "image/png": "[encoded data removed]",
      "text/plain": [
       "<Figure size 640x480 with 1 Axes>"
      ]
     },
     "metadata": {},
     "output_type": "display_data"
    }
   ],
   "source": [
    "plt.bar(data[\"lettr\"].value_counts().index, data[\"lettr\"].value_counts().values)"
   ]
  },
  {
   "cell_type": "code",
   "execution_count": 12,
   "id": "9c3041dbd7ea6c1f",
   "metadata": {
    "ExecuteTime": {
     "end_time": "2024-01-13T15:27:30.916695Z",
     "start_time": "2024-01-13T15:27:30.903936Z"
    },
    "collapsed": false
   },
   "outputs": [],
   "source": [
    "# remove outliers\n",
    "z_scores = stats.zscore(data[HEADERS[1:]])\n",
    "abs_z_scores = np.abs(z_scores)\n",
    "filtered_entries = (abs_z_scores < 3).all(axis=1)\n",
    "data = data[filtered_entries]"
   ]
  },
  {
   "cell_type": "code",
   "execution_count": 13,
   "id": "95dd722a68d7adbf",
   "metadata": {
    "ExecuteTime": {
     "end_time": "2024-01-13T15:27:30.949456Z",
     "start_time": "2024-01-13T15:27:30.919078Z"
    },
    "collapsed": false
   },
   "outputs": [
    {
     "data": {
      "text/plain": [
       "(17257, 17)"
      ]
     },
     "execution_count": 13,
     "metadata": {},
     "output_type": "execute_result"
    }
   ],
   "source": [
    "data.shape"
   ]
  },
  {
   "cell_type": "code",
   "execution_count": 14,
   "id": "3c9ce92bb8ada476",
   "metadata": {
    "ExecuteTime": {
     "end_time": "2024-01-13T15:27:31.071961Z",
     "start_time": "2024-01-13T15:27:30.936635Z"
    },
    "collapsed": false
   },
   "outputs": [
    {
     "data": {
      "text/plain": [
       "<BarContainer object of 26 artists>"
      ]
     },
     "execution_count": 14,
     "metadata": {},
     "output_type": "execute_result"
    },
    {
     "data": {
      "image/png": "[encoded data removed]",
      "text/plain": [
       "<Figure size 640x480 with 1 Axes>"
      ]
     },
     "metadata": {},
     "output_type": "display_data"
    }
   ],
   "source": [
    "plt.bar(data[\"lettr\"].value_counts().index, data[\"lettr\"].value_counts().values)"
   ]
  },
  {
   "cell_type": "code",
   "execution_count": 15,
   "id": "271821a3",
   "metadata": {
    "ExecuteTime": {
     "end_time": "2024-01-13T15:27:31.079876Z",
     "start_time": "2024-01-13T15:27:31.075436Z"
    }
   },
   "outputs": [
    {
     "name": "stdout",
     "output_type": "stream",
     "text": [
      "751\n",
      "523\n",
      "Max is 43.594646271510506 more than min\n"
     ]
    }
   ],
   "source": [
    "# print max and min count of a letter\n",
    "max_count = data[\"lettr\"].value_counts().max()\n",
    "min_count = data[\"lettr\"].value_counts().min()\n",
    "# print how many % more is the max than the min\n",
    "print(max_count)\n",
    "print(min_count)\n",
    "print(f\"Max is {(1 - max_count / min_count) * (-1) * 100} more than min\")"
   ]
  },
  {
   "cell_type": "code",
   "execution_count": 16,
   "id": "3ebd4b6a0ddc383b",
   "metadata": {
    "ExecuteTime": {
     "end_time": "2024-01-13T15:27:31.133922Z",
     "start_time": "2024-01-13T15:27:31.081562Z"
    },
    "collapsed": false
   },
   "outputs": [],
   "source": [
    "# Under sampling\n",
    "rus = RandomUnderSampler(random_state=42)\n",
    "under_sample, under_sample_labels = rus.fit_resample(data[HEADERS[1:]], data[HEADERS[0]])"
   ]
  },
  {
   "cell_type": "code",
   "execution_count": 17,
   "id": "ef88d7f3740776c8",
   "metadata": {
    "ExecuteTime": {
     "end_time": "2024-01-13T15:27:31.141275Z",
     "start_time": "2024-01-13T15:27:31.135962Z"
    },
    "collapsed": false
   },
   "outputs": [
    {
     "data": {
      "text/plain": [
       "(13598, 16)"
      ]
     },
     "execution_count": 17,
     "metadata": {},
     "output_type": "execute_result"
    }
   ],
   "source": [
    "under_sample.shape"
   ]
  },
  {
   "cell_type": "code",
   "execution_count": 18,
   "id": "e63a3eac4607009c",
   "metadata": {
    "ExecuteTime": {
     "end_time": "2024-01-13T15:27:31.272613Z",
     "start_time": "2024-01-13T15:27:31.141544Z"
    },
    "collapsed": false
   },
   "outputs": [
    {
     "data": {
      "text/plain": [
       "<BarContainer object of 26 artists>"
      ]
     },
     "execution_count": 18,
     "metadata": {},
     "output_type": "execute_result"
    },
    {
     "data": {
      "image/png": "[encoded data removed]",
      "text/plain": [
       "<Figure size 640x480 with 1 Axes>"
      ]
     },
     "metadata": {},
     "output_type": "display_data"
    }
   ],
   "source": [
    "plt.bar(\n",
    "    pd.Series(under_sample_labels).value_counts().index,\n",
    "    pd.Series(under_sample_labels).value_counts().values,\n",
    ")"
   ]
  },
  {
   "cell_type": "code",
   "execution_count": 19,
   "id": "6ad96ad5e90ab0c3",
   "metadata": {
    "ExecuteTime": {
     "end_time": "2024-01-13T15:27:31.319997Z",
     "start_time": "2024-01-13T15:27:31.274857Z"
    },
    "collapsed": false
   },
   "outputs": [],
   "source": [
    "# Over sampling\n",
    "ros = RandomOverSampler(random_state=42)\n",
    "over_sample, over_sample_labels = ros.fit_resample(data[HEADERS[1:]], data[HEADERS[0]])"
   ]
  },
  {
   "cell_type": "code",
   "execution_count": 20,
   "id": "801468a20693ae56",
   "metadata": {
    "ExecuteTime": {
     "end_time": "2024-01-13T15:27:31.320451Z",
     "start_time": "2024-01-13T15:27:31.313105Z"
    },
    "collapsed": false
   },
   "outputs": [
    {
     "data": {
      "text/plain": [
       "(19526, 16)"
      ]
     },
     "execution_count": 20,
     "metadata": {},
     "output_type": "execute_result"
    }
   ],
   "source": [
    "over_sample.shape"
   ]
  },
  {
   "cell_type": "code",
   "execution_count": 21,
   "id": "8a7a8e8039d3c5d6",
   "metadata": {
    "ExecuteTime": {
     "end_time": "2024-01-13T15:27:31.418114Z",
     "start_time": "2024-01-13T15:27:31.325049Z"
    },
    "collapsed": false
   },
   "outputs": [
    {
     "data": {
      "text/plain": [
       "<BarContainer object of 26 artists>"
      ]
     },
     "execution_count": 21,
     "metadata": {},
     "output_type": "execute_result"
    },
    {
     "data": {
      "image/png": "[encoded data removed]",
      "text/plain": [
       "<Figure size 640x480 with 1 Axes>"
      ]
     },
     "metadata": {},
     "output_type": "display_data"
    }
   ],
   "source": [
    "plt.bar(\n",
    "    pd.Series(over_sample_labels).value_counts().index,\n",
    "    pd.Series(over_sample_labels).value_counts().values,\n",
    ")"
   ]
  },
  {
   "cell_type": "code",
   "execution_count": 22,
   "id": "80c6e1e37c84808a",
   "metadata": {
    "ExecuteTime": {
     "end_time": "2024-01-13T15:27:31.429117Z",
     "start_time": "2024-01-13T15:27:31.427213Z"
    },
    "collapsed": false
   },
   "outputs": [],
   "source": [
    "data[\"lettr\"] = data[\"lettr\"].apply(lambda x: ord(x) - 65)\n",
    "over_sample_labels = over_sample_labels.apply(lambda x: ord(x) - 65)\n",
    "under_sample_labels = under_sample_labels.apply(lambda x: ord(x) - 65)"
   ]
  },
  {
   "cell_type": "code",
   "execution_count": 23,
   "id": "fca08eff2d750c43",
   "metadata": {
    "ExecuteTime": {
     "end_time": "2024-01-13T15:27:31.461786Z",
     "start_time": "2024-01-13T15:27:31.430876Z"
    },
    "collapsed": false
   },
   "outputs": [
    {
     "name": "stdout",
     "output_type": "stream",
     "text": [
      "(15620, 16) (3906, 16) (15620,) (3906,)\n",
      "(10878, 16) (2720, 16) (10878,) (2720,)\n",
      "(13805, 16) (3452, 16) (13805,) (3452,)\n"
     ]
    }
   ],
   "source": [
    "x_train, x_test, y_train, y_test = train_test_split(\n",
    "    data[HEADERS[1:]], data[HEADERS[0]], test_size=0.20, random_state=42\n",
    ")\n",
    "x_train_under, x_test_under, y_train_under, y_test_under = train_test_split(\n",
    "    under_sample, under_sample_labels, test_size=0.20, random_state=42\n",
    ")\n",
    "x_train_over, x_test_over, y_train_over, y_test_over = train_test_split(\n",
    "    over_sample, over_sample_labels, test_size=0.20, random_state=42\n",
    ")\n",
    "print(x_train_over.shape, x_test_over.shape, y_train_over.shape, y_test_over.shape)\n",
    "print(x_train_under.shape, x_test_under.shape, y_train_under.shape, y_test_under.shape)\n",
    "print(x_train.shape, x_test.shape, y_train.shape, y_test.shape)"
   ]
  },
  {
   "cell_type": "code",
   "execution_count": 24,
   "id": "e16a4f3cf257550a",
   "metadata": {
    "ExecuteTime": {
     "end_time": "2024-01-13T15:27:31.462198Z",
     "start_time": "2024-01-13T15:27:31.443458Z"
    },
    "collapsed": false
   },
   "outputs": [],
   "source": [
    "x_train = normalize(x_train)\n",
    "x_test = normalize(x_test)\n",
    "x_train_under = normalize(x_train_under)\n",
    "x_test_under = normalize(x_test_under)\n",
    "x_train_over = normalize(x_train_over)\n",
    "x_test_over = normalize(x_test_over)"
   ]
  },
  {
   "cell_type": "code",
   "execution_count": 25,
   "id": "e2adf764122f301c",
   "metadata": {
    "ExecuteTime": {
     "end_time": "2024-01-13T15:27:41.813885Z",
     "start_time": "2024-01-13T15:27:31.451652Z"
    },
    "collapsed": false
   },
   "outputs": [
    {
     "name": "stdout",
     "output_type": "stream",
     "text": [
      "Epoch 1/40\n",
      "432/432 [==============================] - 0s 800us/step - loss: 2.2145 - accuracy: 0.3985\n",
      "Epoch 2/40\n",
      "432/432 [==============================] - 0s 628us/step - loss: 1.3627 - accuracy: 0.6142\n",
      "Epoch 3/40\n",
      "432/432 [==============================] - 0s 621us/step - loss: 1.1555 - accuracy: 0.6740\n",
      "Epoch 4/40\n",
      "432/432 [==============================] - 0s 659us/step - loss: 1.0463 - accuracy: 0.7041\n",
      "Epoch 5/40\n",
      "432/432 [==============================] - 0s 598us/step - loss: 0.9702 - accuracy: 0.7216\n",
      "Epoch 6/40\n",
      "432/432 [==============================] - 0s 599us/step - loss: 0.9123 - accuracy: 0.7392\n",
      "Epoch 7/40\n",
      "432/432 [==============================] - 0s 596us/step - loss: 0.8596 - accuracy: 0.7528\n",
      "Epoch 8/40\n",
      "432/432 [==============================] - 0s 595us/step - loss: 0.8084 - accuracy: 0.7665\n",
      "Epoch 9/40\n",
      "432/432 [==============================] - 0s 599us/step - loss: 0.7580 - accuracy: 0.7759\n",
      "Epoch 10/40\n",
      "432/432 [==============================] - 0s 594us/step - loss: 0.7156 - accuracy: 0.7915\n",
      "Epoch 11/40\n",
      "432/432 [==============================] - 0s 598us/step - loss: 0.6750 - accuracy: 0.8048\n",
      "Epoch 12/40\n",
      "432/432 [==============================] - 0s 597us/step - loss: 0.6434 - accuracy: 0.8103\n",
      "Epoch 13/40\n",
      "432/432 [==============================] - 0s 599us/step - loss: 0.6053 - accuracy: 0.8235\n",
      "Epoch 14/40\n",
      "432/432 [==============================] - 0s 655us/step - loss: 0.5725 - accuracy: 0.8290\n",
      "Epoch 15/40\n",
      "432/432 [==============================] - 0s 615us/step - loss: 0.5459 - accuracy: 0.8377\n",
      "Epoch 16/40\n",
      "432/432 [==============================] - 0s 601us/step - loss: 0.5151 - accuracy: 0.8445\n",
      "Epoch 17/40\n",
      "432/432 [==============================] - 0s 600us/step - loss: 0.4915 - accuracy: 0.8503\n",
      "Epoch 18/40\n",
      "432/432 [==============================] - 0s 596us/step - loss: 0.4665 - accuracy: 0.8587\n",
      "Epoch 19/40\n",
      "432/432 [==============================] - 0s 596us/step - loss: 0.4439 - accuracy: 0.8643\n",
      "Epoch 20/40\n",
      "432/432 [==============================] - 0s 597us/step - loss: 0.4269 - accuracy: 0.8664\n",
      "Epoch 21/40\n",
      "432/432 [==============================] - 0s 597us/step - loss: 0.4061 - accuracy: 0.8784\n",
      "Epoch 22/40\n",
      "432/432 [==============================] - 0s 599us/step - loss: 0.3919 - accuracy: 0.8800\n",
      "Epoch 23/40\n",
      "432/432 [==============================] - 0s 597us/step - loss: 0.3732 - accuracy: 0.8866\n",
      "Epoch 24/40\n",
      "432/432 [==============================] - 0s 654us/step - loss: 0.3584 - accuracy: 0.8926\n",
      "Epoch 25/40\n",
      "432/432 [==============================] - 0s 596us/step - loss: 0.3440 - accuracy: 0.8961\n",
      "Epoch 26/40\n",
      "432/432 [==============================] - 0s 593us/step - loss: 0.3289 - accuracy: 0.8982\n",
      "Epoch 27/40\n",
      "432/432 [==============================] - 0s 595us/step - loss: 0.3199 - accuracy: 0.9030\n",
      "Epoch 28/40\n",
      "432/432 [==============================] - 0s 592us/step - loss: 0.3046 - accuracy: 0.9082\n",
      "Epoch 29/40\n",
      "432/432 [==============================] - 0s 594us/step - loss: 0.3004 - accuracy: 0.9071\n",
      "Epoch 30/40\n",
      "432/432 [==============================] - 0s 597us/step - loss: 0.2866 - accuracy: 0.9150\n",
      "Epoch 31/40\n",
      "432/432 [==============================] - 0s 620us/step - loss: 0.2788 - accuracy: 0.9140\n",
      "Epoch 32/40\n",
      "432/432 [==============================] - 0s 710us/step - loss: 0.2670 - accuracy: 0.9171\n",
      "Epoch 33/40\n",
      "432/432 [==============================] - 0s 619us/step - loss: 0.2624 - accuracy: 0.9198\n",
      "Epoch 34/40\n",
      "432/432 [==============================] - 0s 713us/step - loss: 0.2511 - accuracy: 0.9221\n",
      "Epoch 35/40\n",
      "432/432 [==============================] - 0s 629us/step - loss: 0.2467 - accuracy: 0.9226\n",
      "Epoch 36/40\n",
      "432/432 [==============================] - 0s 669us/step - loss: 0.2413 - accuracy: 0.9228\n",
      "Epoch 37/40\n",
      "432/432 [==============================] - 0s 612us/step - loss: 0.2336 - accuracy: 0.9274\n",
      "Epoch 38/40\n",
      "432/432 [==============================] - 0s 608us/step - loss: 0.2221 - accuracy: 0.9318\n",
      "Epoch 39/40\n",
      "432/432 [==============================] - 0s 940us/step - loss: 0.2161 - accuracy: 0.9350\n",
      "Epoch 40/40\n",
      "432/432 [==============================] - 0s 630us/step - loss: 0.2133 - accuracy: 0.9343\n"
     ]
    }
   ],
   "source": [
    "model = tf.keras.models.Sequential(\n",
    "    [\n",
    "        tf.keras.layers.Dense(128, activation=\"relu\"),\n",
    "        tf.keras.layers.Dense(256, activation=\"relu\"),\n",
    "        tf.keras.layers.Dense(26, activation=\"softmax\"),\n",
    "    ]\n",
    ")\n",
    "\n",
    "model.compile(\n",
    "    optimizer=\"adam\", loss=\"sparse_categorical_crossentropy\", metrics=[\"accuracy\"]\n",
    ")\n",
    "\n",
    "history = model.fit(\n",
    "    x_train,\n",
    "    y_train,\n",
    "    epochs=40,\n",
    ")"
   ]
  },
  {
   "cell_type": "code",
   "execution_count": 26,
   "id": "b15b483ee89dc9d6",
   "metadata": {
    "ExecuteTime": {
     "end_time": "2024-01-13T15:27:41.898367Z",
     "start_time": "2024-01-13T15:27:41.826268Z"
    },
    "collapsed": false
   },
   "outputs": [
    {
     "data": {
      "image/png": "[encoded data removed]",
      "text/plain": [
       "<Figure size 640x480 with 1 Axes>"
      ]
     },
     "metadata": {},
     "output_type": "display_data"
    }
   ],
   "source": [
    "# draw a line graph of accuracy and loss over epochs\n",
    "plt.plot(history.history[\"accuracy\"])\n",
    "plt.plot(history.history[\"loss\"])\n",
    "plt.title(\"Model accuracy and loss\")\n",
    "plt.ylabel(\"Accuracy and loss\")\n",
    "plt.xlabel(\"Epoch\")\n",
    "plt.legend([\"Accuracy\", \"Loss\"], loc=\"upper left\")\n",
    "plt.show()"
   ]
  },
  {
   "cell_type": "code",
   "execution_count": 27,
   "id": "5a6c476ccdf9f96e",
   "metadata": {
    "ExecuteTime": {
     "end_time": "2024-01-13T15:27:42.091038Z",
     "start_time": "2024-01-13T15:27:41.898845Z"
    },
    "collapsed": false
   },
   "outputs": [
    {
     "name": "stdout",
     "output_type": "stream",
     "text": [
      "108/108 [==============================] - 0s 383us/step\n",
      "Accuracy: 0.9200463499420626\n",
      "108/108 [==============================] - 0s 351us/step\n",
      "F1: 0.92002652829646\n"
     ]
    }
   ],
   "source": [
    "print(f\"Accuracy: {accuracy_score(y_test, np.argmax(model.predict(x_test), axis=1))}\")\n",
    "print(f\"F1: {f1_score(y_test, np.argmax(model.predict(x_test), axis=1), average='macro')}\")"
   ]
  },
  {
   "cell_type": "code",
   "execution_count": 28,
   "id": "7f98a8b2e6ac64",
   "metadata": {
    "ExecuteTime": {
     "end_time": "2024-01-13T15:27:54.179780Z",
     "start_time": "2024-01-13T15:27:42.097721Z"
    },
    "collapsed": false
   },
   "outputs": [
    {
     "name": "stdout",
     "output_type": "stream",
     "text": [
      "Epoch 1/40\n",
      "489/489 [==============================] - 0s 618us/step - loss: 2.1685 - accuracy: 0.4125\n",
      "Epoch 2/40\n",
      "489/489 [==============================] - 0s 688us/step - loss: 1.2998 - accuracy: 0.6288\n",
      "Epoch 3/40\n",
      "489/489 [==============================] - 0s 629us/step - loss: 1.1167 - accuracy: 0.6825\n",
      "Epoch 4/40\n",
      "489/489 [==============================] - 0s 633us/step - loss: 1.0117 - accuracy: 0.7117\n",
      "Epoch 5/40\n",
      "489/489 [==============================] - 0s 628us/step - loss: 0.9340 - accuracy: 0.7360\n",
      "Epoch 6/40\n",
      "489/489 [==============================] - 0s 628us/step - loss: 0.8667 - accuracy: 0.7526\n",
      "Epoch 7/40\n",
      "489/489 [==============================] - 0s 639us/step - loss: 0.8105 - accuracy: 0.7679\n",
      "Epoch 8/40\n",
      "489/489 [==============================] - 0s 637us/step - loss: 0.7596 - accuracy: 0.7834\n",
      "Epoch 9/40\n",
      "489/489 [==============================] - 0s 654us/step - loss: 0.7172 - accuracy: 0.7928\n",
      "Epoch 10/40\n",
      "489/489 [==============================] - 0s 767us/step - loss: 0.6742 - accuracy: 0.8036\n",
      "Epoch 11/40\n",
      "489/489 [==============================] - 0s 618us/step - loss: 0.6346 - accuracy: 0.8144\n",
      "Epoch 12/40\n",
      "489/489 [==============================] - 0s 607us/step - loss: 0.5973 - accuracy: 0.8227\n",
      "Epoch 13/40\n",
      "489/489 [==============================] - 0s 622us/step - loss: 0.5658 - accuracy: 0.8323\n",
      "Epoch 14/40\n",
      "489/489 [==============================] - 0s 618us/step - loss: 0.5298 - accuracy: 0.8419\n",
      "Epoch 15/40\n",
      "489/489 [==============================] - 0s 605us/step - loss: 0.5076 - accuracy: 0.8490\n",
      "Epoch 16/40\n",
      "489/489 [==============================] - 0s 601us/step - loss: 0.4794 - accuracy: 0.8566\n",
      "Epoch 17/40\n",
      "489/489 [==============================] - 0s 625us/step - loss: 0.4577 - accuracy: 0.8641\n",
      "Epoch 18/40\n",
      "489/489 [==============================] - 0s 686us/step - loss: 0.4341 - accuracy: 0.8707\n",
      "Epoch 19/40\n",
      "489/489 [==============================] - 0s 636us/step - loss: 0.4138 - accuracy: 0.8757\n",
      "Epoch 20/40\n",
      "489/489 [==============================] - 0s 641us/step - loss: 0.3962 - accuracy: 0.8796\n",
      "Epoch 21/40\n",
      "489/489 [==============================] - 0s 642us/step - loss: 0.3815 - accuracy: 0.8861\n",
      "Epoch 22/40\n",
      "489/489 [==============================] - 0s 636us/step - loss: 0.3625 - accuracy: 0.8911\n",
      "Epoch 23/40\n",
      "489/489 [==============================] - 0s 612us/step - loss: 0.3484 - accuracy: 0.8969\n",
      "Epoch 24/40\n",
      "489/489 [==============================] - 0s 663us/step - loss: 0.3352 - accuracy: 0.9005\n",
      "Epoch 25/40\n",
      "489/489 [==============================] - 0s 616us/step - loss: 0.3225 - accuracy: 0.9026\n",
      "Epoch 26/40\n",
      "489/489 [==============================] - 0s 714us/step - loss: 0.3101 - accuracy: 0.9070\n",
      "Epoch 27/40\n",
      "489/489 [==============================] - 0s 615us/step - loss: 0.3005 - accuracy: 0.9092\n",
      "Epoch 28/40\n",
      "489/489 [==============================] - 0s 611us/step - loss: 0.2881 - accuracy: 0.9131\n",
      "Epoch 29/40\n",
      "489/489 [==============================] - 0s 611us/step - loss: 0.2783 - accuracy: 0.9145\n",
      "Epoch 30/40\n",
      "489/489 [==============================] - 0s 609us/step - loss: 0.2707 - accuracy: 0.9171\n",
      "Epoch 31/40\n",
      "489/489 [==============================] - 0s 608us/step - loss: 0.2636 - accuracy: 0.9184\n",
      "Epoch 32/40\n",
      "489/489 [==============================] - 0s 614us/step - loss: 0.2534 - accuracy: 0.9230\n",
      "Epoch 33/40\n",
      "489/489 [==============================] - 0s 613us/step - loss: 0.2456 - accuracy: 0.9229\n",
      "Epoch 34/40\n",
      "489/489 [==============================] - 0s 665us/step - loss: 0.2385 - accuracy: 0.9278\n",
      "Epoch 35/40\n",
      "489/489 [==============================] - 0s 631us/step - loss: 0.2330 - accuracy: 0.9275\n",
      "Epoch 36/40\n",
      "489/489 [==============================] - 0s 633us/step - loss: 0.2239 - accuracy: 0.9302\n",
      "Epoch 37/40\n",
      "489/489 [==============================] - 0s 618us/step - loss: 0.2168 - accuracy: 0.9353\n",
      "Epoch 38/40\n",
      "489/489 [==============================] - 0s 653us/step - loss: 0.2169 - accuracy: 0.9323\n",
      "Epoch 39/40\n",
      "489/489 [==============================] - 0s 633us/step - loss: 0.2090 - accuracy: 0.9364\n",
      "Epoch 40/40\n",
      "489/489 [==============================] - 0s 652us/step - loss: 0.1989 - accuracy: 0.9376\n"
     ]
    }
   ],
   "source": [
    "model = tf.keras.models.Sequential(\n",
    "    [\n",
    "        tf.keras.layers.Dense(128, activation=\"relu\"),\n",
    "        tf.keras.layers.Dense(256, activation=\"relu\"),\n",
    "        tf.keras.layers.Dense(26, activation=\"softmax\"),\n",
    "    ]\n",
    ")\n",
    "\n",
    "model.compile(\n",
    "    optimizer=\"adam\", loss=\"sparse_categorical_crossentropy\", metrics=[\"accuracy\"]\n",
    ")\n",
    "\n",
    "history = model.fit(\n",
    "    x_train_over,\n",
    "    y_train_over,\n",
    "    epochs=40,\n",
    ")"
   ]
  },
  {
   "cell_type": "code",
   "execution_count": 29,
   "id": "22467be2c5515380",
   "metadata": {
    "ExecuteTime": {
     "end_time": "2024-01-13T15:27:54.259819Z",
     "start_time": "2024-01-13T15:27:54.188352Z"
    },
    "collapsed": false
   },
   "outputs": [
    {
     "data": {
      "image/png": "[encoded data removed]",
      "text/plain": [
       "<Figure size 640x480 with 1 Axes>"
      ]
     },
     "metadata": {},
     "output_type": "display_data"
    }
   ],
   "source": [
    "# draw a line graph of accuracy and loss over epochs\n",
    "plt.plot(history.history[\"accuracy\"])\n",
    "plt.plot(history.history[\"loss\"])\n",
    "plt.title(\"Model accuracy and loss\")\n",
    "plt.ylabel(\"Accuracy and loss\")\n",
    "plt.xlabel(\"Epoch\")\n",
    "plt.legend([\"Accuracy\", \"Loss\"], loc=\"upper left\")\n",
    "plt.show()"
   ]
  },
  {
   "cell_type": "code",
   "execution_count": 30,
   "id": "80090fdd534c526c",
   "metadata": {
    "ExecuteTime": {
     "end_time": "2024-01-13T15:27:54.455145Z",
     "start_time": "2024-01-13T15:27:54.262248Z"
    },
    "collapsed": false
   },
   "outputs": [
    {
     "name": "stdout",
     "output_type": "stream",
     "text": [
      "123/123 [==============================] - 0s 385us/step\n",
      "Accuracy: 0.9242191500256016\n",
      "123/123 [==============================] - 0s 364us/step\n",
      "F1: 0.9236171067294132\n"
     ]
    }
   ],
   "source": [
    "print(\n",
    "    f\"Accuracy: {accuracy_score(y_test_over, np.argmax(model.predict(x_test_over), axis=1))}\"\n",
    ")\n",
    "print(\n",
    "    f\"F1: {f1_score(y_test_over, np.argmax(model.predict(x_test_over), axis=1), average='macro')}\"\n",
    ")"
   ]
  },
  {
   "cell_type": "code",
   "execution_count": 31,
   "id": "238300ab64ffb24a",
   "metadata": {
    "ExecuteTime": {
     "end_time": "2024-01-13T15:28:03.028189Z",
     "start_time": "2024-01-13T15:27:54.458277Z"
    },
    "collapsed": false
   },
   "outputs": [
    {
     "name": "stdout",
     "output_type": "stream",
     "text": [
      "Epoch 1/40\n",
      "340/340 [==============================] - 0s 649us/step - loss: 2.4040 - accuracy: 0.3498\n",
      "Epoch 2/40\n",
      "340/340 [==============================] - 0s 645us/step - loss: 1.4991 - accuracy: 0.5820\n",
      "Epoch 3/40\n",
      "340/340 [==============================] - 0s 720us/step - loss: 1.2544 - accuracy: 0.6435\n",
      "Epoch 4/40\n",
      "340/340 [==============================] - 0s 627us/step - loss: 1.1415 - accuracy: 0.6771\n",
      "Epoch 5/40\n",
      "340/340 [==============================] - 0s 624us/step - loss: 1.0639 - accuracy: 0.6995\n",
      "Epoch 6/40\n",
      "340/340 [==============================] - 0s 622us/step - loss: 1.0058 - accuracy: 0.7159\n",
      "Epoch 7/40\n",
      "340/340 [==============================] - 0s 783us/step - loss: 0.9544 - accuracy: 0.7306\n",
      "Epoch 8/40\n",
      "340/340 [==============================] - 0s 807us/step - loss: 0.9118 - accuracy: 0.7372\n",
      "Epoch 9/40\n",
      "340/340 [==============================] - 0s 882us/step - loss: 0.8681 - accuracy: 0.7523\n",
      "Epoch 10/40\n",
      "340/340 [==============================] - 0s 634us/step - loss: 0.8280 - accuracy: 0.7606\n",
      "Epoch 11/40\n",
      "340/340 [==============================] - 0s 681us/step - loss: 0.7890 - accuracy: 0.7712\n",
      "Epoch 12/40\n",
      "340/340 [==============================] - 0s 665us/step - loss: 0.7503 - accuracy: 0.7813\n",
      "Epoch 13/40\n",
      "340/340 [==============================] - 0s 640us/step - loss: 0.7111 - accuracy: 0.7929\n",
      "Epoch 14/40\n",
      "340/340 [==============================] - 0s 718us/step - loss: 0.6777 - accuracy: 0.7964\n",
      "Epoch 15/40\n",
      "340/340 [==============================] - 0s 657us/step - loss: 0.6447 - accuracy: 0.8102\n",
      "Epoch 16/40\n",
      "340/340 [==============================] - 0s 645us/step - loss: 0.6139 - accuracy: 0.8203\n",
      "Epoch 17/40\n",
      "340/340 [==============================] - 0s 632us/step - loss: 0.5861 - accuracy: 0.8222\n",
      "Epoch 18/40\n",
      "340/340 [==============================] - 0s 739us/step - loss: 0.5602 - accuracy: 0.8353\n",
      "Epoch 19/40\n",
      "340/340 [==============================] - 0s 651us/step - loss: 0.5379 - accuracy: 0.8361\n",
      "Epoch 20/40\n",
      "340/340 [==============================] - 0s 655us/step - loss: 0.5198 - accuracy: 0.8428\n",
      "Epoch 21/40\n",
      "340/340 [==============================] - 0s 624us/step - loss: 0.4892 - accuracy: 0.8536\n",
      "Epoch 22/40\n",
      "340/340 [==============================] - 0s 771us/step - loss: 0.4789 - accuracy: 0.8551\n",
      "Epoch 23/40\n",
      "340/340 [==============================] - 0s 645us/step - loss: 0.4553 - accuracy: 0.8602\n",
      "Epoch 24/40\n",
      "340/340 [==============================] - 0s 704us/step - loss: 0.4350 - accuracy: 0.8683\n",
      "Epoch 25/40\n",
      "340/340 [==============================] - 0s 673us/step - loss: 0.4258 - accuracy: 0.8706\n",
      "Epoch 26/40\n",
      "340/340 [==============================] - 0s 795us/step - loss: 0.4060 - accuracy: 0.8767\n",
      "Epoch 27/40\n",
      "340/340 [==============================] - 0s 652us/step - loss: 0.3937 - accuracy: 0.8814\n",
      "Epoch 28/40\n",
      "340/340 [==============================] - 0s 662us/step - loss: 0.3793 - accuracy: 0.8872\n",
      "Epoch 29/40\n",
      "340/340 [==============================] - 0s 655us/step - loss: 0.3660 - accuracy: 0.8913\n",
      "Epoch 30/40\n",
      "340/340 [==============================] - 0s 634us/step - loss: 0.3545 - accuracy: 0.8927\n",
      "Epoch 31/40\n",
      "340/340 [==============================] - 0s 746us/step - loss: 0.3460 - accuracy: 0.8963\n",
      "Epoch 32/40\n",
      "340/340 [==============================] - 0s 680us/step - loss: 0.3356 - accuracy: 0.8987\n",
      "Epoch 33/40\n",
      "340/340 [==============================] - 0s 958us/step - loss: 0.3229 - accuracy: 0.9024\n",
      "Epoch 34/40\n",
      "340/340 [==============================] - 0s 669us/step - loss: 0.3147 - accuracy: 0.9017\n",
      "Epoch 35/40\n",
      "340/340 [==============================] - 0s 659us/step - loss: 0.3050 - accuracy: 0.9086\n",
      "Epoch 36/40\n",
      "340/340 [==============================] - 0s 666us/step - loss: 0.2959 - accuracy: 0.9107\n",
      "Epoch 37/40\n",
      "340/340 [==============================] - 0s 663us/step - loss: 0.2861 - accuracy: 0.9125\n",
      "Epoch 38/40\n",
      "340/340 [==============================] - 0s 716us/step - loss: 0.2782 - accuracy: 0.9140\n",
      "Epoch 39/40\n",
      "340/340 [==============================] - 0s 664us/step - loss: 0.2735 - accuracy: 0.9146\n",
      "Epoch 40/40\n",
      "340/340 [==============================] - 0s 628us/step - loss: 0.2664 - accuracy: 0.9183\n"
     ]
    }
   ],
   "source": [
    "model = tf.keras.models.Sequential(\n",
    "    [\n",
    "        tf.keras.layers.Dense(128, activation=\"relu\"),\n",
    "        tf.keras.layers.Dense(256, activation=\"relu\"),\n",
    "        tf.keras.layers.Dense(26, activation=\"softmax\"),\n",
    "    ]\n",
    ")\n",
    "\n",
    "model.compile(\n",
    "    optimizer=\"adam\", loss=\"sparse_categorical_crossentropy\", metrics=[\"accuracy\"]\n",
    ")\n",
    "\n",
    "history = model.fit(\n",
    "    x_train_under,\n",
    "    y_train_under,\n",
    "    epochs=40,\n",
    ")"
   ]
  },
  {
   "cell_type": "code",
   "execution_count": 32,
   "id": "ecb39c3bce6c764d",
   "metadata": {
    "ExecuteTime": {
     "end_time": "2024-01-13T15:28:03.099983Z",
     "start_time": "2024-01-13T15:28:03.032870Z"
    },
    "collapsed": false
   },
   "outputs": [
    {
     "data": {
      "image/png": "[encoded data removed]",
      "text/plain": [
       "<Figure size 640x480 with 1 Axes>"
      ]
     },
     "metadata": {},
     "output_type": "display_data"
    }
   ],
   "source": [
    "# draw a line graph of accuracy and loss over epochs\n",
    "plt.plot(history.history[\"accuracy\"])\n",
    "plt.plot(history.history[\"loss\"])\n",
    "plt.title(\"Model accuracy and loss\")\n",
    "plt.ylabel(\"Accuracy and loss\")\n",
    "plt.xlabel(\"Epoch\")\n",
    "plt.legend([\"Accuracy\", \"Loss\"], loc=\"upper left\")\n",
    "plt.show()"
   ]
  },
  {
   "cell_type": "code",
   "execution_count": 33,
   "id": "12cadb0327d0c44",
   "metadata": {
    "ExecuteTime": {
     "end_time": "2024-01-13T15:28:03.248059Z",
     "start_time": "2024-01-13T15:28:03.101480Z"
    },
    "collapsed": false
   },
   "outputs": [
    {
     "name": "stdout",
     "output_type": "stream",
     "text": [
      "85/85 [==============================] - 0s 394us/step\n",
      "Accuracy: 0.9077205882352941\n",
      "85/85 [==============================] - 0s 394us/step\n",
      "F1: 0.9079903112081251\n"
     ]
    }
   ],
   "source": [
    "print(\n",
    "    f\"Accuracy: {accuracy_score(y_test_under, np.argmax(model.predict(x_test_under), axis=1))}\"\n",
    ")\n",
    "print(\n",
    "    f\"F1: {f1_score(y_test_under, np.argmax(model.predict(x_test_under), axis=1), average='macro')}\"\n",
    ")"
   ]
  },
  {
   "cell_type": "code",
   "execution_count": 34,
   "id": "de2df25d9f730828",
   "metadata": {
    "ExecuteTime": {
     "end_time": "2024-01-13T15:28:03.254885Z",
     "start_time": "2024-01-13T15:28:03.249378Z"
    },
    "collapsed": false
   },
   "outputs": [
    {
     "data": {
      "text/html": [
       "<style>#sk-container-id-1 {color: black;}#sk-container-id-1 pre{padding: 0;}#sk-container-id-1 div.sk-toggleable {background-color: white;}#sk-container-id-1 label.sk-toggleable__label {cursor: pointer;display: block;width: 100%;margin-bottom: 0;padding: 0.3em;box-sizing: border-box;text-align: center;}#sk-container-id-1 label.sk-toggleable__label-arrow:before {content: \"▸\";float: left;margin-right: 0.25em;color: #696969;}#sk-container-id-1 label.sk-toggleable__label-arrow:hover:before {color: black;}#sk-container-id-1 div.sk-estimator:hover label.sk-toggleable__label-arrow:before {color: black;}#sk-container-id-1 div.sk-toggleable__content {max-height: 0;max-width: 0;overflow: hidden;text-align: left;background-color: #f0f8ff;}#sk-container-id-1 div.sk-toggleable__content pre {margin: 0.2em;color: black;border-radius: 0.25em;background-color: #f0f8ff;}#sk-container-id-1 input.sk-toggleable__control:checked~div.sk-toggleable__content {max-height: 200px;max-width: 100%;overflow: auto;}#sk-container-id-1 input.sk-toggleable__control:checked~label.sk-toggleable__label-arrow:before {content: \"▾\";}#sk-container-id-1 div.sk-estimator input.sk-toggleable__control:checked~label.sk-toggleable__label {background-color: #d4ebff;}#sk-container-id-1 div.sk-label input.sk-toggleable__control:checked~label.sk-toggleable__label {background-color: #d4ebff;}#sk-container-id-1 input.sk-hidden--visually {border: 0;clip: rect(1px 1px 1px 1px);clip: rect(1px, 1px, 1px, 1px);height: 1px;margin: -1px;overflow: hidden;padding: 0;position: absolute;width: 1px;}#sk-container-id-1 div.sk-estimator {font-family: monospace;background-color: #f0f8ff;border: 1px dotted black;border-radius: 0.25em;box-sizing: border-box;margin-bottom: 0.5em;}#sk-container-id-1 div.sk-estimator:hover {background-color: #d4ebff;}#sk-container-id-1 div.sk-parallel-item::after {content: \"\";width: 100%;border-bottom: 1px solid gray;flex-grow: 1;}#sk-container-id-1 div.sk-label:hover label.sk-toggleable__label {background-color: #d4ebff;}#sk-container-id-1 div.sk-serial::before {content: \"\";position: absolute;border-left: 1px solid gray;box-sizing: border-box;top: 0;bottom: 0;left: 50%;z-index: 0;}#sk-container-id-1 div.sk-serial {display: flex;flex-direction: column;align-items: center;background-color: white;padding-right: 0.2em;padding-left: 0.2em;position: relative;}#sk-container-id-1 div.sk-item {position: relative;z-index: 1;}#sk-container-id-1 div.sk-parallel {display: flex;align-items: stretch;justify-content: center;background-color: white;position: relative;}#sk-container-id-1 div.sk-item::before, #sk-container-id-1 div.sk-parallel-item::before {content: \"\";position: absolute;border-left: 1px solid gray;box-sizing: border-box;top: 0;bottom: 0;left: 50%;z-index: -1;}#sk-container-id-1 div.sk-parallel-item {display: flex;flex-direction: column;z-index: 1;position: relative;background-color: white;}#sk-container-id-1 div.sk-parallel-item:first-child::after {align-self: flex-end;width: 50%;}#sk-container-id-1 div.sk-parallel-item:last-child::after {align-self: flex-start;width: 50%;}#sk-container-id-1 div.sk-parallel-item:only-child::after {width: 0;}#sk-container-id-1 div.sk-dashed-wrapped {border: 1px dashed gray;margin: 0 0.4em 0.5em 0.4em;box-sizing: border-box;padding-bottom: 0.4em;background-color: white;}#sk-container-id-1 div.sk-label label {font-family: monospace;font-weight: bold;display: inline-block;line-height: 1.2em;}#sk-container-id-1 div.sk-label-container {text-align: center;}#sk-container-id-1 div.sk-container {/* jupyter's `normalize.less` sets `[hidden] { display: none; }` but bootstrap.min.css set `[hidden] { display: none !important; }` so we also need the `!important` here to be able to override the default hidden behavior on the sphinx rendered scikit-learn.org. See: https://github.com/scikit-learn/scikit-learn/issues/21755 */display: inline-block !important;position: relative;}#sk-container-id-1 div.sk-text-repr-fallback {display: none;}</style><div id=\"sk-container-id-1\" class=\"sk-top-container\"><div class=\"sk-text-repr-fallback\"><pre>KNeighborsClassifier()</pre><b>In a Jupyter environment, please rerun this cell to show the HTML representation or trust the notebook. <br />On GitHub, the HTML representation is unable to render, please try loading this page with nbviewer.org.</b></div><div class=\"sk-container\" hidden><div class=\"sk-item\"><div class=\"sk-estimator sk-toggleable\"><input class=\"sk-toggleable__control sk-hidden--visually\" id=\"sk-estimator-id-1\" type=\"checkbox\" checked><label for=\"sk-estimator-id-1\" class=\"sk-toggleable__label sk-toggleable__label-arrow\">KNeighborsClassifier</label><div class=\"sk-toggleable__content\"><pre>KNeighborsClassifier()</pre></div></div></div></div></div>"
      ],
      "text/plain": [
       "KNeighborsClassifier()"
      ]
     },
     "execution_count": 34,
     "metadata": {},
     "output_type": "execute_result"
    }
   ],
   "source": [
    "knn = KNeighborsClassifier()\n",
    "knn.fit(x_train, y_train)"
   ]
  },
  {
   "cell_type": "code",
   "execution_count": 35,
   "id": "76c4bbc894b36874",
   "metadata": {
    "ExecuteTime": {
     "end_time": "2024-01-13T15:28:03.767004Z",
     "start_time": "2024-01-13T15:28:03.269140Z"
    },
    "collapsed": false
   },
   "outputs": [
    {
     "name": "stdout",
     "output_type": "stream",
     "text": [
      "Accuracy score:  0.9426419466975666\n",
      "F1 score:  0.9429268862393503\n"
     ]
    }
   ],
   "source": [
    "y_pred = knn.predict(x_test)\n",
    "print(\"Accuracy score: \", accuracy_score(y_test, y_pred))\n",
    "print(\"F1 score: \", f1_score(y_test, y_pred, average=\"macro\"))"
   ]
  },
  {
   "cell_type": "code",
   "execution_count": 36,
   "id": "78bd814d",
   "metadata": {
    "ExecuteTime": {
     "end_time": "2024-01-13T15:28:03.775155Z",
     "start_time": "2024-01-13T15:28:03.770225Z"
    }
   },
   "outputs": [
    {
     "data": {
      "text/html": [
       "<style>#sk-container-id-2 {color: black;}#sk-container-id-2 pre{padding: 0;}#sk-container-id-2 div.sk-toggleable {background-color: white;}#sk-container-id-2 label.sk-toggleable__label {cursor: pointer;display: block;width: 100%;margin-bottom: 0;padding: 0.3em;box-sizing: border-box;text-align: center;}#sk-container-id-2 label.sk-toggleable__label-arrow:before {content: \"▸\";float: left;margin-right: 0.25em;color: #696969;}#sk-container-id-2 label.sk-toggleable__label-arrow:hover:before {color: black;}#sk-container-id-2 div.sk-estimator:hover label.sk-toggleable__label-arrow:before {color: black;}#sk-container-id-2 div.sk-toggleable__content {max-height: 0;max-width: 0;overflow: hidden;text-align: left;background-color: #f0f8ff;}#sk-container-id-2 div.sk-toggleable__content pre {margin: 0.2em;color: black;border-radius: 0.25em;background-color: #f0f8ff;}#sk-container-id-2 input.sk-toggleable__control:checked~div.sk-toggleable__content {max-height: 200px;max-width: 100%;overflow: auto;}#sk-container-id-2 input.sk-toggleable__control:checked~label.sk-toggleable__label-arrow:before {content: \"▾\";}#sk-container-id-2 div.sk-estimator input.sk-toggleable__control:checked~label.sk-toggleable__label {background-color: #d4ebff;}#sk-container-id-2 div.sk-label input.sk-toggleable__control:checked~label.sk-toggleable__label {background-color: #d4ebff;}#sk-container-id-2 input.sk-hidden--visually {border: 0;clip: rect(1px 1px 1px 1px);clip: rect(1px, 1px, 1px, 1px);height: 1px;margin: -1px;overflow: hidden;padding: 0;position: absolute;width: 1px;}#sk-container-id-2 div.sk-estimator {font-family: monospace;background-color: #f0f8ff;border: 1px dotted black;border-radius: 0.25em;box-sizing: border-box;margin-bottom: 0.5em;}#sk-container-id-2 div.sk-estimator:hover {background-color: #d4ebff;}#sk-container-id-2 div.sk-parallel-item::after {content: \"\";width: 100%;border-bottom: 1px solid gray;flex-grow: 1;}#sk-container-id-2 div.sk-label:hover label.sk-toggleable__label {background-color: #d4ebff;}#sk-container-id-2 div.sk-serial::before {content: \"\";position: absolute;border-left: 1px solid gray;box-sizing: border-box;top: 0;bottom: 0;left: 50%;z-index: 0;}#sk-container-id-2 div.sk-serial {display: flex;flex-direction: column;align-items: center;background-color: white;padding-right: 0.2em;padding-left: 0.2em;position: relative;}#sk-container-id-2 div.sk-item {position: relative;z-index: 1;}#sk-container-id-2 div.sk-parallel {display: flex;align-items: stretch;justify-content: center;background-color: white;position: relative;}#sk-container-id-2 div.sk-item::before, #sk-container-id-2 div.sk-parallel-item::before {content: \"\";position: absolute;border-left: 1px solid gray;box-sizing: border-box;top: 0;bottom: 0;left: 50%;z-index: -1;}#sk-container-id-2 div.sk-parallel-item {display: flex;flex-direction: column;z-index: 1;position: relative;background-color: white;}#sk-container-id-2 div.sk-parallel-item:first-child::after {align-self: flex-end;width: 50%;}#sk-container-id-2 div.sk-parallel-item:last-child::after {align-self: flex-start;width: 50%;}#sk-container-id-2 div.sk-parallel-item:only-child::after {width: 0;}#sk-container-id-2 div.sk-dashed-wrapped {border: 1px dashed gray;margin: 0 0.4em 0.5em 0.4em;box-sizing: border-box;padding-bottom: 0.4em;background-color: white;}#sk-container-id-2 div.sk-label label {font-family: monospace;font-weight: bold;display: inline-block;line-height: 1.2em;}#sk-container-id-2 div.sk-label-container {text-align: center;}#sk-container-id-2 div.sk-container {/* jupyter's `normalize.less` sets `[hidden] { display: none; }` but bootstrap.min.css set `[hidden] { display: none !important; }` so we also need the `!important` here to be able to override the default hidden behavior on the sphinx rendered scikit-learn.org. See: https://github.com/scikit-learn/scikit-learn/issues/21755 */display: inline-block !important;position: relative;}#sk-container-id-2 div.sk-text-repr-fallback {display: none;}</style><div id=\"sk-container-id-2\" class=\"sk-top-container\"><div class=\"sk-text-repr-fallback\"><pre>KNeighborsClassifier()</pre><b>In a Jupyter environment, please rerun this cell to show the HTML representation or trust the notebook. <br />On GitHub, the HTML representation is unable to render, please try loading this page with nbviewer.org.</b></div><div class=\"sk-container\" hidden><div class=\"sk-item\"><div class=\"sk-estimator sk-toggleable\"><input class=\"sk-toggleable__control sk-hidden--visually\" id=\"sk-estimator-id-2\" type=\"checkbox\" checked><label for=\"sk-estimator-id-2\" class=\"sk-toggleable__label sk-toggleable__label-arrow\">KNeighborsClassifier</label><div class=\"sk-toggleable__content\"><pre>KNeighborsClassifier()</pre></div></div></div></div></div>"
      ],
      "text/plain": [
       "KNeighborsClassifier()"
      ]
     },
     "execution_count": 36,
     "metadata": {},
     "output_type": "execute_result"
    }
   ],
   "source": [
    "knn.fit(x_train_under, y_train_under)"
   ]
  },
  {
   "cell_type": "code",
   "execution_count": 37,
   "id": "e667df6a",
   "metadata": {
    "ExecuteTime": {
     "end_time": "2024-01-13T15:28:03.851757Z",
     "start_time": "2024-01-13T15:28:03.774346Z"
    }
   },
   "outputs": [
    {
     "name": "stdout",
     "output_type": "stream",
     "text": [
      "Accuracy score:  0.9345588235294118\n",
      "F1 score:  0.9347468892840806\n"
     ]
    }
   ],
   "source": [
    "y_pred = knn.predict(x_test_under)\n",
    "print(\"Accuracy score: \", accuracy_score(y_test_under, y_pred))\n",
    "print(\"F1 score: \", f1_score(y_test_under, y_pred, average=\"macro\"))"
   ]
  },
  {
   "cell_type": "code",
   "execution_count": 38,
   "id": "5d9f2988",
   "metadata": {
    "ExecuteTime": {
     "end_time": "2024-01-13T15:28:03.858179Z",
     "start_time": "2024-01-13T15:28:03.853859Z"
    }
   },
   "outputs": [
    {
     "data": {
      "text/html": [
       "<style>#sk-container-id-3 {color: black;}#sk-container-id-3 pre{padding: 0;}#sk-container-id-3 div.sk-toggleable {background-color: white;}#sk-container-id-3 label.sk-toggleable__label {cursor: pointer;display: block;width: 100%;margin-bottom: 0;padding: 0.3em;box-sizing: border-box;text-align: center;}#sk-container-id-3 label.sk-toggleable__label-arrow:before {content: \"▸\";float: left;margin-right: 0.25em;color: #696969;}#sk-container-id-3 label.sk-toggleable__label-arrow:hover:before {color: black;}#sk-container-id-3 div.sk-estimator:hover label.sk-toggleable__label-arrow:before {color: black;}#sk-container-id-3 div.sk-toggleable__content {max-height: 0;max-width: 0;overflow: hidden;text-align: left;background-color: #f0f8ff;}#sk-container-id-3 div.sk-toggleable__content pre {margin: 0.2em;color: black;border-radius: 0.25em;background-color: #f0f8ff;}#sk-container-id-3 input.sk-toggleable__control:checked~div.sk-toggleable__content {max-height: 200px;max-width: 100%;overflow: auto;}#sk-container-id-3 input.sk-toggleable__control:checked~label.sk-toggleable__label-arrow:before {content: \"▾\";}#sk-container-id-3 div.sk-estimator input.sk-toggleable__control:checked~label.sk-toggleable__label {background-color: #d4ebff;}#sk-container-id-3 div.sk-label input.sk-toggleable__control:checked~label.sk-toggleable__label {background-color: #d4ebff;}#sk-container-id-3 input.sk-hidden--visually {border: 0;clip: rect(1px 1px 1px 1px);clip: rect(1px, 1px, 1px, 1px);height: 1px;margin: -1px;overflow: hidden;padding: 0;position: absolute;width: 1px;}#sk-container-id-3 div.sk-estimator {font-family: monospace;background-color: #f0f8ff;border: 1px dotted black;border-radius: 0.25em;box-sizing: border-box;margin-bottom: 0.5em;}#sk-container-id-3 div.sk-estimator:hover {background-color: #d4ebff;}#sk-container-id-3 div.sk-parallel-item::after {content: \"\";width: 100%;border-bottom: 1px solid gray;flex-grow: 1;}#sk-container-id-3 div.sk-label:hover label.sk-toggleable__label {background-color: #d4ebff;}#sk-container-id-3 div.sk-serial::before {content: \"\";position: absolute;border-left: 1px solid gray;box-sizing: border-box;top: 0;bottom: 0;left: 50%;z-index: 0;}#sk-container-id-3 div.sk-serial {display: flex;flex-direction: column;align-items: center;background-color: white;padding-right: 0.2em;padding-left: 0.2em;position: relative;}#sk-container-id-3 div.sk-item {position: relative;z-index: 1;}#sk-container-id-3 div.sk-parallel {display: flex;align-items: stretch;justify-content: center;background-color: white;position: relative;}#sk-container-id-3 div.sk-item::before, #sk-container-id-3 div.sk-parallel-item::before {content: \"\";position: absolute;border-left: 1px solid gray;box-sizing: border-box;top: 0;bottom: 0;left: 50%;z-index: -1;}#sk-container-id-3 div.sk-parallel-item {display: flex;flex-direction: column;z-index: 1;position: relative;background-color: white;}#sk-container-id-3 div.sk-parallel-item:first-child::after {align-self: flex-end;width: 50%;}#sk-container-id-3 div.sk-parallel-item:last-child::after {align-self: flex-start;width: 50%;}#sk-container-id-3 div.sk-parallel-item:only-child::after {width: 0;}#sk-container-id-3 div.sk-dashed-wrapped {border: 1px dashed gray;margin: 0 0.4em 0.5em 0.4em;box-sizing: border-box;padding-bottom: 0.4em;background-color: white;}#sk-container-id-3 div.sk-label label {font-family: monospace;font-weight: bold;display: inline-block;line-height: 1.2em;}#sk-container-id-3 div.sk-label-container {text-align: center;}#sk-container-id-3 div.sk-container {/* jupyter's `normalize.less` sets `[hidden] { display: none; }` but bootstrap.min.css set `[hidden] { display: none !important; }` so we also need the `!important` here to be able to override the default hidden behavior on the sphinx rendered scikit-learn.org. See: https://github.com/scikit-learn/scikit-learn/issues/21755 */display: inline-block !important;position: relative;}#sk-container-id-3 div.sk-text-repr-fallback {display: none;}</style><div id=\"sk-container-id-3\" class=\"sk-top-container\"><div class=\"sk-text-repr-fallback\"><pre>KNeighborsClassifier()</pre><b>In a Jupyter environment, please rerun this cell to show the HTML representation or trust the notebook. <br />On GitHub, the HTML representation is unable to render, please try loading this page with nbviewer.org.</b></div><div class=\"sk-container\" hidden><div class=\"sk-item\"><div class=\"sk-estimator sk-toggleable\"><input class=\"sk-toggleable__control sk-hidden--visually\" id=\"sk-estimator-id-3\" type=\"checkbox\" checked><label for=\"sk-estimator-id-3\" class=\"sk-toggleable__label sk-toggleable__label-arrow\">KNeighborsClassifier</label><div class=\"sk-toggleable__content\"><pre>KNeighborsClassifier()</pre></div></div></div></div></div>"
      ],
      "text/plain": [
       "KNeighborsClassifier()"
      ]
     },
     "execution_count": 38,
     "metadata": {},
     "output_type": "execute_result"
    }
   ],
   "source": [
    "knn.fit(x_train_over, y_train_over)"
   ]
  },
  {
   "cell_type": "code",
   "execution_count": 39,
   "id": "77addc74",
   "metadata": {
    "ExecuteTime": {
     "end_time": "2024-01-13T15:28:03.977020Z",
     "start_time": "2024-01-13T15:28:03.858651Z"
    }
   },
   "outputs": [
    {
     "name": "stdout",
     "output_type": "stream",
     "text": [
      "Accuracy score:  0.9485407066052227\n",
      "F1 score:  0.947777013009272\n"
     ]
    }
   ],
   "source": [
    "y_pred = knn.predict(x_test_over)\n",
    "print(\"Accuracy score: \", accuracy_score(y_test_over, y_pred))\n",
    "print(\"F1 score: \", f1_score(y_test_over, y_pred, average=\"macro\"))"
   ]
  },
  {
   "cell_type": "code",
   "execution_count": 40,
   "id": "a91a22cf9da89c84",
   "metadata": {
    "ExecuteTime": {
     "end_time": "2024-01-13T15:28:06.721268Z",
     "start_time": "2024-01-13T15:28:03.979124Z"
    },
    "collapsed": false
   },
   "outputs": [
    {
     "data": {
      "text/plain": [
       "{'n_neighbors': 3}"
      ]
     },
     "execution_count": 40,
     "metadata": {},
     "output_type": "execute_result"
    }
   ],
   "source": [
    "param_grid = {\"n_neighbors\": [3, 5, 7, 9, 11, 13, 15]}\n",
    "grid = GridSearchCV(knn, param_grid, n_jobs=-1)\n",
    "grid.fit(x_train, y_train)\n",
    "grid.best_params_"
   ]
  },
  {
   "cell_type": "code",
   "execution_count": 41,
   "id": "13cfea9a4686b67d",
   "metadata": {
    "ExecuteTime": {
     "end_time": "2024-01-13T15:28:07.323833Z",
     "start_time": "2024-01-13T15:28:06.722654Z"
    },
    "collapsed": false
   },
   "outputs": [
    {
     "data": {
      "text/plain": [
       "{'n_neighbors': 3}"
      ]
     },
     "execution_count": 41,
     "metadata": {},
     "output_type": "execute_result"
    }
   ],
   "source": [
    "grid.fit(x_train_under, y_train_under)\n",
    "grid.best_params_"
   ]
  },
  {
   "cell_type": "code",
   "execution_count": 42,
   "id": "6b5e7023",
   "metadata": {
    "ExecuteTime": {
     "end_time": "2024-01-13T15:28:08.308077Z",
     "start_time": "2024-01-13T15:28:07.324894Z"
    }
   },
   "outputs": [
    {
     "data": {
      "text/plain": [
       "{'n_neighbors': 3}"
      ]
     },
     "execution_count": 42,
     "metadata": {},
     "output_type": "execute_result"
    }
   ],
   "source": [
    "grid.fit(x_train_over, y_train_over)\n",
    "grid.best_params_"
   ]
  }
 ],
 "metadata": {
  "kernelspec": {
   "display_name": "Python 3",
   "language": "python",
   "name": "python3"
  },
  "language_info": {
   "codemirror_mode": {
    "name": "ipython",
    "version": 3
   },
   "file_extension": ".py",
   "mimetype": "text/x-python",
   "name": "python",
   "nbconvert_exporter": "python",
   "pygments_lexer": "ipython3",
   "version": "3.10.10"
  }
 },
 "nbformat": 4,
 "nbformat_minor": 5
}
