{
 "cells": [
  {
   "cell_type": "code",
   "execution_count": 1,
   "id": "67f50e65c9abcec",
   "metadata": {
    "ExecuteTime": {
     "end_time": "2023-12-23T16:11:26.019218900Z",
     "start_time": "2023-12-23T16:11:23.931563400Z"
    },
    "collapsed": false
   },
   "outputs": [
    {
     "name": "stdout",
     "output_type": "stream",
     "text": [
      "Requirement already satisfied: tensorflow in c:\\users\\vumir\\pycharmprojects\\pro1d\\.venv\\lib\\site-packages (2.15.0)\n",
      "Requirement already satisfied: scikit-learn in c:\\users\\vumir\\pycharmprojects\\pro1d\\.venv\\lib\\site-packages (1.3.2)\n",
      "Requirement already satisfied: pandas in c:\\users\\vumir\\pycharmprojects\\pro1d\\.venv\\lib\\site-packages (2.1.4)\n",
      "Requirement already satisfied: matplotlib in c:\\users\\vumir\\pycharmprojects\\pro1d\\.venv\\lib\\site-packages (3.8.2)\n",
      "Requirement already satisfied: imbalanced-learn in c:\\users\\vumir\\pycharmprojects\\pro1d\\.venv\\lib\\site-packages (0.11.0)\n",
      "Requirement already satisfied: tensorflow-intel==2.15.0 in c:\\users\\vumir\\pycharmprojects\\pro1d\\.venv\\lib\\site-packages (from tensorflow) (2.15.0)\n",
      "Requirement already satisfied: absl-py>=1.0.0 in c:\\users\\vumir\\pycharmprojects\\pro1d\\.venv\\lib\\site-packages (from tensorflow-intel==2.15.0->tensorflow) (2.0.0)\n",
      "Requirement already satisfied: astunparse>=1.6.0 in c:\\users\\vumir\\pycharmprojects\\pro1d\\.venv\\lib\\site-packages (from tensorflow-intel==2.15.0->tensorflow) (1.6.3)\n",
      "Requirement already satisfied: flatbuffers>=23.5.26 in c:\\users\\vumir\\pycharmprojects\\pro1d\\.venv\\lib\\site-packages (from tensorflow-intel==2.15.0->tensorflow) (23.5.26)\n",
      "Requirement already satisfied: gast!=0.5.0,!=0.5.1,!=0.5.2,>=0.2.1 in c:\\users\\vumir\\pycharmprojects\\pro1d\\.venv\\lib\\site-packages (from tensorflow-intel==2.15.0->tensorflow) (0.5.4)\n",
      "Requirement already satisfied: google-pasta>=0.1.1 in c:\\users\\vumir\\pycharmprojects\\pro1d\\.venv\\lib\\site-packages (from tensorflow-intel==2.15.0->tensorflow) (0.2.0)\n",
      "Requirement already satisfied: h5py>=2.9.0 in c:\\users\\vumir\\pycharmprojects\\pro1d\\.venv\\lib\\site-packages (from tensorflow-intel==2.15.0->tensorflow) (3.10.0)\n",
      "Requirement already satisfied: libclang>=13.0.0 in c:\\users\\vumir\\pycharmprojects\\pro1d\\.venv\\lib\\site-packages (from tensorflow-intel==2.15.0->tensorflow) (16.0.6)\n",
      "Requirement already satisfied: ml-dtypes~=0.2.0 in c:\\users\\vumir\\pycharmprojects\\pro1d\\.venv\\lib\\site-packages (from tensorflow-intel==2.15.0->tensorflow) (0.2.0)\n",
      "Requirement already satisfied: numpy<2.0.0,>=1.23.5 in c:\\users\\vumir\\pycharmprojects\\pro1d\\.venv\\lib\\site-packages (from tensorflow-intel==2.15.0->tensorflow) (1.26.2)\n",
      "Requirement already satisfied: opt-einsum>=2.3.2 in c:\\users\\vumir\\pycharmprojects\\pro1d\\.venv\\lib\\site-packages (from tensorflow-intel==2.15.0->tensorflow) (3.3.0)\n",
      "Requirement already satisfied: packaging in c:\\users\\vumir\\pycharmprojects\\pro1d\\.venv\\lib\\site-packages (from tensorflow-intel==2.15.0->tensorflow) (23.2)\n",
      "Requirement already satisfied: protobuf!=4.21.0,!=4.21.1,!=4.21.2,!=4.21.3,!=4.21.4,!=4.21.5,<5.0.0dev,>=3.20.3 in c:\\users\\vumir\\pycharmprojects\\pro1d\\.venv\\lib\\site-packages (from tensorflow-intel==2.15.0->tensorflow) (4.23.4)\n",
      "Requirement already satisfied: setuptools in c:\\users\\vumir\\pycharmprojects\\pro1d\\.venv\\lib\\site-packages (from tensorflow-intel==2.15.0->tensorflow) (68.2.0)\n",
      "Requirement already satisfied: six>=1.12.0 in c:\\users\\vumir\\pycharmprojects\\pro1d\\.venv\\lib\\site-packages (from tensorflow-intel==2.15.0->tensorflow) (1.16.0)\n",
      "Requirement already satisfied: termcolor>=1.1.0 in c:\\users\\vumir\\pycharmprojects\\pro1d\\.venv\\lib\\site-packages (from tensorflow-intel==2.15.0->tensorflow) (2.4.0)\n",
      "Requirement already satisfied: typing-extensions>=3.6.6 in c:\\users\\vumir\\pycharmprojects\\pro1d\\.venv\\lib\\site-packages (from tensorflow-intel==2.15.0->tensorflow) (4.9.0)\n",
      "Requirement already satisfied: wrapt<1.15,>=1.11.0 in c:\\users\\vumir\\pycharmprojects\\pro1d\\.venv\\lib\\site-packages (from tensorflow-intel==2.15.0->tensorflow) (1.14.1)\n",
      "Requirement already satisfied: tensorflow-io-gcs-filesystem>=0.23.1 in c:\\users\\vumir\\pycharmprojects\\pro1d\\.venv\\lib\\site-packages (from tensorflow-intel==2.15.0->tensorflow) (0.31.0)\n",
      "Requirement already satisfied: grpcio<2.0,>=1.24.3 in c:\\users\\vumir\\pycharmprojects\\pro1d\\.venv\\lib\\site-packages (from tensorflow-intel==2.15.0->tensorflow) (1.60.0)\n",
      "Requirement already satisfied: tensorboard<2.16,>=2.15 in c:\\users\\vumir\\pycharmprojects\\pro1d\\.venv\\lib\\site-packages (from tensorflow-intel==2.15.0->tensorflow) (2.15.1)\n",
      "Requirement already satisfied: tensorflow-estimator<2.16,>=2.15.0 in c:\\users\\vumir\\pycharmprojects\\pro1d\\.venv\\lib\\site-packages (from tensorflow-intel==2.15.0->tensorflow) (2.15.0)\n",
      "Requirement already satisfied: keras<2.16,>=2.15.0 in c:\\users\\vumir\\pycharmprojects\\pro1d\\.venv\\lib\\site-packages (from tensorflow-intel==2.15.0->tensorflow) (2.15.0)\n",
      "Requirement already satisfied: scipy>=1.5.0 in c:\\users\\vumir\\pycharmprojects\\pro1d\\.venv\\lib\\site-packages (from scikit-learn) (1.11.4)\n",
      "Requirement already satisfied: joblib>=1.1.1 in c:\\users\\vumir\\pycharmprojects\\pro1d\\.venv\\lib\\site-packages (from scikit-learn) (1.3.2)\n",
      "Requirement already satisfied: threadpoolctl>=2.0.0 in c:\\users\\vumir\\pycharmprojects\\pro1d\\.venv\\lib\\site-packages (from scikit-learn) (3.2.0)\n",
      "Requirement already satisfied: python-dateutil>=2.8.2 in c:\\users\\vumir\\pycharmprojects\\pro1d\\.venv\\lib\\site-packages (from pandas) (2.8.2)\n",
      "Requirement already satisfied: pytz>=2020.1 in c:\\users\\vumir\\pycharmprojects\\pro1d\\.venv\\lib\\site-packages (from pandas) (2023.3.post1)\n",
      "Requirement already satisfied: tzdata>=2022.1 in c:\\users\\vumir\\pycharmprojects\\pro1d\\.venv\\lib\\site-packages (from pandas) (2023.3)\n",
      "Requirement already satisfied: contourpy>=1.0.1 in c:\\users\\vumir\\pycharmprojects\\pro1d\\.venv\\lib\\site-packages (from matplotlib) (1.2.0)\n",
      "Requirement already satisfied: cycler>=0.10 in c:\\users\\vumir\\pycharmprojects\\pro1d\\.venv\\lib\\site-packages (from matplotlib) (0.12.1)\n",
      "Requirement already satisfied: fonttools>=4.22.0 in c:\\users\\vumir\\pycharmprojects\\pro1d\\.venv\\lib\\site-packages (from matplotlib) (4.47.0)\n",
      "Requirement already satisfied: kiwisolver>=1.3.1 in c:\\users\\vumir\\pycharmprojects\\pro1d\\.venv\\lib\\site-packages (from matplotlib) (1.4.5)\n",
      "Requirement already satisfied: pillow>=8 in c:\\users\\vumir\\pycharmprojects\\pro1d\\.venv\\lib\\site-packages (from matplotlib) (10.1.0)\n",
      "Requirement already satisfied: pyparsing>=2.3.1 in c:\\users\\vumir\\pycharmprojects\\pro1d\\.venv\\lib\\site-packages (from matplotlib) (3.1.1)\n",
      "Requirement already satisfied: wheel<1.0,>=0.23.0 in c:\\users\\vumir\\pycharmprojects\\pro1d\\.venv\\lib\\site-packages (from astunparse>=1.6.0->tensorflow-intel==2.15.0->tensorflow) (0.41.2)\n",
      "Requirement already satisfied: google-auth<3,>=1.6.3 in c:\\users\\vumir\\pycharmprojects\\pro1d\\.venv\\lib\\site-packages (from tensorboard<2.16,>=2.15->tensorflow-intel==2.15.0->tensorflow) (2.25.2)\n",
      "Requirement already satisfied: google-auth-oauthlib<2,>=0.5 in c:\\users\\vumir\\pycharmprojects\\pro1d\\.venv\\lib\\site-packages (from tensorboard<2.16,>=2.15->tensorflow-intel==2.15.0->tensorflow) (1.2.0)\n",
      "Requirement already satisfied: markdown>=2.6.8 in c:\\users\\vumir\\pycharmprojects\\pro1d\\.venv\\lib\\site-packages (from tensorboard<2.16,>=2.15->tensorflow-intel==2.15.0->tensorflow) (3.5.1)\n",
      "Requirement already satisfied: requests<3,>=2.21.0 in c:\\users\\vumir\\pycharmprojects\\pro1d\\.venv\\lib\\site-packages (from tensorboard<2.16,>=2.15->tensorflow-intel==2.15.0->tensorflow) (2.31.0)\n",
      "Requirement already satisfied: tensorboard-data-server<0.8.0,>=0.7.0 in c:\\users\\vumir\\pycharmprojects\\pro1d\\.venv\\lib\\site-packages (from tensorboard<2.16,>=2.15->tensorflow-intel==2.15.0->tensorflow) (0.7.2)\n",
      "Requirement already satisfied: werkzeug>=1.0.1 in c:\\users\\vumir\\pycharmprojects\\pro1d\\.venv\\lib\\site-packages (from tensorboard<2.16,>=2.15->tensorflow-intel==2.15.0->tensorflow) (3.0.1)\n",
      "Requirement already satisfied: cachetools<6.0,>=2.0.0 in c:\\users\\vumir\\pycharmprojects\\pro1d\\.venv\\lib\\site-packages (from google-auth<3,>=1.6.3->tensorboard<2.16,>=2.15->tensorflow-intel==2.15.0->tensorflow) (5.3.2)\n",
      "Requirement already satisfied: pyasn1-modules>=0.2.1 in c:\\users\\vumir\\pycharmprojects\\pro1d\\.venv\\lib\\site-packages (from google-auth<3,>=1.6.3->tensorboard<2.16,>=2.15->tensorflow-intel==2.15.0->tensorflow) (0.3.0)\n",
      "Requirement already satisfied: rsa<5,>=3.1.4 in c:\\users\\vumir\\pycharmprojects\\pro1d\\.venv\\lib\\site-packages (from google-auth<3,>=1.6.3->tensorboard<2.16,>=2.15->tensorflow-intel==2.15.0->tensorflow) (4.9)\n",
      "Requirement already satisfied: requests-oauthlib>=0.7.0 in c:\\users\\vumir\\pycharmprojects\\pro1d\\.venv\\lib\\site-packages (from google-auth-oauthlib<2,>=0.5->tensorboard<2.16,>=2.15->tensorflow-intel==2.15.0->tensorflow) (1.3.1)\n",
      "Requirement already satisfied: charset-normalizer<4,>=2 in c:\\users\\vumir\\pycharmprojects\\pro1d\\.venv\\lib\\site-packages (from requests<3,>=2.21.0->tensorboard<2.16,>=2.15->tensorflow-intel==2.15.0->tensorflow) (3.3.2)\n",
      "Requirement already satisfied: idna<4,>=2.5 in c:\\users\\vumir\\pycharmprojects\\pro1d\\.venv\\lib\\site-packages (from requests<3,>=2.21.0->tensorboard<2.16,>=2.15->tensorflow-intel==2.15.0->tensorflow) (3.6)\n",
      "Requirement already satisfied: urllib3<3,>=1.21.1 in c:\\users\\vumir\\pycharmprojects\\pro1d\\.venv\\lib\\site-packages (from requests<3,>=2.21.0->tensorboard<2.16,>=2.15->tensorflow-intel==2.15.0->tensorflow) (2.1.0)\n",
      "Requirement already satisfied: certifi>=2017.4.17 in c:\\users\\vumir\\pycharmprojects\\pro1d\\.venv\\lib\\site-packages (from requests<3,>=2.21.0->tensorboard<2.16,>=2.15->tensorflow-intel==2.15.0->tensorflow) (2023.11.17)\n",
      "Requirement already satisfied: MarkupSafe>=2.1.1 in c:\\users\\vumir\\pycharmprojects\\pro1d\\.venv\\lib\\site-packages (from werkzeug>=1.0.1->tensorboard<2.16,>=2.15->tensorflow-intel==2.15.0->tensorflow) (2.1.3)\n",
      "Requirement already satisfied: pyasn1<0.6.0,>=0.4.6 in c:\\users\\vumir\\pycharmprojects\\pro1d\\.venv\\lib\\site-packages (from pyasn1-modules>=0.2.1->google-auth<3,>=1.6.3->tensorboard<2.16,>=2.15->tensorflow-intel==2.15.0->tensorflow) (0.5.1)\n",
      "Requirement already satisfied: oauthlib>=3.0.0 in c:\\users\\vumir\\pycharmprojects\\pro1d\\.venv\\lib\\site-packages (from requests-oauthlib>=0.7.0->google-auth-oauthlib<2,>=0.5->tensorboard<2.16,>=2.15->tensorflow-intel==2.15.0->tensorflow) (3.2.2)\n"
     ]
    },
    {
     "name": "stderr",
     "output_type": "stream",
     "text": [
      "\n",
      "[notice] A new release of pip is available: 23.2.1 -> 23.3.2\n",
      "[notice] To update, run: python.exe -m pip install --upgrade pip\n"
     ]
    }
   ],
   "source": [
    "!pip install tensorflow scikit-learn pandas matplotlib imbalanced-learn"
   ]
  },
  {
   "cell_type": "code",
   "execution_count": 2,
   "id": "initial_id",
   "metadata": {
    "ExecuteTime": {
     "end_time": "2023-12-23T16:11:32.551353Z",
     "start_time": "2023-12-23T16:11:26.019218900Z"
    },
    "collapsed": true
   },
   "outputs": [
    {
     "name": "stdout",
     "output_type": "stream",
     "text": [
      "WARNING:tensorflow:From C:\\Users\\vumir\\PycharmProjects\\pro1d\\.venv\\Lib\\site-packages\\keras\\src\\losses.py:2976: The name tf.losses.sparse_softmax_cross_entropy is deprecated. Please use tf.compat.v1.losses.sparse_softmax_cross_entropy instead.\n"
     ]
    }
   ],
   "source": [
    "import tensorflow as tf\n",
    "import pandas as pd\n",
    "import numpy as np\n",
    "from sklearn.model_selection import train_test_split\n",
    "from sklearn.neighbors import KNeighborsClassifier\n",
    "from sklearn.model_selection import GridSearchCV\n",
    "from sklearn.metrics import classification_report\n",
    "from sklearn.metrics import accuracy_score\n",
    "import matplotlib.pyplot as plt\n",
    "from imblearn.under_sampling import RandomUnderSampler\n",
    "from imblearn.over_sampling import RandomOverSampler, SMOTE\n",
    "from scipy import stats"
   ]
  },
  {
   "cell_type": "code",
   "execution_count": 3,
   "id": "f58f196395e4ca3b",
   "metadata": {
    "ExecuteTime": {
     "end_time": "2023-12-23T16:11:32.552355Z",
     "start_time": "2023-12-23T16:11:32.548839400Z"
    },
    "collapsed": false
   },
   "outputs": [],
   "source": [
    "DATA_PATH = \"letter-recognition.data\"\n",
    "HEADERS = [\n",
    "    \"lettr\",\n",
    "    \"x-box\",\n",
    "    \"y-box\",\n",
    "    \"width\",\n",
    "    \"high\",\n",
    "    \"onpix\",\n",
    "    \"x-bar\",\n",
    "    \"y-bar\",\n",
    "    \"x2bar\",\n",
    "    \"y2bar\",\n",
    "    \"xybar\",\n",
    "    \"x2ybr\",\n",
    "    \"xy2br\",\n",
    "    \"x-ege\",\n",
    "    \"xegvy\",\n",
    "    \"y-ege\",\n",
    "    \"yegvx\",\n",
    "]"
   ]
  },
  {
   "cell_type": "code",
   "execution_count": 4,
   "id": "aea6f9b4612bb8c3",
   "metadata": {
    "ExecuteTime": {
     "end_time": "2023-12-23T16:11:32.587051700Z",
     "start_time": "2023-12-23T16:11:32.552355Z"
    },
    "collapsed": false
   },
   "outputs": [],
   "source": [
    "data = pd.read_csv(DATA_PATH, header=None, names=HEADERS)"
   ]
  },
  {
   "cell_type": "code",
   "execution_count": 5,
   "id": "cfdbd37bbe2a7c55",
   "metadata": {
    "ExecuteTime": {
     "end_time": "2023-12-23T16:11:32.635254200Z",
     "start_time": "2023-12-23T16:11:32.575060900Z"
    },
    "collapsed": false
   },
   "outputs": [
    {
     "data": {
      "text/html": [
       "<div>\n",
       "<style scoped>\n",
       "    .dataframe tbody tr th:only-of-type {\n",
       "        vertical-align: middle;\n",
       "    }\n",
       "\n",
       "    .dataframe tbody tr th {\n",
       "        vertical-align: top;\n",
       "    }\n",
       "\n",
       "    .dataframe thead th {\n",
       "        text-align: right;\n",
       "    }\n",
       "</style>\n",
       "<table border=\"1\" class=\"dataframe\">\n",
       "  <thead>\n",
       "    <tr style=\"text-align: right;\">\n",
       "      <th></th>\n",
       "      <th>lettr</th>\n",
       "      <th>x-box</th>\n",
       "      <th>y-box</th>\n",
       "      <th>width</th>\n",
       "      <th>high</th>\n",
       "      <th>onpix</th>\n",
       "      <th>x-bar</th>\n",
       "      <th>y-bar</th>\n",
       "      <th>x2bar</th>\n",
       "      <th>y2bar</th>\n",
       "      <th>xybar</th>\n",
       "      <th>x2ybr</th>\n",
       "      <th>xy2br</th>\n",
       "      <th>x-ege</th>\n",
       "      <th>xegvy</th>\n",
       "      <th>y-ege</th>\n",
       "      <th>yegvx</th>\n",
       "    </tr>\n",
       "  </thead>\n",
       "  <tbody>\n",
       "    <tr>\n",
       "      <th>0</th>\n",
       "      <td>T</td>\n",
       "      <td>2</td>\n",
       "      <td>8</td>\n",
       "      <td>3</td>\n",
       "      <td>5</td>\n",
       "      <td>1</td>\n",
       "      <td>8</td>\n",
       "      <td>13</td>\n",
       "      <td>0</td>\n",
       "      <td>6</td>\n",
       "      <td>6</td>\n",
       "      <td>10</td>\n",
       "      <td>8</td>\n",
       "      <td>0</td>\n",
       "      <td>8</td>\n",
       "      <td>0</td>\n",
       "      <td>8</td>\n",
       "    </tr>\n",
       "    <tr>\n",
       "      <th>1</th>\n",
       "      <td>I</td>\n",
       "      <td>5</td>\n",
       "      <td>12</td>\n",
       "      <td>3</td>\n",
       "      <td>7</td>\n",
       "      <td>2</td>\n",
       "      <td>10</td>\n",
       "      <td>5</td>\n",
       "      <td>5</td>\n",
       "      <td>4</td>\n",
       "      <td>13</td>\n",
       "      <td>3</td>\n",
       "      <td>9</td>\n",
       "      <td>2</td>\n",
       "      <td>8</td>\n",
       "      <td>4</td>\n",
       "      <td>10</td>\n",
       "    </tr>\n",
       "    <tr>\n",
       "      <th>2</th>\n",
       "      <td>D</td>\n",
       "      <td>4</td>\n",
       "      <td>11</td>\n",
       "      <td>6</td>\n",
       "      <td>8</td>\n",
       "      <td>6</td>\n",
       "      <td>10</td>\n",
       "      <td>6</td>\n",
       "      <td>2</td>\n",
       "      <td>6</td>\n",
       "      <td>10</td>\n",
       "      <td>3</td>\n",
       "      <td>7</td>\n",
       "      <td>3</td>\n",
       "      <td>7</td>\n",
       "      <td>3</td>\n",
       "      <td>9</td>\n",
       "    </tr>\n",
       "    <tr>\n",
       "      <th>3</th>\n",
       "      <td>N</td>\n",
       "      <td>7</td>\n",
       "      <td>11</td>\n",
       "      <td>6</td>\n",
       "      <td>6</td>\n",
       "      <td>3</td>\n",
       "      <td>5</td>\n",
       "      <td>9</td>\n",
       "      <td>4</td>\n",
       "      <td>6</td>\n",
       "      <td>4</td>\n",
       "      <td>4</td>\n",
       "      <td>10</td>\n",
       "      <td>6</td>\n",
       "      <td>10</td>\n",
       "      <td>2</td>\n",
       "      <td>8</td>\n",
       "    </tr>\n",
       "    <tr>\n",
       "      <th>4</th>\n",
       "      <td>G</td>\n",
       "      <td>2</td>\n",
       "      <td>1</td>\n",
       "      <td>3</td>\n",
       "      <td>1</td>\n",
       "      <td>1</td>\n",
       "      <td>8</td>\n",
       "      <td>6</td>\n",
       "      <td>6</td>\n",
       "      <td>6</td>\n",
       "      <td>6</td>\n",
       "      <td>5</td>\n",
       "      <td>9</td>\n",
       "      <td>1</td>\n",
       "      <td>7</td>\n",
       "      <td>5</td>\n",
       "      <td>10</td>\n",
       "    </tr>\n",
       "  </tbody>\n",
       "</table>\n",
       "</div>"
      ],
      "text/plain": [
       "  lettr  x-box  y-box  width  high  onpix  x-bar  y-bar  x2bar  y2bar  xybar  \\\n",
       "0     T      2      8      3     5      1      8     13      0      6      6   \n",
       "1     I      5     12      3     7      2     10      5      5      4     13   \n",
       "2     D      4     11      6     8      6     10      6      2      6     10   \n",
       "3     N      7     11      6     6      3      5      9      4      6      4   \n",
       "4     G      2      1      3     1      1      8      6      6      6      6   \n",
       "\n",
       "   x2ybr  xy2br  x-ege  xegvy  y-ege  yegvx  \n",
       "0     10      8      0      8      0      8  \n",
       "1      3      9      2      8      4     10  \n",
       "2      3      7      3      7      3      9  \n",
       "3      4     10      6     10      2      8  \n",
       "4      5      9      1      7      5     10  "
      ]
     },
     "execution_count": 5,
     "metadata": {},
     "output_type": "execute_result"
    }
   ],
   "source": [
    "data.head()"
   ]
  },
  {
   "cell_type": "markdown",
   "id": "d447d4c3655657cc",
   "metadata": {
    "collapsed": false
   },
   "source": [
    "# Preprocessing"
   ]
  },
  {
   "cell_type": "code",
   "execution_count": 6,
   "id": "896dd3a02caa8962",
   "metadata": {
    "ExecuteTime": {
     "end_time": "2023-12-23T16:11:32.637252400Z",
     "start_time": "2023-12-23T16:11:32.586053Z"
    },
    "collapsed": false
   },
   "outputs": [
    {
     "data": {
      "text/plain": [
       "(20000, 17)"
      ]
     },
     "execution_count": 6,
     "metadata": {},
     "output_type": "execute_result"
    }
   ],
   "source": [
    "data.shape"
   ]
  },
  {
   "cell_type": "code",
   "execution_count": 7,
   "id": "cc0543988f032234",
   "metadata": {
    "ExecuteTime": {
     "end_time": "2023-12-23T16:11:33.082569800Z",
     "start_time": "2023-12-23T16:11:32.590448100Z"
    },
    "collapsed": false
   },
   "outputs": [
    {
     "data": {
      "text/plain": [
       "<BarContainer object of 26 artists>"
      ]
     },
     "execution_count": 7,
     "metadata": {},
     "output_type": "execute_result"
    },
    {
     "data": {
      "image/png": "[encoded data removed]",
      "text/plain": [
       "<Figure size 640x480 with 1 Axes>"
      ]
     },
     "metadata": {},
     "output_type": "display_data"
    }
   ],
   "source": [
    "plt.bar(data[\"lettr\"].value_counts().index, data[\"lettr\"].value_counts().values)"
   ]
  },
  {
   "cell_type": "code",
   "execution_count": 8,
   "id": "6a61e2d0225b5922",
   "metadata": {
    "ExecuteTime": {
     "end_time": "2023-12-23T16:11:33.083568100Z",
     "start_time": "2023-12-23T16:11:33.063585400Z"
    },
    "collapsed": false
   },
   "outputs": [],
   "source": [
    "# remove duplicates\n",
    "data.drop_duplicates(inplace=True)"
   ]
  },
  {
   "cell_type": "code",
   "execution_count": 9,
   "id": "b322b71405ff6416",
   "metadata": {
    "ExecuteTime": {
     "end_time": "2023-12-23T16:11:33.107606Z",
     "start_time": "2023-12-23T16:11:33.073405700Z"
    },
    "collapsed": false
   },
   "outputs": [
    {
     "data": {
      "text/plain": [
       "(18668, 17)"
      ]
     },
     "execution_count": 9,
     "metadata": {},
     "output_type": "execute_result"
    }
   ],
   "source": [
    "data.shape"
   ]
  },
  {
   "cell_type": "code",
   "execution_count": 10,
   "id": "b9bdc7d5d2480c09",
   "metadata": {
    "ExecuteTime": {
     "end_time": "2023-12-23T16:11:33.251089400Z",
     "start_time": "2023-12-23T16:11:33.077307300Z"
    },
    "collapsed": false
   },
   "outputs": [
    {
     "data": {
      "text/plain": [
       "<BarContainer object of 26 artists>"
      ]
     },
     "execution_count": 10,
     "metadata": {},
     "output_type": "execute_result"
    },
    {
     "data": {
      "image/png": "[encoded data removed]",
      "text/plain": [
       "<Figure size 640x480 with 1 Axes>"
      ]
     },
     "metadata": {},
     "output_type": "display_data"
    }
   ],
   "source": [
    "plt.bar(data[\"lettr\"].value_counts().index, data[\"lettr\"].value_counts().values)"
   ]
  },
  {
   "cell_type": "code",
   "execution_count": 11,
   "id": "9c3041dbd7ea6c1f",
   "metadata": {
    "ExecuteTime": {
     "end_time": "2023-12-23T16:11:33.270037900Z",
     "start_time": "2023-12-23T16:11:33.229440Z"
    },
    "collapsed": false
   },
   "outputs": [],
   "source": [
    "# remove outliers\n",
    "z_scores = stats.zscore(data[HEADERS[1:]])\n",
    "abs_z_scores = np.abs(z_scores)\n",
    "filtered_entries = (abs_z_scores < 3).all(axis=1)\n",
    "data = data[filtered_entries]"
   ]
  },
  {
   "cell_type": "code",
   "execution_count": 12,
   "id": "95dd722a68d7adbf",
   "metadata": {
    "ExecuteTime": {
     "end_time": "2023-12-23T16:11:33.271048200Z",
     "start_time": "2023-12-23T16:11:33.241644200Z"
    },
    "collapsed": false
   },
   "outputs": [
    {
     "data": {
      "text/plain": [
       "(17257, 17)"
      ]
     },
     "execution_count": 12,
     "metadata": {},
     "output_type": "execute_result"
    }
   ],
   "source": [
    "data.shape"
   ]
  },
  {
   "cell_type": "code",
   "execution_count": 13,
   "id": "3c9ce92bb8ada476",
   "metadata": {
    "ExecuteTime": {
     "end_time": "2023-12-23T16:11:33.405205100Z",
     "start_time": "2023-12-23T16:11:33.245063700Z"
    },
    "collapsed": false
   },
   "outputs": [
    {
     "data": {
      "text/plain": [
       "<BarContainer object of 26 artists>"
      ]
     },
     "execution_count": 13,
     "metadata": {},
     "output_type": "execute_result"
    },
    {
     "data": {
      "image/png": "[encoded data removed]",
      "text/plain": [
       "<Figure size 640x480 with 1 Axes>"
      ]
     },
     "metadata": {},
     "output_type": "display_data"
    }
   ],
   "source": [
    "plt.bar(data[\"lettr\"].value_counts().index, data[\"lettr\"].value_counts().values)"
   ]
  },
  {
   "cell_type": "code",
   "execution_count": 14,
   "id": "3ebd4b6a0ddc383b",
   "metadata": {
    "ExecuteTime": {
     "end_time": "2023-12-23T16:11:33.568245100Z",
     "start_time": "2023-12-23T16:11:33.403205600Z"
    },
    "collapsed": false
   },
   "outputs": [],
   "source": [
    "# Under sampling\n",
    "rus = RandomUnderSampler(random_state=42)\n",
    "under_sample, under_sample_labels = rus.fit_resample(data[HEADERS[1:]], data[HEADERS[0]])"
   ]
  },
  {
   "cell_type": "code",
   "execution_count": 15,
   "id": "ef88d7f3740776c8",
   "metadata": {
    "ExecuteTime": {
     "end_time": "2023-12-23T16:11:33.570750500Z",
     "start_time": "2023-12-23T16:11:33.444495Z"
    },
    "collapsed": false
   },
   "outputs": [
    {
     "data": {
      "text/plain": [
       "(13598, 16)"
      ]
     },
     "execution_count": 15,
     "metadata": {},
     "output_type": "execute_result"
    }
   ],
   "source": [
    "under_sample.shape"
   ]
  },
  {
   "cell_type": "code",
   "execution_count": 16,
   "id": "e63a3eac4607009c",
   "metadata": {
    "ExecuteTime": {
     "end_time": "2023-12-23T16:11:33.702540400Z",
     "start_time": "2023-12-23T16:11:33.448418900Z"
    },
    "collapsed": false
   },
   "outputs": [
    {
     "data": {
      "text/plain": [
       "<BarContainer object of 26 artists>"
      ]
     },
     "execution_count": 16,
     "metadata": {},
     "output_type": "execute_result"
    },
    {
     "data": {
      "image/png": "[encoded data removed]",
      "text/plain": [
       "<Figure size 640x480 with 1 Axes>"
      ]
     },
     "metadata": {},
     "output_type": "display_data"
    }
   ],
   "source": [
    "plt.bar(\n",
    "    pd.Series(under_sample_labels).value_counts().index,\n",
    "    pd.Series(under_sample_labels).value_counts().values,\n",
    ")"
   ]
  },
  {
   "cell_type": "code",
   "execution_count": 17,
   "id": "6ad96ad5e90ab0c3",
   "metadata": {
    "ExecuteTime": {
     "end_time": "2023-12-23T16:11:33.786152500Z",
     "start_time": "2023-12-23T16:11:33.702540400Z"
    },
    "collapsed": false
   },
   "outputs": [],
   "source": [
    "# Over sampling\n",
    "ros = RandomOverSampler(random_state=42)\n",
    "over_sample, over_sample_labels = ros.fit_resample(data[HEADERS[1:]], data[HEADERS[0]])"
   ]
  },
  {
   "cell_type": "code",
   "execution_count": 18,
   "id": "801468a20693ae56",
   "metadata": {
    "ExecuteTime": {
     "end_time": "2023-12-23T16:11:33.787155700Z",
     "start_time": "2023-12-23T16:11:33.735031200Z"
    },
    "collapsed": false
   },
   "outputs": [
    {
     "data": {
      "text/plain": [
       "(19526, 16)"
      ]
     },
     "execution_count": 18,
     "metadata": {},
     "output_type": "execute_result"
    }
   ],
   "source": [
    "over_sample.shape"
   ]
  },
  {
   "cell_type": "code",
   "execution_count": 19,
   "id": "8a7a8e8039d3c5d6",
   "metadata": {
    "ExecuteTime": {
     "end_time": "2023-12-23T16:11:33.901863800Z",
     "start_time": "2023-12-23T16:11:33.740545900Z"
    },
    "collapsed": false
   },
   "outputs": [
    {
     "data": {
      "text/plain": [
       "<BarContainer object of 26 artists>"
      ]
     },
     "execution_count": 19,
     "metadata": {},
     "output_type": "execute_result"
    },
    {
     "data": {
      "image/png": "[encoded data removed]",
      "text/plain": [
       "<Figure size 640x480 with 1 Axes>"
      ]
     },
     "metadata": {},
     "output_type": "display_data"
    }
   ],
   "source": [
    "plt.bar(\n",
    "    pd.Series(over_sample_labels).value_counts().index,\n",
    "    pd.Series(over_sample_labels).value_counts().values,\n",
    ")"
   ]
  },
  {
   "cell_type": "code",
   "execution_count": 20,
   "id": "ad077c0face39ecc",
   "metadata": {
    "ExecuteTime": {
     "end_time": "2023-12-23T16:11:34.090418200Z",
     "start_time": "2023-12-23T16:11:33.886829900Z"
    },
    "collapsed": false
   },
   "outputs": [],
   "source": [
    "# SMOTE\n",
    "smote = SMOTE(random_state=42)\n",
    "smote_sample, smote_sample_labels = smote.fit_resample(data[HEADERS[1:]], data[HEADERS[0]])"
   ]
  },
  {
   "cell_type": "code",
   "execution_count": 21,
   "id": "3d92182edba13537",
   "metadata": {
    "ExecuteTime": {
     "end_time": "2023-12-23T16:11:34.105548200Z",
     "start_time": "2023-12-23T16:11:34.091529500Z"
    },
    "collapsed": false
   },
   "outputs": [
    {
     "data": {
      "text/plain": [
       "(19526, 16)"
      ]
     },
     "execution_count": 21,
     "metadata": {},
     "output_type": "execute_result"
    }
   ],
   "source": [
    "smote_sample.shape"
   ]
  },
  {
   "cell_type": "code",
   "execution_count": 22,
   "id": "eb844a82e6ab9713",
   "metadata": {
    "ExecuteTime": {
     "end_time": "2023-12-23T16:11:34.235916700Z",
     "start_time": "2023-12-23T16:11:34.096034300Z"
    },
    "collapsed": false
   },
   "outputs": [
    {
     "data": {
      "text/plain": [
       "<BarContainer object of 26 artists>"
      ]
     },
     "execution_count": 22,
     "metadata": {},
     "output_type": "execute_result"
    },
    {
     "data": {
      "image/png": "[encoded data removed]",
      "text/plain": [
       "<Figure size 640x480 with 1 Axes>"
      ]
     },
     "metadata": {},
     "output_type": "display_data"
    }
   ],
   "source": [
    "plt.bar(\n",
    "    pd.Series(smote_sample_labels).value_counts().index,\n",
    "    pd.Series(smote_sample_labels).value_counts().values,\n",
    ")"
   ]
  },
  {
   "cell_type": "code",
   "execution_count": 23,
   "id": "80c6e1e37c84808a",
   "metadata": {
    "ExecuteTime": {
     "end_time": "2023-12-23T16:11:34.252984700Z",
     "start_time": "2023-12-23T16:11:34.250451900Z"
    },
    "collapsed": false
   },
   "outputs": [],
   "source": [
    "data[\"lettr\"] = data[\"lettr\"].apply(lambda x: ord(x) - 65)\n",
    "smote_sample_labels = smote_sample_labels.apply(lambda x: ord(x) - 65)\n",
    "over_sample_labels = over_sample_labels.apply(lambda x: ord(x) - 65)\n",
    "under_sample_labels = under_sample_labels.apply(lambda x: ord(x) - 65)"
   ]
  },
  {
   "cell_type": "code",
   "execution_count": 24,
   "id": "fca08eff2d750c43",
   "metadata": {
    "ExecuteTime": {
     "end_time": "2023-12-23T16:11:34.303453900Z",
     "start_time": "2023-12-23T16:11:34.254984200Z"
    },
    "collapsed": false
   },
   "outputs": [
    {
     "data": {
      "text/plain": [
       "((15620, 16), (3906, 16), (15620,), (3906,))"
      ]
     },
     "execution_count": 24,
     "metadata": {},
     "output_type": "execute_result"
    }
   ],
   "source": [
    "x_train, x_test, y_train, y_test = train_test_split(\n",
    "    data[HEADERS[1:]], data[HEADERS[0]], test_size=0.20, random_state=42\n",
    ")\n",
    "x_train_smote, x_test_smote, y_train_smote, y_test_smote = train_test_split(\n",
    "    smote_sample, smote_sample_labels, test_size=0.20, random_state=42\n",
    ")\n",
    "x_train_under, x_test_under, y_train_under, y_test_under = train_test_split(\n",
    "    under_sample, under_sample_labels, test_size=0.20, random_state=42\n",
    ")\n",
    "x_train_over, x_test_over, y_train_over, y_test_over = train_test_split(\n",
    "    over_sample, over_sample_labels, test_size=0.20, random_state=42\n",
    ")\n",
    "x_train_over.shape, x_test_over.shape, y_train_over.shape, y_test_over.shape"
   ]
  },
  {
   "cell_type": "code",
   "execution_count": 25,
   "id": "e16a4f3cf257550a",
   "metadata": {
    "ExecuteTime": {
     "end_time": "2023-12-23T16:11:34.339996700Z",
     "start_time": "2023-12-23T16:11:34.273894Z"
    },
    "collapsed": false
   },
   "outputs": [],
   "source": [
    "x_train = tf.keras.utils.normalize(x_train.values, axis=1)\n",
    "x_test = tf.keras.utils.normalize(x_test.values, axis=1)\n",
    "x_train_smote = tf.keras.utils.normalize(x_train_smote, axis=1)\n",
    "x_test_smote = tf.keras.utils.normalize(x_test_smote, axis=1)\n",
    "x_train_under = tf.keras.utils.normalize(x_train_under, axis=1)\n",
    "x_test_under = tf.keras.utils.normalize(x_test_under, axis=1)\n",
    "x_train_over = tf.keras.utils.normalize(x_train_over, axis=1)\n",
    "x_test_over = tf.keras.utils.normalize(x_test_over, axis=1)"
   ]
  },
  {
   "cell_type": "code",
   "execution_count": 26,
   "id": "e2adf764122f301c",
   "metadata": {
    "ExecuteTime": {
     "end_time": "2023-12-23T16:11:50.143851700Z",
     "start_time": "2023-12-23T16:11:34.319325200Z"
    },
    "collapsed": false
   },
   "outputs": [
    {
     "name": "stdout",
     "output_type": "stream",
     "text": [
      "WARNING:tensorflow:From C:\\Users\\vumir\\PycharmProjects\\pro1d\\.venv\\Lib\\site-packages\\keras\\src\\backend.py:873: The name tf.get_default_graph is deprecated. Please use tf.compat.v1.get_default_graph instead.\n",
      "WARNING:tensorflow:From C:\\Users\\vumir\\PycharmProjects\\pro1d\\.venv\\Lib\\site-packages\\keras\\src\\optimizers\\__init__.py:309: The name tf.train.Optimizer is deprecated. Please use tf.compat.v1.train.Optimizer instead.\n",
      "Epoch 1/40\n",
      "WARNING:tensorflow:From C:\\Users\\vumir\\PycharmProjects\\pro1d\\.venv\\Lib\\site-packages\\keras\\src\\utils\\tf_utils.py:492: The name tf.ragged.RaggedTensorValue is deprecated. Please use tf.compat.v1.ragged.RaggedTensorValue instead.\n",
      "WARNING:tensorflow:From C:\\Users\\vumir\\PycharmProjects\\pro1d\\.venv\\Lib\\site-packages\\keras\\src\\engine\\base_layer_utils.py:384: The name tf.executing_eagerly_outside_functions is deprecated. Please use tf.compat.v1.executing_eagerly_outside_functions instead.\n",
      "432/432 [==============================] - 1s 884us/step - loss: 2.2067 - accuracy: 0.3996\n",
      "Epoch 2/40\n",
      "432/432 [==============================] - 0s 847us/step - loss: 1.3081 - accuracy: 0.6327\n",
      "Epoch 3/40\n",
      "432/432 [==============================] - 0s 843us/step - loss: 1.1216 - accuracy: 0.6850\n",
      "Epoch 4/40\n",
      "432/432 [==============================] - 0s 852us/step - loss: 1.0233 - accuracy: 0.7102\n",
      "Epoch 5/40\n",
      "432/432 [==============================] - 0s 862us/step - loss: 0.9534 - accuracy: 0.7305\n",
      "Epoch 6/40\n",
      "432/432 [==============================] - 0s 900us/step - loss: 0.8944 - accuracy: 0.7421\n",
      "Epoch 7/40\n",
      "432/432 [==============================] - 0s 996us/step - loss: 0.8439 - accuracy: 0.7611\n",
      "Epoch 8/40\n",
      "432/432 [==============================] - 0s 1ms/step - loss: 0.7918 - accuracy: 0.7698\n",
      "Epoch 9/40\n",
      "432/432 [==============================] - 0s 844us/step - loss: 0.7547 - accuracy: 0.7825\n",
      "Epoch 10/40\n",
      "432/432 [==============================] - 0s 854us/step - loss: 0.7129 - accuracy: 0.7915\n",
      "Epoch 11/40\n",
      "432/432 [==============================] - 0s 841us/step - loss: 0.6751 - accuracy: 0.8017\n",
      "Epoch 12/40\n",
      "432/432 [==============================] - 0s 833us/step - loss: 0.6434 - accuracy: 0.8109\n",
      "Epoch 13/40\n",
      "432/432 [==============================] - 0s 850us/step - loss: 0.6107 - accuracy: 0.8167\n",
      "Epoch 14/40\n",
      "432/432 [==============================] - 0s 836us/step - loss: 0.5823 - accuracy: 0.8267\n",
      "Epoch 15/40\n",
      "432/432 [==============================] - 0s 952us/step - loss: 0.5536 - accuracy: 0.8310\n",
      "Epoch 16/40\n",
      "432/432 [==============================] - 0s 926us/step - loss: 0.5229 - accuracy: 0.8422\n",
      "Epoch 17/40\n",
      "432/432 [==============================] - 0s 882us/step - loss: 0.4965 - accuracy: 0.8514\n",
      "Epoch 18/40\n",
      "432/432 [==============================] - 0s 833us/step - loss: 0.4758 - accuracy: 0.8572\n",
      "Epoch 19/40\n",
      "432/432 [==============================] - 0s 843us/step - loss: 0.4533 - accuracy: 0.8638\n",
      "Epoch 20/40\n",
      "432/432 [==============================] - 0s 838us/step - loss: 0.4363 - accuracy: 0.8692\n",
      "Epoch 21/40\n",
      "432/432 [==============================] - 0s 838us/step - loss: 0.4187 - accuracy: 0.8738\n",
      "Epoch 22/40\n",
      "432/432 [==============================] - 0s 844us/step - loss: 0.4004 - accuracy: 0.8787\n",
      "Epoch 23/40\n",
      "432/432 [==============================] - 0s 839us/step - loss: 0.3861 - accuracy: 0.8850\n",
      "Epoch 24/40\n",
      "432/432 [==============================] - 0s 844us/step - loss: 0.3707 - accuracy: 0.8888\n",
      "Epoch 25/40\n",
      "432/432 [==============================] - 0s 851us/step - loss: 0.3555 - accuracy: 0.8951\n",
      "Epoch 26/40\n",
      "432/432 [==============================] - 0s 851us/step - loss: 0.3474 - accuracy: 0.8951\n",
      "Epoch 27/40\n",
      "432/432 [==============================] - 0s 882us/step - loss: 0.3316 - accuracy: 0.8984\n",
      "Epoch 28/40\n",
      "432/432 [==============================] - 0s 854us/step - loss: 0.3214 - accuracy: 0.9045\n",
      "Epoch 29/40\n",
      "432/432 [==============================] - 0s 854us/step - loss: 0.3075 - accuracy: 0.9046\n",
      "Epoch 30/40\n",
      "432/432 [==============================] - 0s 833us/step - loss: 0.2987 - accuracy: 0.9088\n",
      "Epoch 31/40\n",
      "432/432 [==============================] - 0s 847us/step - loss: 0.2905 - accuracy: 0.9097\n",
      "Epoch 32/40\n",
      "432/432 [==============================] - 0s 835us/step - loss: 0.2802 - accuracy: 0.9152\n",
      "Epoch 33/40\n",
      "432/432 [==============================] - 0s 832us/step - loss: 0.2719 - accuracy: 0.9167\n",
      "Epoch 34/40\n",
      "432/432 [==============================] - 0s 836us/step - loss: 0.2607 - accuracy: 0.9203\n",
      "Epoch 35/40\n",
      "432/432 [==============================] - 0s 831us/step - loss: 0.2549 - accuracy: 0.9218\n",
      "Epoch 36/40\n",
      "432/432 [==============================] - 0s 839us/step - loss: 0.2509 - accuracy: 0.9208\n",
      "Epoch 37/40\n",
      "432/432 [==============================] - 0s 830us/step - loss: 0.2389 - accuracy: 0.9258\n",
      "Epoch 38/40\n",
      "432/432 [==============================] - 0s 836us/step - loss: 0.2352 - accuracy: 0.9258\n",
      "Epoch 39/40\n",
      "432/432 [==============================] - 0s 831us/step - loss: 0.2304 - accuracy: 0.9277\n",
      "Epoch 40/40\n",
      "432/432 [==============================] - 0s 841us/step - loss: 0.2199 - accuracy: 0.9314\n"
     ]
    },
    {
     "data": {
      "text/plain": [
       "<keras.src.callbacks.History at 0x1c3048bb3d0>"
      ]
     },
     "execution_count": 26,
     "metadata": {},
     "output_type": "execute_result"
    }
   ],
   "source": [
    "model = tf.keras.models.Sequential(\n",
    "    [\n",
    "        tf.keras.layers.Dense(128, activation=\"relu\"),\n",
    "        tf.keras.layers.Dense(256, activation=\"relu\"),\n",
    "        tf.keras.layers.Dense(26, activation=\"softmax\"),\n",
    "    ]\n",
    ")\n",
    "model.compile(\n",
    "    optimizer=\"adam\", loss=\"sparse_categorical_crossentropy\", metrics=[\"accuracy\"]\n",
    ")\n",
    "model.fit(x_train, y_train, epochs=40)"
   ]
  },
  {
   "cell_type": "code",
   "execution_count": 27,
   "id": "5a6c476ccdf9f96e",
   "metadata": {
    "ExecuteTime": {
     "end_time": "2023-12-23T16:11:50.369625800Z",
     "start_time": "2023-12-23T16:11:50.142427100Z"
    },
    "collapsed": false
   },
   "outputs": [
    {
     "name": "stdout",
     "output_type": "stream",
     "text": [
      "108/108 [==============================] - 0s 765us/step - loss: 0.2918 - accuracy: 0.9085\n"
     ]
    },
    {
     "data": {
      "text/plain": [
       "[0.29175105690956116, 0.9084588885307312]"
      ]
     },
     "execution_count": 27,
     "metadata": {},
     "output_type": "execute_result"
    }
   ],
   "source": [
    "model.evaluate(x_test, y_test)"
   ]
  },
  {
   "cell_type": "code",
   "execution_count": 28,
   "id": "7f98a8b2e6ac64",
   "metadata": {
    "ExecuteTime": {
     "end_time": "2023-12-23T16:12:07.791630500Z",
     "start_time": "2023-12-23T16:11:50.360115200Z"
    },
    "collapsed": false
   },
   "outputs": [
    {
     "name": "stdout",
     "output_type": "stream",
     "text": [
      "Epoch 1/40\n",
      "489/489 [==============================] - 1s 864us/step - loss: 2.1525 - accuracy: 0.4203\n",
      "Epoch 2/40\n",
      "489/489 [==============================] - 0s 830us/step - loss: 1.3151 - accuracy: 0.6266\n",
      "Epoch 3/40\n",
      "489/489 [==============================] - 0s 876us/step - loss: 1.1219 - accuracy: 0.6809\n",
      "Epoch 4/40\n",
      "489/489 [==============================] - 0s 842us/step - loss: 1.0114 - accuracy: 0.7139\n",
      "Epoch 5/40\n",
      "489/489 [==============================] - 0s 844us/step - loss: 0.9282 - accuracy: 0.7385\n",
      "Epoch 6/40\n",
      "489/489 [==============================] - 0s 853us/step - loss: 0.8685 - accuracy: 0.7500\n",
      "Epoch 7/40\n",
      "489/489 [==============================] - 0s 836us/step - loss: 0.8046 - accuracy: 0.7701\n",
      "Epoch 8/40\n",
      "489/489 [==============================] - 0s 830us/step - loss: 0.7516 - accuracy: 0.7830\n",
      "Epoch 9/40\n",
      "489/489 [==============================] - 0s 858us/step - loss: 0.7052 - accuracy: 0.7964\n",
      "Epoch 10/40\n",
      "489/489 [==============================] - 0s 852us/step - loss: 0.6625 - accuracy: 0.8067\n",
      "Epoch 11/40\n",
      "489/489 [==============================] - 0s 834us/step - loss: 0.6297 - accuracy: 0.8152\n",
      "Epoch 12/40\n",
      "489/489 [==============================] - 0s 846us/step - loss: 0.5954 - accuracy: 0.8226\n",
      "Epoch 13/40\n",
      "489/489 [==============================] - 0s 834us/step - loss: 0.5612 - accuracy: 0.8335\n",
      "Epoch 14/40\n",
      "489/489 [==============================] - 0s 938us/step - loss: 0.5323 - accuracy: 0.8417\n",
      "Epoch 15/40\n",
      "489/489 [==============================] - 0s 854us/step - loss: 0.5051 - accuracy: 0.8488\n",
      "Epoch 16/40\n",
      "489/489 [==============================] - 0s 875us/step - loss: 0.4780 - accuracy: 0.8588\n",
      "Epoch 17/40\n",
      "489/489 [==============================] - 0s 891us/step - loss: 0.4579 - accuracy: 0.8613\n",
      "Epoch 18/40\n",
      "489/489 [==============================] - 0s 962us/step - loss: 0.4368 - accuracy: 0.8695\n",
      "Epoch 19/40\n",
      "489/489 [==============================] - 1s 1ms/step - loss: 0.4126 - accuracy: 0.8777\n",
      "Epoch 20/40\n",
      "489/489 [==============================] - 1s 1ms/step - loss: 0.3972 - accuracy: 0.8799\n",
      "Epoch 21/40\n",
      "489/489 [==============================] - 0s 839us/step - loss: 0.3792 - accuracy: 0.8859\n",
      "Epoch 22/40\n",
      "489/489 [==============================] - 0s 833us/step - loss: 0.3654 - accuracy: 0.8908\n",
      "Epoch 23/40\n",
      "489/489 [==============================] - 0s 838us/step - loss: 0.3522 - accuracy: 0.8921\n",
      "Epoch 24/40\n",
      "489/489 [==============================] - 0s 836us/step - loss: 0.3361 - accuracy: 0.8996\n",
      "Epoch 25/40\n",
      "489/489 [==============================] - 0s 827us/step - loss: 0.3279 - accuracy: 0.9020\n",
      "Epoch 26/40\n",
      "489/489 [==============================] - 0s 835us/step - loss: 0.3084 - accuracy: 0.9056\n",
      "Epoch 27/40\n",
      "489/489 [==============================] - 0s 839us/step - loss: 0.3000 - accuracy: 0.9084\n",
      "Epoch 28/40\n",
      "489/489 [==============================] - 0s 833us/step - loss: 0.2876 - accuracy: 0.9138\n",
      "Epoch 29/40\n",
      "489/489 [==============================] - 0s 835us/step - loss: 0.2786 - accuracy: 0.9163\n",
      "Epoch 30/40\n",
      "489/489 [==============================] - 0s 837us/step - loss: 0.2679 - accuracy: 0.9193\n",
      "Epoch 31/40\n",
      "489/489 [==============================] - 0s 833us/step - loss: 0.2608 - accuracy: 0.9223\n",
      "Epoch 32/40\n",
      "489/489 [==============================] - 0s 830us/step - loss: 0.2495 - accuracy: 0.9246\n",
      "Epoch 33/40\n",
      "489/489 [==============================] - 0s 831us/step - loss: 0.2491 - accuracy: 0.9233\n",
      "Epoch 34/40\n",
      "489/489 [==============================] - 0s 830us/step - loss: 0.2350 - accuracy: 0.9270\n",
      "Epoch 35/40\n",
      "489/489 [==============================] - 0s 827us/step - loss: 0.2299 - accuracy: 0.9310\n",
      "Epoch 36/40\n",
      "489/489 [==============================] - 0s 829us/step - loss: 0.2221 - accuracy: 0.9319\n",
      "Epoch 37/40\n",
      "489/489 [==============================] - 0s 836us/step - loss: 0.2162 - accuracy: 0.9331\n",
      "Epoch 38/40\n",
      "489/489 [==============================] - 0s 823us/step - loss: 0.2096 - accuracy: 0.9357\n",
      "Epoch 39/40\n",
      "489/489 [==============================] - 0s 827us/step - loss: 0.2066 - accuracy: 0.9356\n",
      "Epoch 40/40\n",
      "489/489 [==============================] - 0s 854us/step - loss: 0.1946 - accuracy: 0.9400\n"
     ]
    },
    {
     "data": {
      "text/plain": [
       "<keras.src.callbacks.History at 0x1c30c6794d0>"
      ]
     },
     "execution_count": 28,
     "metadata": {},
     "output_type": "execute_result"
    }
   ],
   "source": [
    "model = tf.keras.models.Sequential(\n",
    "    [\n",
    "        tf.keras.layers.Dense(128, activation=\"relu\"),\n",
    "        tf.keras.layers.Dense(256, activation=\"relu\"),\n",
    "        tf.keras.layers.Dense(26, activation=\"softmax\"),\n",
    "    ]\n",
    ")\n",
    "model.compile(\n",
    "    optimizer=\"adam\", loss=\"sparse_categorical_crossentropy\", metrics=[\"accuracy\"]\n",
    ")\n",
    "model.fit(x_train_over, y_train_over, epochs=40)"
   ]
  },
  {
   "cell_type": "code",
   "execution_count": 29,
   "id": "80090fdd534c526c",
   "metadata": {
    "ExecuteTime": {
     "end_time": "2023-12-23T16:12:07.996337Z",
     "start_time": "2023-12-23T16:12:07.792631700Z"
    },
    "collapsed": false
   },
   "outputs": [
    {
     "name": "stdout",
     "output_type": "stream",
     "text": [
      "123/123 [==============================] - 0s 753us/step - loss: 0.2667 - accuracy: 0.9101\n"
     ]
    },
    {
     "data": {
      "text/plain": [
       "[0.2667314112186432, 0.9101382493972778]"
      ]
     },
     "execution_count": 29,
     "metadata": {},
     "output_type": "execute_result"
    }
   ],
   "source": [
    "model.evaluate(x_test_over, y_test_over)"
   ]
  },
  {
   "cell_type": "code",
   "execution_count": 30,
   "id": "238300ab64ffb24a",
   "metadata": {
    "ExecuteTime": {
     "end_time": "2023-12-23T16:12:20.490114800Z",
     "start_time": "2023-12-23T16:12:07.997338700Z"
    },
    "collapsed": false
   },
   "outputs": [
    {
     "name": "stdout",
     "output_type": "stream",
     "text": [
      "Epoch 1/40\n",
      "340/340 [==============================] - 1s 854us/step - loss: 2.3819 - accuracy: 0.3597\n",
      "Epoch 2/40\n",
      "340/340 [==============================] - 0s 838us/step - loss: 1.4943 - accuracy: 0.5757\n",
      "Epoch 3/40\n",
      "340/340 [==============================] - 0s 827us/step - loss: 1.2582 - accuracy: 0.6446\n",
      "Epoch 4/40\n",
      "340/340 [==============================] - 0s 829us/step - loss: 1.1298 - accuracy: 0.6815\n",
      "Epoch 5/40\n",
      "340/340 [==============================] - 0s 830us/step - loss: 1.0429 - accuracy: 0.7071\n",
      "Epoch 6/40\n",
      "340/340 [==============================] - 0s 829us/step - loss: 0.9724 - accuracy: 0.7234\n",
      "Epoch 7/40\n",
      "340/340 [==============================] - 0s 835us/step - loss: 0.9172 - accuracy: 0.7376\n",
      "Epoch 8/40\n",
      "340/340 [==============================] - 0s 1ms/step - loss: 0.8712 - accuracy: 0.7492\n",
      "Epoch 9/40\n",
      "340/340 [==============================] - 0s 1ms/step - loss: 0.8205 - accuracy: 0.7632\n",
      "Epoch 10/40\n",
      "340/340 [==============================] - 0s 1ms/step - loss: 0.7776 - accuracy: 0.7741\n",
      "Epoch 11/40\n",
      "340/340 [==============================] - 0s 1ms/step - loss: 0.7418 - accuracy: 0.7833\n",
      "Epoch 12/40\n",
      "340/340 [==============================] - 0s 1ms/step - loss: 0.7079 - accuracy: 0.7920\n",
      "Epoch 13/40\n",
      "340/340 [==============================] - 0s 826us/step - loss: 0.6732 - accuracy: 0.8023\n",
      "Epoch 14/40\n",
      "340/340 [==============================] - 0s 821us/step - loss: 0.6464 - accuracy: 0.8110\n",
      "Epoch 15/40\n",
      "340/340 [==============================] - 0s 819us/step - loss: 0.6173 - accuracy: 0.8176\n",
      "Epoch 16/40\n",
      "340/340 [==============================] - 0s 819us/step - loss: 0.5881 - accuracy: 0.8240\n",
      "Epoch 17/40\n",
      "340/340 [==============================] - 0s 866us/step - loss: 0.5625 - accuracy: 0.8308\n",
      "Epoch 18/40\n",
      "340/340 [==============================] - 0s 827us/step - loss: 0.5353 - accuracy: 0.8396\n",
      "Epoch 19/40\n",
      "340/340 [==============================] - 0s 827us/step - loss: 0.5149 - accuracy: 0.8424\n",
      "Epoch 20/40\n",
      "340/340 [==============================] - 0s 826us/step - loss: 0.4937 - accuracy: 0.8515\n",
      "Epoch 21/40\n",
      "340/340 [==============================] - 0s 825us/step - loss: 0.4744 - accuracy: 0.8563\n",
      "Epoch 22/40\n",
      "340/340 [==============================] - 0s 836us/step - loss: 0.4505 - accuracy: 0.8612\n",
      "Epoch 23/40\n",
      "340/340 [==============================] - 0s 820us/step - loss: 0.4339 - accuracy: 0.8704\n",
      "Epoch 24/40\n",
      "340/340 [==============================] - 0s 830us/step - loss: 0.4231 - accuracy: 0.8696\n",
      "Epoch 25/40\n",
      "340/340 [==============================] - 0s 822us/step - loss: 0.4001 - accuracy: 0.8794\n",
      "Epoch 26/40\n",
      "340/340 [==============================] - 0s 833us/step - loss: 0.3869 - accuracy: 0.8844\n",
      "Epoch 27/40\n",
      "340/340 [==============================] - 0s 848us/step - loss: 0.3773 - accuracy: 0.8865\n",
      "Epoch 28/40\n",
      "340/340 [==============================] - 0s 837us/step - loss: 0.3620 - accuracy: 0.8871\n",
      "Epoch 29/40\n",
      "340/340 [==============================] - 0s 854us/step - loss: 0.3486 - accuracy: 0.8950\n",
      "Epoch 30/40\n",
      "340/340 [==============================] - 0s 853us/step - loss: 0.3356 - accuracy: 0.8969\n",
      "Epoch 31/40\n",
      "340/340 [==============================] - 0s 864us/step - loss: 0.3274 - accuracy: 0.8983\n",
      "Epoch 32/40\n",
      "340/340 [==============================] - 0s 834us/step - loss: 0.3189 - accuracy: 0.9022\n",
      "Epoch 33/40\n",
      "340/340 [==============================] - 0s 837us/step - loss: 0.3086 - accuracy: 0.9057\n",
      "Epoch 34/40\n",
      "340/340 [==============================] - 0s 841us/step - loss: 0.2991 - accuracy: 0.9068\n",
      "Epoch 35/40\n",
      "340/340 [==============================] - 0s 868us/step - loss: 0.2887 - accuracy: 0.9122\n",
      "Epoch 36/40\n",
      "340/340 [==============================] - 0s 834us/step - loss: 0.2822 - accuracy: 0.9132\n",
      "Epoch 37/40\n",
      "340/340 [==============================] - 0s 848us/step - loss: 0.2760 - accuracy: 0.9148\n",
      "Epoch 38/40\n",
      "340/340 [==============================] - 0s 864us/step - loss: 0.2691 - accuracy: 0.9161\n",
      "Epoch 39/40\n",
      "340/340 [==============================] - 0s 833us/step - loss: 0.2628 - accuracy: 0.9171\n",
      "Epoch 40/40\n",
      "340/340 [==============================] - 0s 846us/step - loss: 0.2534 - accuracy: 0.9199\n"
     ]
    },
    {
     "data": {
      "text/plain": [
       "<keras.src.callbacks.History at 0x1c30dd5bb90>"
      ]
     },
     "execution_count": 30,
     "metadata": {},
     "output_type": "execute_result"
    }
   ],
   "source": [
    "model = tf.keras.models.Sequential(\n",
    "    [\n",
    "        tf.keras.layers.Dense(128, activation=\"relu\"),\n",
    "        tf.keras.layers.Dense(256, activation=\"relu\"),\n",
    "        tf.keras.layers.Dense(26, activation=\"softmax\"),\n",
    "    ]\n",
    ")\n",
    "model.compile(\n",
    "    optimizer=\"adam\", loss=\"sparse_categorical_crossentropy\", metrics=[\"accuracy\"]\n",
    ")\n",
    "model.fit(x_train_under, y_train_under, epochs=40)"
   ]
  },
  {
   "cell_type": "code",
   "execution_count": 31,
   "id": "12cadb0327d0c44",
   "metadata": {
    "ExecuteTime": {
     "end_time": "2023-12-23T16:12:20.670703400Z",
     "start_time": "2023-12-23T16:12:20.489117800Z"
    },
    "collapsed": false
   },
   "outputs": [
    {
     "name": "stdout",
     "output_type": "stream",
     "text": [
      "85/85 [==============================] - 0s 791us/step - loss: 0.2941 - accuracy: 0.9121\n"
     ]
    },
    {
     "data": {
      "text/plain": [
       "[0.2940536141395569, 0.9121323823928833]"
      ]
     },
     "execution_count": 31,
     "metadata": {},
     "output_type": "execute_result"
    }
   ],
   "source": [
    "model.evaluate(x_test_under, y_test_under)"
   ]
  },
  {
   "cell_type": "code",
   "execution_count": 32,
   "id": "de2df25d9f730828",
   "metadata": {
    "ExecuteTime": {
     "end_time": "2023-12-23T16:12:20.684620100Z",
     "start_time": "2023-12-23T16:12:20.668697500Z"
    },
    "collapsed": false
   },
   "outputs": [
    {
     "data": {
      "text/html": [
       "<style>#sk-container-id-1 {color: black;}#sk-container-id-1 pre{padding: 0;}#sk-container-id-1 div.sk-toggleable {background-color: white;}#sk-container-id-1 label.sk-toggleable__label {cursor: pointer;display: block;width: 100%;margin-bottom: 0;padding: 0.3em;box-sizing: border-box;text-align: center;}#sk-container-id-1 label.sk-toggleable__label-arrow:before {content: \"▸\";float: left;margin-right: 0.25em;color: #696969;}#sk-container-id-1 label.sk-toggleable__label-arrow:hover:before {color: black;}#sk-container-id-1 div.sk-estimator:hover label.sk-toggleable__label-arrow:before {color: black;}#sk-container-id-1 div.sk-toggleable__content {max-height: 0;max-width: 0;overflow: hidden;text-align: left;background-color: #f0f8ff;}#sk-container-id-1 div.sk-toggleable__content pre {margin: 0.2em;color: black;border-radius: 0.25em;background-color: #f0f8ff;}#sk-container-id-1 input.sk-toggleable__control:checked~div.sk-toggleable__content {max-height: 200px;max-width: 100%;overflow: auto;}#sk-container-id-1 input.sk-toggleable__control:checked~label.sk-toggleable__label-arrow:before {content: \"▾\";}#sk-container-id-1 div.sk-estimator input.sk-toggleable__control:checked~label.sk-toggleable__label {background-color: #d4ebff;}#sk-container-id-1 div.sk-label input.sk-toggleable__control:checked~label.sk-toggleable__label {background-color: #d4ebff;}#sk-container-id-1 input.sk-hidden--visually {border: 0;clip: rect(1px 1px 1px 1px);clip: rect(1px, 1px, 1px, 1px);height: 1px;margin: -1px;overflow: hidden;padding: 0;position: absolute;width: 1px;}#sk-container-id-1 div.sk-estimator {font-family: monospace;background-color: #f0f8ff;border: 1px dotted black;border-radius: 0.25em;box-sizing: border-box;margin-bottom: 0.5em;}#sk-container-id-1 div.sk-estimator:hover {background-color: #d4ebff;}#sk-container-id-1 div.sk-parallel-item::after {content: \"\";width: 100%;border-bottom: 1px solid gray;flex-grow: 1;}#sk-container-id-1 div.sk-label:hover label.sk-toggleable__label {background-color: #d4ebff;}#sk-container-id-1 div.sk-serial::before {content: \"\";position: absolute;border-left: 1px solid gray;box-sizing: border-box;top: 0;bottom: 0;left: 50%;z-index: 0;}#sk-container-id-1 div.sk-serial {display: flex;flex-direction: column;align-items: center;background-color: white;padding-right: 0.2em;padding-left: 0.2em;position: relative;}#sk-container-id-1 div.sk-item {position: relative;z-index: 1;}#sk-container-id-1 div.sk-parallel {display: flex;align-items: stretch;justify-content: center;background-color: white;position: relative;}#sk-container-id-1 div.sk-item::before, #sk-container-id-1 div.sk-parallel-item::before {content: \"\";position: absolute;border-left: 1px solid gray;box-sizing: border-box;top: 0;bottom: 0;left: 50%;z-index: -1;}#sk-container-id-1 div.sk-parallel-item {display: flex;flex-direction: column;z-index: 1;position: relative;background-color: white;}#sk-container-id-1 div.sk-parallel-item:first-child::after {align-self: flex-end;width: 50%;}#sk-container-id-1 div.sk-parallel-item:last-child::after {align-self: flex-start;width: 50%;}#sk-container-id-1 div.sk-parallel-item:only-child::after {width: 0;}#sk-container-id-1 div.sk-dashed-wrapped {border: 1px dashed gray;margin: 0 0.4em 0.5em 0.4em;box-sizing: border-box;padding-bottom: 0.4em;background-color: white;}#sk-container-id-1 div.sk-label label {font-family: monospace;font-weight: bold;display: inline-block;line-height: 1.2em;}#sk-container-id-1 div.sk-label-container {text-align: center;}#sk-container-id-1 div.sk-container {/* jupyter's `normalize.less` sets `[hidden] { display: none; }` but bootstrap.min.css set `[hidden] { display: none !important; }` so we also need the `!important` here to be able to override the default hidden behavior on the sphinx rendered scikit-learn.org. See: https://github.com/scikit-learn/scikit-learn/issues/21755 */display: inline-block !important;position: relative;}#sk-container-id-1 div.sk-text-repr-fallback {display: none;}</style><div id=\"sk-container-id-1\" class=\"sk-top-container\"><div class=\"sk-text-repr-fallback\"><pre>KNeighborsClassifier()</pre><b>In a Jupyter environment, please rerun this cell to show the HTML representation or trust the notebook. <br />On GitHub, the HTML representation is unable to render, please try loading this page with nbviewer.org.</b></div><div class=\"sk-container\" hidden><div class=\"sk-item\"><div class=\"sk-estimator sk-toggleable\"><input class=\"sk-toggleable__control sk-hidden--visually\" id=\"sk-estimator-id-1\" type=\"checkbox\" checked><label for=\"sk-estimator-id-1\" class=\"sk-toggleable__label sk-toggleable__label-arrow\">KNeighborsClassifier</label><div class=\"sk-toggleable__content\"><pre>KNeighborsClassifier()</pre></div></div></div></div></div>"
      ],
      "text/plain": [
       "KNeighborsClassifier()"
      ]
     },
     "execution_count": 32,
     "metadata": {},
     "output_type": "execute_result"
    }
   ],
   "source": [
    "knn = KNeighborsClassifier()\n",
    "knn.fit(x_train, y_train)"
   ]
  },
  {
   "cell_type": "code",
   "execution_count": 33,
   "id": "76c4bbc894b36874",
   "metadata": {
    "ExecuteTime": {
     "end_time": "2023-12-23T16:12:21.066109500Z",
     "start_time": "2023-12-23T16:12:20.674571700Z"
    },
    "collapsed": false
   },
   "outputs": [],
   "source": [
    "y_pred = knn.predict(x_test)"
   ]
  },
  {
   "cell_type": "code",
   "execution_count": 34,
   "id": "4b80d60799733c1b",
   "metadata": {
    "ExecuteTime": {
     "end_time": "2023-12-23T16:12:21.083579500Z",
     "start_time": "2023-12-23T16:12:21.066109500Z"
    },
    "collapsed": false
   },
   "outputs": [
    {
     "name": "stdout",
     "output_type": "stream",
     "text": [
      "              precision    recall  f1-score   support\n",
      "\n",
      "           0       0.99      0.99      0.99       129\n",
      "           1       0.85      0.98      0.91       135\n",
      "           2       0.98      0.98      0.98       130\n",
      "           3       0.87      0.95      0.91       162\n",
      "           4       0.88      0.92      0.90       145\n",
      "           5       0.94      0.94      0.94       157\n",
      "           6       0.93      0.92      0.92       135\n",
      "           7       0.80      0.83      0.82        99\n",
      "           8       0.89      0.98      0.93       102\n",
      "           9       0.97      0.91      0.94       137\n",
      "          10       0.93      0.91      0.92       138\n",
      "          11       1.00      0.96      0.98       118\n",
      "          12       0.99      0.97      0.98       124\n",
      "          13       0.97      0.94      0.96       118\n",
      "          14       0.93      0.92      0.93       139\n",
      "          15       0.97      0.95      0.96       149\n",
      "          16       0.94      0.93      0.93       142\n",
      "          17       0.95      0.85      0.90       148\n",
      "          18       0.96      0.96      0.96       140\n",
      "          19       0.96      0.95      0.96       140\n",
      "          20       0.96      0.96      0.96       113\n",
      "          21       0.98      0.97      0.97       149\n",
      "          22       0.98      0.98      0.98       124\n",
      "          23       0.95      0.94      0.94       139\n",
      "          24       0.97      0.96      0.97       141\n",
      "          25       0.99      0.96      0.97        99\n",
      "\n",
      "    accuracy                           0.94      3452\n",
      "   macro avg       0.94      0.94      0.94      3452\n",
      "weighted avg       0.94      0.94      0.94      3452\n",
      "\n",
      "0.9423522595596755\n"
     ]
    }
   ],
   "source": [
    "print(classification_report(y_test, y_pred))\n",
    "print(accuracy_score(y_test, y_pred))"
   ]
  },
  {
   "cell_type": "code",
   "execution_count": 35,
   "id": "a91a22cf9da89c84",
   "metadata": {
    "ExecuteTime": {
     "end_time": "2023-12-23T16:12:24.522764800Z",
     "start_time": "2023-12-23T16:12:21.080581500Z"
    },
    "collapsed": false
   },
   "outputs": [
    {
     "data": {
      "text/html": [
       "<style>#sk-container-id-2 {color: black;}#sk-container-id-2 pre{padding: 0;}#sk-container-id-2 div.sk-toggleable {background-color: white;}#sk-container-id-2 label.sk-toggleable__label {cursor: pointer;display: block;width: 100%;margin-bottom: 0;padding: 0.3em;box-sizing: border-box;text-align: center;}#sk-container-id-2 label.sk-toggleable__label-arrow:before {content: \"▸\";float: left;margin-right: 0.25em;color: #696969;}#sk-container-id-2 label.sk-toggleable__label-arrow:hover:before {color: black;}#sk-container-id-2 div.sk-estimator:hover label.sk-toggleable__label-arrow:before {color: black;}#sk-container-id-2 div.sk-toggleable__content {max-height: 0;max-width: 0;overflow: hidden;text-align: left;background-color: #f0f8ff;}#sk-container-id-2 div.sk-toggleable__content pre {margin: 0.2em;color: black;border-radius: 0.25em;background-color: #f0f8ff;}#sk-container-id-2 input.sk-toggleable__control:checked~div.sk-toggleable__content {max-height: 200px;max-width: 100%;overflow: auto;}#sk-container-id-2 input.sk-toggleable__control:checked~label.sk-toggleable__label-arrow:before {content: \"▾\";}#sk-container-id-2 div.sk-estimator input.sk-toggleable__control:checked~label.sk-toggleable__label {background-color: #d4ebff;}#sk-container-id-2 div.sk-label input.sk-toggleable__control:checked~label.sk-toggleable__label {background-color: #d4ebff;}#sk-container-id-2 input.sk-hidden--visually {border: 0;clip: rect(1px 1px 1px 1px);clip: rect(1px, 1px, 1px, 1px);height: 1px;margin: -1px;overflow: hidden;padding: 0;position: absolute;width: 1px;}#sk-container-id-2 div.sk-estimator {font-family: monospace;background-color: #f0f8ff;border: 1px dotted black;border-radius: 0.25em;box-sizing: border-box;margin-bottom: 0.5em;}#sk-container-id-2 div.sk-estimator:hover {background-color: #d4ebff;}#sk-container-id-2 div.sk-parallel-item::after {content: \"\";width: 100%;border-bottom: 1px solid gray;flex-grow: 1;}#sk-container-id-2 div.sk-label:hover label.sk-toggleable__label {background-color: #d4ebff;}#sk-container-id-2 div.sk-serial::before {content: \"\";position: absolute;border-left: 1px solid gray;box-sizing: border-box;top: 0;bottom: 0;left: 50%;z-index: 0;}#sk-container-id-2 div.sk-serial {display: flex;flex-direction: column;align-items: center;background-color: white;padding-right: 0.2em;padding-left: 0.2em;position: relative;}#sk-container-id-2 div.sk-item {position: relative;z-index: 1;}#sk-container-id-2 div.sk-parallel {display: flex;align-items: stretch;justify-content: center;background-color: white;position: relative;}#sk-container-id-2 div.sk-item::before, #sk-container-id-2 div.sk-parallel-item::before {content: \"\";position: absolute;border-left: 1px solid gray;box-sizing: border-box;top: 0;bottom: 0;left: 50%;z-index: -1;}#sk-container-id-2 div.sk-parallel-item {display: flex;flex-direction: column;z-index: 1;position: relative;background-color: white;}#sk-container-id-2 div.sk-parallel-item:first-child::after {align-self: flex-end;width: 50%;}#sk-container-id-2 div.sk-parallel-item:last-child::after {align-self: flex-start;width: 50%;}#sk-container-id-2 div.sk-parallel-item:only-child::after {width: 0;}#sk-container-id-2 div.sk-dashed-wrapped {border: 1px dashed gray;margin: 0 0.4em 0.5em 0.4em;box-sizing: border-box;padding-bottom: 0.4em;background-color: white;}#sk-container-id-2 div.sk-label label {font-family: monospace;font-weight: bold;display: inline-block;line-height: 1.2em;}#sk-container-id-2 div.sk-label-container {text-align: center;}#sk-container-id-2 div.sk-container {/* jupyter's `normalize.less` sets `[hidden] { display: none; }` but bootstrap.min.css set `[hidden] { display: none !important; }` so we also need the `!important` here to be able to override the default hidden behavior on the sphinx rendered scikit-learn.org. See: https://github.com/scikit-learn/scikit-learn/issues/21755 */display: inline-block !important;position: relative;}#sk-container-id-2 div.sk-text-repr-fallback {display: none;}</style><div id=\"sk-container-id-2\" class=\"sk-top-container\"><div class=\"sk-text-repr-fallback\"><pre>GridSearchCV(estimator=KNeighborsClassifier(), n_jobs=-1,\n",
       "             param_grid={&#x27;n_neighbors&#x27;: [3, 5, 7, 9, 11, 13, 15]})</pre><b>In a Jupyter environment, please rerun this cell to show the HTML representation or trust the notebook. <br />On GitHub, the HTML representation is unable to render, please try loading this page with nbviewer.org.</b></div><div class=\"sk-container\" hidden><div class=\"sk-item sk-dashed-wrapped\"><div class=\"sk-label-container\"><div class=\"sk-label sk-toggleable\"><input class=\"sk-toggleable__control sk-hidden--visually\" id=\"sk-estimator-id-2\" type=\"checkbox\" ><label for=\"sk-estimator-id-2\" class=\"sk-toggleable__label sk-toggleable__label-arrow\">GridSearchCV</label><div class=\"sk-toggleable__content\"><pre>GridSearchCV(estimator=KNeighborsClassifier(), n_jobs=-1,\n",
       "             param_grid={&#x27;n_neighbors&#x27;: [3, 5, 7, 9, 11, 13, 15]})</pre></div></div></div><div class=\"sk-parallel\"><div class=\"sk-parallel-item\"><div class=\"sk-item\"><div class=\"sk-label-container\"><div class=\"sk-label sk-toggleable\"><input class=\"sk-toggleable__control sk-hidden--visually\" id=\"sk-estimator-id-3\" type=\"checkbox\" ><label for=\"sk-estimator-id-3\" class=\"sk-toggleable__label sk-toggleable__label-arrow\">estimator: KNeighborsClassifier</label><div class=\"sk-toggleable__content\"><pre>KNeighborsClassifier()</pre></div></div></div><div class=\"sk-serial\"><div class=\"sk-item\"><div class=\"sk-estimator sk-toggleable\"><input class=\"sk-toggleable__control sk-hidden--visually\" id=\"sk-estimator-id-4\" type=\"checkbox\" ><label for=\"sk-estimator-id-4\" class=\"sk-toggleable__label sk-toggleable__label-arrow\">KNeighborsClassifier</label><div class=\"sk-toggleable__content\"><pre>KNeighborsClassifier()</pre></div></div></div></div></div></div></div></div></div></div>"
      ],
      "text/plain": [
       "GridSearchCV(estimator=KNeighborsClassifier(), n_jobs=-1,\n",
       "             param_grid={'n_neighbors': [3, 5, 7, 9, 11, 13, 15]})"
      ]
     },
     "execution_count": 35,
     "metadata": {},
     "output_type": "execute_result"
    }
   ],
   "source": [
    "param_grid = {\"n_neighbors\": [3, 5, 7, 9, 11, 13, 15]}\n",
    "grid = GridSearchCV(knn, param_grid, n_jobs=-1)\n",
    "grid.fit(x_train, y_train)"
   ]
  },
  {
   "cell_type": "code",
   "execution_count": 36,
   "id": "13cfea9a4686b67d",
   "metadata": {
    "ExecuteTime": {
     "end_time": "2023-12-23T16:12:24.524774400Z",
     "start_time": "2023-12-23T16:12:24.521251400Z"
    },
    "collapsed": false
   },
   "outputs": [
    {
     "name": "stdout",
     "output_type": "stream",
     "text": [
      "{'n_neighbors': 3}\n"
     ]
    }
   ],
   "source": [
    "print(grid.best_params_)"
   ]
  }
 ],
 "metadata": {
  "kernelspec": {
   "display_name": "Python 3",
   "language": "python",
   "name": "python3"
  },
  "language_info": {
   "codemirror_mode": {
    "name": "ipython",
    "version": 2
   },
   "file_extension": ".py",
   "mimetype": "text/x-python",
   "name": "python",
   "nbconvert_exporter": "python",
   "pygments_lexer": "ipython2",
   "version": "3.11.6"
  }
 },
 "nbformat": 4,
 "nbformat_minor": 5
}
