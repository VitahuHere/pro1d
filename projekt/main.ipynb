{
 "cells": [
  {
   "cell_type": "code",
   "outputs": [
    {
     "name": "stdout",
     "output_type": "stream",
     "text": [
      "Requirement already satisfied: tensorflow in /Users/vitah/PycharmProjects/pro1d/venv/lib/python3.10/site-packages (2.15.0)\r\n",
      "Requirement already satisfied: scikit-learn in /Users/vitah/PycharmProjects/pro1d/venv/lib/python3.10/site-packages (1.3.2)\r\n",
      "Requirement already satisfied: pandas in /Users/vitah/PycharmProjects/pro1d/venv/lib/python3.10/site-packages (2.1.3)\r\n",
      "Requirement already satisfied: matplotlib in /Users/vitah/PycharmProjects/pro1d/venv/lib/python3.10/site-packages (3.8.2)\r\n",
      "Requirement already satisfied: imbalanced-learn in /Users/vitah/PycharmProjects/pro1d/venv/lib/python3.10/site-packages (0.11.0)\r\n",
      "Requirement already satisfied: tensorflow-macos==2.15.0 in /Users/vitah/PycharmProjects/pro1d/venv/lib/python3.10/site-packages (from tensorflow) (2.15.0)\r\n",
      "Requirement already satisfied: absl-py>=1.0.0 in /Users/vitah/PycharmProjects/pro1d/venv/lib/python3.10/site-packages (from tensorflow-macos==2.15.0->tensorflow) (2.0.0)\r\n",
      "Requirement already satisfied: astunparse>=1.6.0 in /Users/vitah/PycharmProjects/pro1d/venv/lib/python3.10/site-packages (from tensorflow-macos==2.15.0->tensorflow) (1.6.3)\r\n",
      "Requirement already satisfied: flatbuffers>=23.5.26 in /Users/vitah/PycharmProjects/pro1d/venv/lib/python3.10/site-packages (from tensorflow-macos==2.15.0->tensorflow) (23.5.26)\r\n",
      "Requirement already satisfied: gast!=0.5.0,!=0.5.1,!=0.5.2,>=0.2.1 in /Users/vitah/PycharmProjects/pro1d/venv/lib/python3.10/site-packages (from tensorflow-macos==2.15.0->tensorflow) (0.5.4)\r\n",
      "Requirement already satisfied: google-pasta>=0.1.1 in /Users/vitah/PycharmProjects/pro1d/venv/lib/python3.10/site-packages (from tensorflow-macos==2.15.0->tensorflow) (0.2.0)\r\n",
      "Requirement already satisfied: h5py>=2.9.0 in /Users/vitah/PycharmProjects/pro1d/venv/lib/python3.10/site-packages (from tensorflow-macos==2.15.0->tensorflow) (3.10.0)\r\n",
      "Requirement already satisfied: libclang>=13.0.0 in /Users/vitah/PycharmProjects/pro1d/venv/lib/python3.10/site-packages (from tensorflow-macos==2.15.0->tensorflow) (16.0.6)\r\n",
      "Requirement already satisfied: ml-dtypes~=0.2.0 in /Users/vitah/PycharmProjects/pro1d/venv/lib/python3.10/site-packages (from tensorflow-macos==2.15.0->tensorflow) (0.2.0)\r\n",
      "Requirement already satisfied: numpy<2.0.0,>=1.23.5 in /Users/vitah/PycharmProjects/pro1d/venv/lib/python3.10/site-packages (from tensorflow-macos==2.15.0->tensorflow) (1.26.2)\r\n",
      "Requirement already satisfied: opt-einsum>=2.3.2 in /Users/vitah/PycharmProjects/pro1d/venv/lib/python3.10/site-packages (from tensorflow-macos==2.15.0->tensorflow) (3.3.0)\r\n",
      "Requirement already satisfied: packaging in /Users/vitah/PycharmProjects/pro1d/venv/lib/python3.10/site-packages (from tensorflow-macos==2.15.0->tensorflow) (23.2)\r\n",
      "Requirement already satisfied: protobuf!=4.21.0,!=4.21.1,!=4.21.2,!=4.21.3,!=4.21.4,!=4.21.5,<5.0.0dev,>=3.20.3 in /Users/vitah/PycharmProjects/pro1d/venv/lib/python3.10/site-packages (from tensorflow-macos==2.15.0->tensorflow) (4.23.4)\r\n",
      "Requirement already satisfied: setuptools in /Users/vitah/PycharmProjects/pro1d/venv/lib/python3.10/site-packages (from tensorflow-macos==2.15.0->tensorflow) (68.2.0)\r\n",
      "Requirement already satisfied: six>=1.12.0 in /Users/vitah/PycharmProjects/pro1d/venv/lib/python3.10/site-packages (from tensorflow-macos==2.15.0->tensorflow) (1.16.0)\r\n",
      "Requirement already satisfied: termcolor>=1.1.0 in /Users/vitah/PycharmProjects/pro1d/venv/lib/python3.10/site-packages (from tensorflow-macos==2.15.0->tensorflow) (2.4.0)\r\n",
      "Requirement already satisfied: typing-extensions>=3.6.6 in /Users/vitah/PycharmProjects/pro1d/venv/lib/python3.10/site-packages (from tensorflow-macos==2.15.0->tensorflow) (4.8.0)\r\n",
      "Requirement already satisfied: wrapt<1.15,>=1.11.0 in /Users/vitah/PycharmProjects/pro1d/venv/lib/python3.10/site-packages (from tensorflow-macos==2.15.0->tensorflow) (1.14.1)\r\n",
      "Requirement already satisfied: tensorflow-io-gcs-filesystem>=0.23.1 in /Users/vitah/PycharmProjects/pro1d/venv/lib/python3.10/site-packages (from tensorflow-macos==2.15.0->tensorflow) (0.34.0)\r\n",
      "Requirement already satisfied: grpcio<2.0,>=1.24.3 in /Users/vitah/PycharmProjects/pro1d/venv/lib/python3.10/site-packages (from tensorflow-macos==2.15.0->tensorflow) (1.60.0)\r\n",
      "Requirement already satisfied: tensorboard<2.16,>=2.15 in /Users/vitah/PycharmProjects/pro1d/venv/lib/python3.10/site-packages (from tensorflow-macos==2.15.0->tensorflow) (2.15.1)\r\n",
      "Requirement already satisfied: tensorflow-estimator<2.16,>=2.15.0 in /Users/vitah/PycharmProjects/pro1d/venv/lib/python3.10/site-packages (from tensorflow-macos==2.15.0->tensorflow) (2.15.0)\r\n",
      "Requirement already satisfied: keras<2.16,>=2.15.0 in /Users/vitah/PycharmProjects/pro1d/venv/lib/python3.10/site-packages (from tensorflow-macos==2.15.0->tensorflow) (2.15.0)\r\n",
      "Requirement already satisfied: scipy>=1.5.0 in /Users/vitah/PycharmProjects/pro1d/venv/lib/python3.10/site-packages (from scikit-learn) (1.11.4)\r\n",
      "Requirement already satisfied: joblib>=1.1.1 in /Users/vitah/PycharmProjects/pro1d/venv/lib/python3.10/site-packages (from scikit-learn) (1.3.2)\r\n",
      "Requirement already satisfied: threadpoolctl>=2.0.0 in /Users/vitah/PycharmProjects/pro1d/venv/lib/python3.10/site-packages (from scikit-learn) (3.2.0)\r\n",
      "Requirement already satisfied: python-dateutil>=2.8.2 in /Users/vitah/PycharmProjects/pro1d/venv/lib/python3.10/site-packages (from pandas) (2.8.2)\r\n",
      "Requirement already satisfied: pytz>=2020.1 in /Users/vitah/PycharmProjects/pro1d/venv/lib/python3.10/site-packages (from pandas) (2023.3.post1)\r\n",
      "Requirement already satisfied: tzdata>=2022.1 in /Users/vitah/PycharmProjects/pro1d/venv/lib/python3.10/site-packages (from pandas) (2023.3)\r\n",
      "Requirement already satisfied: contourpy>=1.0.1 in /Users/vitah/PycharmProjects/pro1d/venv/lib/python3.10/site-packages (from matplotlib) (1.2.0)\r\n",
      "Requirement already satisfied: cycler>=0.10 in /Users/vitah/PycharmProjects/pro1d/venv/lib/python3.10/site-packages (from matplotlib) (0.12.1)\r\n",
      "Requirement already satisfied: fonttools>=4.22.0 in /Users/vitah/PycharmProjects/pro1d/venv/lib/python3.10/site-packages (from matplotlib) (4.47.0)\r\n",
      "Requirement already satisfied: kiwisolver>=1.3.1 in /Users/vitah/PycharmProjects/pro1d/venv/lib/python3.10/site-packages (from matplotlib) (1.4.5)\r\n",
      "Requirement already satisfied: pillow>=8 in /Users/vitah/PycharmProjects/pro1d/venv/lib/python3.10/site-packages (from matplotlib) (10.1.0)\r\n",
      "Requirement already satisfied: pyparsing>=2.3.1 in /Users/vitah/PycharmProjects/pro1d/venv/lib/python3.10/site-packages (from matplotlib) (3.1.1)\r\n",
      "Requirement already satisfied: wheel<1.0,>=0.23.0 in /Users/vitah/PycharmProjects/pro1d/venv/lib/python3.10/site-packages (from astunparse>=1.6.0->tensorflow-macos==2.15.0->tensorflow) (0.41.2)\r\n",
      "Requirement already satisfied: google-auth<3,>=1.6.3 in /Users/vitah/PycharmProjects/pro1d/venv/lib/python3.10/site-packages (from tensorboard<2.16,>=2.15->tensorflow-macos==2.15.0->tensorflow) (2.25.2)\r\n",
      "Requirement already satisfied: google-auth-oauthlib<2,>=0.5 in /Users/vitah/PycharmProjects/pro1d/venv/lib/python3.10/site-packages (from tensorboard<2.16,>=2.15->tensorflow-macos==2.15.0->tensorflow) (1.2.0)\r\n",
      "Requirement already satisfied: markdown>=2.6.8 in /Users/vitah/PycharmProjects/pro1d/venv/lib/python3.10/site-packages (from tensorboard<2.16,>=2.15->tensorflow-macos==2.15.0->tensorflow) (3.5.1)\r\n",
      "Requirement already satisfied: requests<3,>=2.21.0 in /Users/vitah/PycharmProjects/pro1d/venv/lib/python3.10/site-packages (from tensorboard<2.16,>=2.15->tensorflow-macos==2.15.0->tensorflow) (2.31.0)\r\n",
      "Requirement already satisfied: tensorboard-data-server<0.8.0,>=0.7.0 in /Users/vitah/PycharmProjects/pro1d/venv/lib/python3.10/site-packages (from tensorboard<2.16,>=2.15->tensorflow-macos==2.15.0->tensorflow) (0.7.2)\r\n",
      "Requirement already satisfied: werkzeug>=1.0.1 in /Users/vitah/PycharmProjects/pro1d/venv/lib/python3.10/site-packages (from tensorboard<2.16,>=2.15->tensorflow-macos==2.15.0->tensorflow) (3.0.1)\r\n",
      "Requirement already satisfied: cachetools<6.0,>=2.0.0 in /Users/vitah/PycharmProjects/pro1d/venv/lib/python3.10/site-packages (from google-auth<3,>=1.6.3->tensorboard<2.16,>=2.15->tensorflow-macos==2.15.0->tensorflow) (5.3.2)\r\n",
      "Requirement already satisfied: pyasn1-modules>=0.2.1 in /Users/vitah/PycharmProjects/pro1d/venv/lib/python3.10/site-packages (from google-auth<3,>=1.6.3->tensorboard<2.16,>=2.15->tensorflow-macos==2.15.0->tensorflow) (0.3.0)\r\n",
      "Requirement already satisfied: rsa<5,>=3.1.4 in /Users/vitah/PycharmProjects/pro1d/venv/lib/python3.10/site-packages (from google-auth<3,>=1.6.3->tensorboard<2.16,>=2.15->tensorflow-macos==2.15.0->tensorflow) (4.9)\r\n",
      "Requirement already satisfied: requests-oauthlib>=0.7.0 in /Users/vitah/PycharmProjects/pro1d/venv/lib/python3.10/site-packages (from google-auth-oauthlib<2,>=0.5->tensorboard<2.16,>=2.15->tensorflow-macos==2.15.0->tensorflow) (1.3.1)\r\n",
      "Requirement already satisfied: charset-normalizer<4,>=2 in /Users/vitah/PycharmProjects/pro1d/venv/lib/python3.10/site-packages (from requests<3,>=2.21.0->tensorboard<2.16,>=2.15->tensorflow-macos==2.15.0->tensorflow) (3.3.2)\r\n",
      "Requirement already satisfied: idna<4,>=2.5 in /Users/vitah/PycharmProjects/pro1d/venv/lib/python3.10/site-packages (from requests<3,>=2.21.0->tensorboard<2.16,>=2.15->tensorflow-macos==2.15.0->tensorflow) (3.6)\r\n",
      "Requirement already satisfied: urllib3<3,>=1.21.1 in /Users/vitah/PycharmProjects/pro1d/venv/lib/python3.10/site-packages (from requests<3,>=2.21.0->tensorboard<2.16,>=2.15->tensorflow-macos==2.15.0->tensorflow) (2.1.0)\r\n",
      "Requirement already satisfied: certifi>=2017.4.17 in /Users/vitah/PycharmProjects/pro1d/venv/lib/python3.10/site-packages (from requests<3,>=2.21.0->tensorboard<2.16,>=2.15->tensorflow-macos==2.15.0->tensorflow) (2023.11.17)\r\n",
      "Requirement already satisfied: MarkupSafe>=2.1.1 in /Users/vitah/PycharmProjects/pro1d/venv/lib/python3.10/site-packages (from werkzeug>=1.0.1->tensorboard<2.16,>=2.15->tensorflow-macos==2.15.0->tensorflow) (2.1.3)\r\n",
      "Requirement already satisfied: pyasn1<0.6.0,>=0.4.6 in /Users/vitah/PycharmProjects/pro1d/venv/lib/python3.10/site-packages (from pyasn1-modules>=0.2.1->google-auth<3,>=1.6.3->tensorboard<2.16,>=2.15->tensorflow-macos==2.15.0->tensorflow) (0.5.1)\r\n",
      "Requirement already satisfied: oauthlib>=3.0.0 in /Users/vitah/PycharmProjects/pro1d/venv/lib/python3.10/site-packages (from requests-oauthlib>=0.7.0->google-auth-oauthlib<2,>=0.5->tensorboard<2.16,>=2.15->tensorflow-macos==2.15.0->tensorflow) (3.2.2)\r\n",
      "\r\n",
      "\u001B[1m[\u001B[0m\u001B[34;49mnotice\u001B[0m\u001B[1;39;49m]\u001B[0m\u001B[39;49m A new release of pip is available: \u001B[0m\u001B[31;49m23.2.1\u001B[0m\u001B[39;49m -> \u001B[0m\u001B[32;49m23.3.2\u001B[0m\r\n",
      "\u001B[1m[\u001B[0m\u001B[34;49mnotice\u001B[0m\u001B[1;39;49m]\u001B[0m\u001B[39;49m To update, run: \u001B[0m\u001B[32;49mpip install --upgrade pip\u001B[0m\r\n"
     ]
    }
   ],
   "source": [
    "!pip install tensorflow scikit-learn pandas matplotlib imbalanced-learn"
   ],
   "metadata": {
    "collapsed": false,
    "ExecuteTime": {
     "end_time": "2023-12-22T21:21:07.737529Z",
     "start_time": "2023-12-22T21:21:06.730728Z"
    }
   },
   "id": "67f50e65c9abcec",
   "execution_count": 1
  },
  {
   "cell_type": "code",
   "execution_count": 2,
   "id": "initial_id",
   "metadata": {
    "collapsed": true,
    "ExecuteTime": {
     "end_time": "2023-12-22T21:21:10.535595Z",
     "start_time": "2023-12-22T21:21:07.738092Z"
    }
   },
   "outputs": [],
   "source": [
    "import tensorflow as tf\n",
    "import pandas as pd\n",
    "from sklearn.model_selection import train_test_split\n",
    "from sklearn.neighbors import KNeighborsClassifier\n",
    "from sklearn.model_selection import GridSearchCV\n",
    "from sklearn.metrics import classification_report\n",
    "from sklearn.metrics import accuracy_score\n",
    "import matplotlib.pyplot as plt\n",
    "from imblearn.under_sampling import RandomUnderSampler\n",
    "from imblearn.over_sampling import RandomOverSampler, SMOTE"
   ]
  },
  {
   "cell_type": "code",
   "execution_count": 3,
   "outputs": [],
   "source": [
    "DATA_PATH = \"letter-recognition.data\"\n",
    "HEADERS = [\n",
    "    \"lettr\",\n",
    "    \"x-box\",\n",
    "    \"y-box\",\n",
    "    \"width\",\n",
    "    \"high\",\n",
    "    \"onpix\",\n",
    "    \"x-bar\",\n",
    "    \"y-bar\",\n",
    "    \"x2bar\",\n",
    "    \"y2bar\",\n",
    "    \"xybar\",\n",
    "    \"x2ybr\",\n",
    "    \"xy2br\",\n",
    "    \"x-ege\",\n",
    "    \"xegvy\",\n",
    "    \"y-ege\",\n",
    "    \"yegvx\",\n",
    "]"
   ],
   "metadata": {
    "collapsed": false,
    "ExecuteTime": {
     "end_time": "2023-12-22T21:21:10.542626Z",
     "start_time": "2023-12-22T21:21:10.536279Z"
    }
   },
   "id": "f58f196395e4ca3b"
  },
  {
   "cell_type": "code",
   "execution_count": 4,
   "outputs": [],
   "source": [
    "data = pd.read_csv(DATA_PATH, header=None, names=HEADERS)"
   ],
   "metadata": {
    "collapsed": false,
    "ExecuteTime": {
     "end_time": "2023-12-22T21:21:10.553138Z",
     "start_time": "2023-12-22T21:21:10.539988Z"
    }
   },
   "id": "aea6f9b4612bb8c3"
  },
  {
   "cell_type": "code",
   "execution_count": 5,
   "outputs": [
    {
     "data": {
      "text/plain": "  lettr  x-box  y-box  width  high  onpix  x-bar  y-bar  x2bar  y2bar  xybar  \\\n0     T      2      8      3     5      1      8     13      0      6      6   \n1     I      5     12      3     7      2     10      5      5      4     13   \n2     D      4     11      6     8      6     10      6      2      6     10   \n3     N      7     11      6     6      3      5      9      4      6      4   \n4     G      2      1      3     1      1      8      6      6      6      6   \n\n   x2ybr  xy2br  x-ege  xegvy  y-ege  yegvx  \n0     10      8      0      8      0      8  \n1      3      9      2      8      4     10  \n2      3      7      3      7      3      9  \n3      4     10      6     10      2      8  \n4      5      9      1      7      5     10  ",
      "text/html": "<div>\n<style scoped>\n    .dataframe tbody tr th:only-of-type {\n        vertical-align: middle;\n    }\n\n    .dataframe tbody tr th {\n        vertical-align: top;\n    }\n\n    .dataframe thead th {\n        text-align: right;\n    }\n</style>\n<table border=\"1\" class=\"dataframe\">\n  <thead>\n    <tr style=\"text-align: right;\">\n      <th></th>\n      <th>lettr</th>\n      <th>x-box</th>\n      <th>y-box</th>\n      <th>width</th>\n      <th>high</th>\n      <th>onpix</th>\n      <th>x-bar</th>\n      <th>y-bar</th>\n      <th>x2bar</th>\n      <th>y2bar</th>\n      <th>xybar</th>\n      <th>x2ybr</th>\n      <th>xy2br</th>\n      <th>x-ege</th>\n      <th>xegvy</th>\n      <th>y-ege</th>\n      <th>yegvx</th>\n    </tr>\n  </thead>\n  <tbody>\n    <tr>\n      <th>0</th>\n      <td>T</td>\n      <td>2</td>\n      <td>8</td>\n      <td>3</td>\n      <td>5</td>\n      <td>1</td>\n      <td>8</td>\n      <td>13</td>\n      <td>0</td>\n      <td>6</td>\n      <td>6</td>\n      <td>10</td>\n      <td>8</td>\n      <td>0</td>\n      <td>8</td>\n      <td>0</td>\n      <td>8</td>\n    </tr>\n    <tr>\n      <th>1</th>\n      <td>I</td>\n      <td>5</td>\n      <td>12</td>\n      <td>3</td>\n      <td>7</td>\n      <td>2</td>\n      <td>10</td>\n      <td>5</td>\n      <td>5</td>\n      <td>4</td>\n      <td>13</td>\n      <td>3</td>\n      <td>9</td>\n      <td>2</td>\n      <td>8</td>\n      <td>4</td>\n      <td>10</td>\n    </tr>\n    <tr>\n      <th>2</th>\n      <td>D</td>\n      <td>4</td>\n      <td>11</td>\n      <td>6</td>\n      <td>8</td>\n      <td>6</td>\n      <td>10</td>\n      <td>6</td>\n      <td>2</td>\n      <td>6</td>\n      <td>10</td>\n      <td>3</td>\n      <td>7</td>\n      <td>3</td>\n      <td>7</td>\n      <td>3</td>\n      <td>9</td>\n    </tr>\n    <tr>\n      <th>3</th>\n      <td>N</td>\n      <td>7</td>\n      <td>11</td>\n      <td>6</td>\n      <td>6</td>\n      <td>3</td>\n      <td>5</td>\n      <td>9</td>\n      <td>4</td>\n      <td>6</td>\n      <td>4</td>\n      <td>4</td>\n      <td>10</td>\n      <td>6</td>\n      <td>10</td>\n      <td>2</td>\n      <td>8</td>\n    </tr>\n    <tr>\n      <th>4</th>\n      <td>G</td>\n      <td>2</td>\n      <td>1</td>\n      <td>3</td>\n      <td>1</td>\n      <td>1</td>\n      <td>8</td>\n      <td>6</td>\n      <td>6</td>\n      <td>6</td>\n      <td>6</td>\n      <td>5</td>\n      <td>9</td>\n      <td>1</td>\n      <td>7</td>\n      <td>5</td>\n      <td>10</td>\n    </tr>\n  </tbody>\n</table>\n</div>"
     },
     "execution_count": 5,
     "metadata": {},
     "output_type": "execute_result"
    }
   ],
   "source": [
    "data.head()"
   ],
   "metadata": {
    "collapsed": false,
    "ExecuteTime": {
     "end_time": "2023-12-22T21:21:10.563507Z",
     "start_time": "2023-12-22T21:21:10.555097Z"
    }
   },
   "id": "cfdbd37bbe2a7c55"
  },
  {
   "cell_type": "code",
   "outputs": [],
   "source": [
    "data[\"lettr\"] = data[\"lettr\"].apply(lambda x: ord(x) - 65)"
   ],
   "metadata": {
    "collapsed": false,
    "ExecuteTime": {
     "end_time": "2023-12-22T21:21:10.572783Z",
     "start_time": "2023-12-22T21:21:10.565823Z"
    }
   },
   "id": "80c6e1e37c84808a",
   "execution_count": 6
  },
  {
   "cell_type": "markdown",
   "source": [
    "# Preprocessing"
   ],
   "metadata": {
    "collapsed": false
   },
   "id": "d447d4c3655657cc"
  },
  {
   "cell_type": "code",
   "outputs": [
    {
     "data": {
      "text/plain": "(20000, 17)"
     },
     "execution_count": 7,
     "metadata": {},
     "output_type": "execute_result"
    }
   ],
   "source": [
    "data.shape"
   ],
   "metadata": {
    "collapsed": false,
    "ExecuteTime": {
     "end_time": "2023-12-22T21:21:10.573520Z",
     "start_time": "2023-12-22T21:21:10.568717Z"
    }
   },
   "id": "896dd3a02caa8962",
   "execution_count": 7
  },
  {
   "cell_type": "code",
   "outputs": [
    {
     "data": {
      "text/plain": "<BarContainer object of 26 artists>"
     },
     "execution_count": 8,
     "metadata": {},
     "output_type": "execute_result"
    },
    {
     "data": {
      "text/plain": "<Figure size 640x480 with 1 Axes>",
      "image/png": "[encoded data removed]"
     },
     "metadata": {},
     "output_type": "display_data"
    }
   ],
   "source": [
    "plt.bar(data[\"lettr\"].value_counts().index, data[\"lettr\"].value_counts().values)"
   ],
   "metadata": {
    "collapsed": false,
    "ExecuteTime": {
     "end_time": "2023-12-22T21:21:10.782546Z",
     "start_time": "2023-12-22T21:21:10.573064Z"
    }
   },
   "id": "cc0543988f032234",
   "execution_count": 8
  },
  {
   "cell_type": "code",
   "outputs": [],
   "source": [
    "# remove duplicates\n",
    "data.drop_duplicates(inplace=True)"
   ],
   "metadata": {
    "collapsed": false,
    "ExecuteTime": {
     "end_time": "2023-12-22T21:21:10.783584Z",
     "start_time": "2023-12-22T21:21:10.696547Z"
    }
   },
   "id": "6a61e2d0225b5922",
   "execution_count": 9
  },
  {
   "cell_type": "code",
   "outputs": [
    {
     "data": {
      "text/plain": "(18668, 17)"
     },
     "execution_count": 10,
     "metadata": {},
     "output_type": "execute_result"
    }
   ],
   "source": [
    "data.shape"
   ],
   "metadata": {
    "collapsed": false,
    "ExecuteTime": {
     "end_time": "2023-12-22T21:21:10.784183Z",
     "start_time": "2023-12-22T21:21:10.711278Z"
    }
   },
   "id": "b322b71405ff6416",
   "execution_count": 10
  },
  {
   "cell_type": "code",
   "outputs": [
    {
     "data": {
      "text/plain": "<BarContainer object of 26 artists>"
     },
     "execution_count": 11,
     "metadata": {},
     "output_type": "execute_result"
    },
    {
     "data": {
      "text/plain": "<Figure size 640x480 with 1 Axes>",
      "image/png": "[encoded data removed]"
     },
     "metadata": {},
     "output_type": "display_data"
    }
   ],
   "source": [
    "plt.bar(data[\"lettr\"].value_counts().index, data[\"lettr\"].value_counts().values)"
   ],
   "metadata": {
    "collapsed": false,
    "ExecuteTime": {
     "end_time": "2023-12-22T21:21:10.902586Z",
     "start_time": "2023-12-22T21:21:10.716042Z"
    }
   },
   "id": "b9bdc7d5d2480c09",
   "execution_count": 11
  },
  {
   "cell_type": "code",
   "outputs": [],
   "source": [
    "# Under sampling\n",
    "rus = RandomUnderSampler(random_state=42)\n",
    "under_sample, under_sample_labels = rus.fit_resample(data[HEADERS[1:]], data[HEADERS[0]])"
   ],
   "metadata": {
    "collapsed": false,
    "ExecuteTime": {
     "end_time": "2023-12-22T21:21:10.909595Z",
     "start_time": "2023-12-22T21:21:10.901233Z"
    }
   },
   "id": "3ebd4b6a0ddc383b",
   "execution_count": 12
  },
  {
   "cell_type": "code",
   "outputs": [
    {
     "data": {
      "text/plain": "(13624, 16)"
     },
     "execution_count": 13,
     "metadata": {},
     "output_type": "execute_result"
    }
   ],
   "source": [
    "under_sample.shape"
   ],
   "metadata": {
    "collapsed": false,
    "ExecuteTime": {
     "end_time": "2023-12-22T21:21:10.916021Z",
     "start_time": "2023-12-22T21:21:10.910627Z"
    }
   },
   "id": "ef88d7f3740776c8",
   "execution_count": 13
  },
  {
   "cell_type": "code",
   "outputs": [
    {
     "data": {
      "text/plain": "<BarContainer object of 26 artists>"
     },
     "execution_count": 14,
     "metadata": {},
     "output_type": "execute_result"
    },
    {
     "data": {
      "text/plain": "<Figure size 640x480 with 1 Axes>",
      "image/png": "[encoded data removed]"
     },
     "metadata": {},
     "output_type": "display_data"
    }
   ],
   "source": [
    "plt.bar(\n",
    "    pd.Series(under_sample_labels).value_counts().index,\n",
    "    pd.Series(under_sample_labels).value_counts().values,\n",
    ")"
   ],
   "metadata": {
    "collapsed": false,
    "ExecuteTime": {
     "end_time": "2023-12-22T21:21:11.075177Z",
     "start_time": "2023-12-22T21:21:10.916725Z"
    }
   },
   "id": "e63a3eac4607009c",
   "execution_count": 14
  },
  {
   "cell_type": "code",
   "outputs": [],
   "source": [
    "# Over sampling\n",
    "ros = RandomOverSampler(random_state=42)\n",
    "over_sample, over_sample_labels = ros.fit_resample(data[HEADERS[1:]], data[HEADERS[0]])"
   ],
   "metadata": {
    "collapsed": false,
    "ExecuteTime": {
     "end_time": "2023-12-22T21:21:11.082842Z",
     "start_time": "2023-12-22T21:21:11.072577Z"
    }
   },
   "id": "6ad96ad5e90ab0c3",
   "execution_count": 15
  },
  {
   "cell_type": "code",
   "outputs": [
    {
     "data": {
      "text/plain": "(20332, 16)"
     },
     "execution_count": 16,
     "metadata": {},
     "output_type": "execute_result"
    }
   ],
   "source": [
    "over_sample.shape"
   ],
   "metadata": {
    "collapsed": false,
    "ExecuteTime": {
     "end_time": "2023-12-22T21:21:11.089746Z",
     "start_time": "2023-12-22T21:21:11.083567Z"
    }
   },
   "id": "801468a20693ae56",
   "execution_count": 16
  },
  {
   "cell_type": "code",
   "outputs": [
    {
     "data": {
      "text/plain": "<BarContainer object of 26 artists>"
     },
     "execution_count": 17,
     "metadata": {},
     "output_type": "execute_result"
    },
    {
     "data": {
      "text/plain": "<Figure size 640x480 with 1 Axes>",
      "image/png": "[encoded data removed]"
     },
     "metadata": {},
     "output_type": "display_data"
    }
   ],
   "source": [
    "plt.bar(\n",
    "    pd.Series(over_sample_labels).value_counts().index,\n",
    "    pd.Series(over_sample_labels).value_counts().values,\n",
    ")"
   ],
   "metadata": {
    "collapsed": false,
    "ExecuteTime": {
     "end_time": "2023-12-22T21:21:11.171829Z",
     "start_time": "2023-12-22T21:21:11.092380Z"
    }
   },
   "id": "8a7a8e8039d3c5d6",
   "execution_count": 17
  },
  {
   "cell_type": "code",
   "outputs": [],
   "source": [
    "# SMOTE\n",
    "smote = SMOTE(random_state=42)\n",
    "smote_sample, smote_sample_labels = smote.fit_resample(data[HEADERS[1:]], data[HEADERS[0]])"
   ],
   "metadata": {
    "collapsed": false,
    "ExecuteTime": {
     "end_time": "2023-12-22T21:21:11.463516Z",
     "start_time": "2023-12-22T21:21:11.168223Z"
    }
   },
   "id": "ad077c0face39ecc",
   "execution_count": 18
  },
  {
   "cell_type": "code",
   "outputs": [
    {
     "data": {
      "text/plain": "(20332, 16)"
     },
     "execution_count": 19,
     "metadata": {},
     "output_type": "execute_result"
    }
   ],
   "source": [
    "smote_sample.shape"
   ],
   "metadata": {
    "collapsed": false,
    "ExecuteTime": {
     "end_time": "2023-12-22T21:21:11.479346Z",
     "start_time": "2023-12-22T21:21:11.469540Z"
    }
   },
   "id": "3d92182edba13537",
   "execution_count": 19
  },
  {
   "cell_type": "code",
   "outputs": [
    {
     "data": {
      "text/plain": "<BarContainer object of 26 artists>"
     },
     "execution_count": 20,
     "metadata": {},
     "output_type": "execute_result"
    },
    {
     "data": {
      "text/plain": "<Figure size 640x480 with 1 Axes>",
      "image/png": "[encoded data removed]"
     },
     "metadata": {},
     "output_type": "display_data"
    }
   ],
   "source": [
    "plt.bar(\n",
    "    pd.Series(smote_sample_labels).value_counts().index,\n",
    "    pd.Series(smote_sample_labels).value_counts().values,\n",
    ")"
   ],
   "metadata": {
    "collapsed": false,
    "ExecuteTime": {
     "end_time": "2023-12-22T21:21:11.646894Z",
     "start_time": "2023-12-22T21:21:11.482543Z"
    }
   },
   "id": "eb844a82e6ab9713",
   "execution_count": 20
  },
  {
   "cell_type": "code",
   "execution_count": 21,
   "outputs": [
    {
     "data": {
      "text/plain": "((16265, 16), (4067, 16), (16265,), (4067,))"
     },
     "execution_count": 21,
     "metadata": {},
     "output_type": "execute_result"
    }
   ],
   "source": [
    "x_train, x_test, y_train, y_test = train_test_split(\n",
    "    data[HEADERS[1:]], data[HEADERS[0]], test_size=0.20, random_state=42\n",
    ")\n",
    "x_train_smote, x_test_smote, y_train_smote, y_test_smote = train_test_split(\n",
    "    smote_sample, smote_sample_labels, test_size=0.20, random_state=42\n",
    ")\n",
    "x_train_under, x_test_under, y_train_under, y_test_under = train_test_split(\n",
    "    under_sample, under_sample_labels, test_size=0.20, random_state=42\n",
    ")\n",
    "x_train_over, x_test_over, y_train_over, y_test_over = train_test_split(\n",
    "    over_sample, over_sample_labels, test_size=0.20, random_state=42\n",
    ")\n",
    "x_train_over.shape, x_test_over.shape, y_train_over.shape, y_test_over.shape"
   ],
   "metadata": {
    "collapsed": false,
    "ExecuteTime": {
     "end_time": "2023-12-22T21:21:11.690113Z",
     "start_time": "2023-12-22T21:21:11.641270Z"
    }
   },
   "id": "fca08eff2d750c43"
  },
  {
   "cell_type": "code",
   "execution_count": 22,
   "outputs": [],
   "source": [
    "x_train = tf.keras.utils.normalize(x_train.values, axis=1)\n",
    "x_test = tf.keras.utils.normalize(x_test.values, axis=1)"
   ],
   "metadata": {
    "collapsed": false,
    "ExecuteTime": {
     "end_time": "2023-12-22T21:21:11.722246Z",
     "start_time": "2023-12-22T21:21:11.673892Z"
    }
   },
   "id": "e16a4f3cf257550a"
  },
  {
   "cell_type": "code",
   "execution_count": 23,
   "outputs": [
    {
     "name": "stdout",
     "output_type": "stream",
     "text": [
      "Epoch 1/30\n",
      "467/467 [==============================] - 0s 651us/step - loss: 2.1723 - accuracy: 0.4077\n",
      "Epoch 2/30\n",
      "467/467 [==============================] - 0s 644us/step - loss: 1.3132 - accuracy: 0.6306\n",
      "Epoch 3/30\n",
      "467/467 [==============================] - 0s 634us/step - loss: 1.1185 - accuracy: 0.6858\n",
      "Epoch 4/30\n",
      "467/467 [==============================] - 0s 637us/step - loss: 1.0029 - accuracy: 0.7168\n",
      "Epoch 5/30\n",
      "467/467 [==============================] - 0s 636us/step - loss: 0.9296 - accuracy: 0.7341\n",
      "Epoch 6/30\n",
      "467/467 [==============================] - 0s 625us/step - loss: 0.8692 - accuracy: 0.7518\n",
      "Epoch 7/30\n",
      "467/467 [==============================] - 0s 633us/step - loss: 0.8114 - accuracy: 0.7658\n",
      "Epoch 8/30\n",
      "467/467 [==============================] - 0s 645us/step - loss: 0.7662 - accuracy: 0.7763\n",
      "Epoch 9/30\n",
      "467/467 [==============================] - 0s 639us/step - loss: 0.7180 - accuracy: 0.7874\n",
      "Epoch 10/30\n",
      "467/467 [==============================] - 0s 622us/step - loss: 0.6727 - accuracy: 0.7993\n",
      "Epoch 11/30\n",
      "467/467 [==============================] - 0s 699us/step - loss: 0.6323 - accuracy: 0.8113\n",
      "Epoch 12/30\n",
      "467/467 [==============================] - 0s 631us/step - loss: 0.5994 - accuracy: 0.8218\n",
      "Epoch 13/30\n",
      "467/467 [==============================] - 0s 650us/step - loss: 0.5607 - accuracy: 0.8333\n",
      "Epoch 14/30\n",
      "467/467 [==============================] - 0s 675us/step - loss: 0.5256 - accuracy: 0.8448\n",
      "Epoch 15/30\n",
      "467/467 [==============================] - 0s 732us/step - loss: 0.4979 - accuracy: 0.8532\n",
      "Epoch 16/30\n",
      "467/467 [==============================] - 0s 970us/step - loss: 0.4710 - accuracy: 0.8605\n",
      "Epoch 17/30\n",
      "467/467 [==============================] - 0s 660us/step - loss: 0.4539 - accuracy: 0.8633\n",
      "Epoch 18/30\n",
      "467/467 [==============================] - 0s 648us/step - loss: 0.4278 - accuracy: 0.8715\n",
      "Epoch 19/30\n",
      "467/467 [==============================] - 0s 645us/step - loss: 0.4081 - accuracy: 0.8778\n",
      "Epoch 20/30\n",
      "467/467 [==============================] - 0s 652us/step - loss: 0.3865 - accuracy: 0.8861\n",
      "Epoch 21/30\n",
      "467/467 [==============================] - 0s 654us/step - loss: 0.3703 - accuracy: 0.8901\n",
      "Epoch 22/30\n",
      "467/467 [==============================] - 0s 627us/step - loss: 0.3543 - accuracy: 0.8945\n",
      "Epoch 23/30\n",
      "467/467 [==============================] - 0s 642us/step - loss: 0.3413 - accuracy: 0.9004\n",
      "Epoch 24/30\n",
      "467/467 [==============================] - 0s 652us/step - loss: 0.3245 - accuracy: 0.9029\n",
      "Epoch 25/30\n",
      "467/467 [==============================] - 0s 663us/step - loss: 0.3141 - accuracy: 0.9049\n",
      "Epoch 26/30\n",
      "467/467 [==============================] - 0s 627us/step - loss: 0.3028 - accuracy: 0.9081\n",
      "Epoch 27/30\n",
      "467/467 [==============================] - 0s 639us/step - loss: 0.2932 - accuracy: 0.9101\n",
      "Epoch 28/30\n",
      "467/467 [==============================] - 0s 657us/step - loss: 0.2789 - accuracy: 0.9148\n",
      "Epoch 29/30\n",
      "467/467 [==============================] - 0s 673us/step - loss: 0.2686 - accuracy: 0.9194\n",
      "Epoch 30/30\n",
      "467/467 [==============================] - 0s 657us/step - loss: 0.2618 - accuracy: 0.9203\n"
     ]
    },
    {
     "data": {
      "text/plain": "<keras.src.callbacks.History at 0x16bf967d0>"
     },
     "execution_count": 23,
     "metadata": {},
     "output_type": "execute_result"
    }
   ],
   "source": [
    "model = tf.keras.models.Sequential(\n",
    "    [\n",
    "        tf.keras.layers.Dense(128, activation=\"relu\"),\n",
    "        tf.keras.layers.Dense(256, activation=\"relu\"),\n",
    "        tf.keras.layers.Dense(26, activation=\"softmax\"),\n",
    "    ]\n",
    ")\n",
    "model.compile(\n",
    "    optimizer=\"adam\", loss=\"sparse_categorical_crossentropy\", metrics=[\"accuracy\"]\n",
    ")\n",
    "model.fit(x_train, y_train, epochs=30)"
   ],
   "metadata": {
    "collapsed": false,
    "ExecuteTime": {
     "end_time": "2023-12-22T21:21:21.193869Z",
     "start_time": "2023-12-22T21:21:11.696672Z"
    }
   },
   "id": "e2adf764122f301c"
  },
  {
   "cell_type": "code",
   "execution_count": 24,
   "outputs": [
    {
     "name": "stdout",
     "output_type": "stream",
     "text": [
      "117/117 [==============================] - 0s 400us/step - loss: 0.2990 - accuracy: 0.9071\n"
     ]
    },
    {
     "data": {
      "text/plain": "[0.29897770285606384, 0.9070701599121094]"
     },
     "execution_count": 24,
     "metadata": {},
     "output_type": "execute_result"
    }
   ],
   "source": [
    "model.evaluate(x_test, y_test)"
   ],
   "metadata": {
    "collapsed": false,
    "ExecuteTime": {
     "end_time": "2023-12-22T21:21:21.310678Z",
     "start_time": "2023-12-22T21:21:21.192332Z"
    }
   },
   "id": "5a6c476ccdf9f96e"
  },
  {
   "cell_type": "code",
   "outputs": [
    {
     "name": "stdout",
     "output_type": "stream",
     "text": [
      "Epoch 1/15\n",
      "636/636 [==============================] - 1s 704us/step - loss: 1.2577 - accuracy: 0.6462\n",
      "Epoch 2/15\n",
      "636/636 [==============================] - 0s 715us/step - loss: 0.6380 - accuracy: 0.8094\n",
      "Epoch 3/15\n",
      "636/636 [==============================] - 0s 683us/step - loss: 0.4478 - accuracy: 0.8628\n",
      "Epoch 4/15\n",
      "636/636 [==============================] - 0s 676us/step - loss: 0.3484 - accuracy: 0.8921\n",
      "Epoch 5/15\n",
      "636/636 [==============================] - 0s 688us/step - loss: 0.2883 - accuracy: 0.9083\n",
      "Epoch 6/15\n",
      "636/636 [==============================] - 0s 678us/step - loss: 0.2497 - accuracy: 0.9207\n",
      "Epoch 7/15\n",
      "636/636 [==============================] - 0s 637us/step - loss: 0.2230 - accuracy: 0.9281\n",
      "Epoch 8/15\n",
      "636/636 [==============================] - 0s 663us/step - loss: 0.1973 - accuracy: 0.9358\n",
      "Epoch 9/15\n",
      "636/636 [==============================] - 0s 640us/step - loss: 0.1831 - accuracy: 0.9397\n",
      "Epoch 10/15\n",
      "636/636 [==============================] - 0s 625us/step - loss: 0.1655 - accuracy: 0.9443\n",
      "Epoch 11/15\n",
      "636/636 [==============================] - 0s 661us/step - loss: 0.1540 - accuracy: 0.9486\n",
      "Epoch 12/15\n",
      "636/636 [==============================] - 0s 663us/step - loss: 0.1434 - accuracy: 0.9519\n",
      "Epoch 13/15\n",
      "636/636 [==============================] - 0s 637us/step - loss: 0.1287 - accuracy: 0.9572\n",
      "Epoch 14/15\n",
      "636/636 [==============================] - 0s 725us/step - loss: 0.1238 - accuracy: 0.9593\n",
      "Epoch 15/15\n",
      "636/636 [==============================] - 0s 688us/step - loss: 0.1150 - accuracy: 0.9596\n"
     ]
    },
    {
     "data": {
      "text/plain": "<keras.src.callbacks.History at 0x176265cc0>"
     },
     "execution_count": 25,
     "metadata": {},
     "output_type": "execute_result"
    }
   ],
   "source": [
    "model = tf.keras.models.Sequential(\n",
    "    [\n",
    "        tf.keras.layers.Dense(128, activation=\"relu\"),\n",
    "        tf.keras.layers.Dense(256, activation=\"relu\"),\n",
    "        tf.keras.layers.Dense(26, activation=\"softmax\"),\n",
    "    ]\n",
    ")\n",
    "model.compile(\n",
    "    optimizer=\"adam\", loss=\"sparse_categorical_crossentropy\", metrics=[\"accuracy\"]\n",
    ")\n",
    "model.fit(over_sample, over_sample_labels, epochs=15)"
   ],
   "metadata": {
    "collapsed": false,
    "ExecuteTime": {
     "end_time": "2023-12-22T21:21:27.900187Z",
     "start_time": "2023-12-22T21:21:21.309902Z"
    }
   },
   "id": "7f98a8b2e6ac64",
   "execution_count": 25
  },
  {
   "cell_type": "code",
   "outputs": [
    {
     "name": "stdout",
     "output_type": "stream",
     "text": [
      "128/128 [==============================] - 0s 413us/step - loss: 0.0835 - accuracy: 0.9749\n"
     ]
    },
    {
     "data": {
      "text/plain": "[0.0834890827536583, 0.9749200940132141]"
     },
     "execution_count": 26,
     "metadata": {},
     "output_type": "execute_result"
    }
   ],
   "source": [
    "model.evaluate(x_test_over, y_test_over)"
   ],
   "metadata": {
    "collapsed": false,
    "ExecuteTime": {
     "end_time": "2023-12-22T21:21:28.017078Z",
     "start_time": "2023-12-22T21:21:27.899565Z"
    }
   },
   "id": "80090fdd534c526c",
   "execution_count": 26
  },
  {
   "cell_type": "code",
   "outputs": [
    {
     "name": "stdout",
     "output_type": "stream",
     "text": [
      "Epoch 1/25\n",
      "426/426 [==============================] - 0s 629us/step - loss: 1.4730 - accuracy: 0.5774\n",
      "Epoch 2/25\n",
      "426/426 [==============================] - 0s 649us/step - loss: 0.8368 - accuracy: 0.7522\n",
      "Epoch 3/25\n",
      "426/426 [==============================] - 0s 719us/step - loss: 0.6361 - accuracy: 0.8089\n",
      "Epoch 4/25\n",
      "426/426 [==============================] - 0s 682us/step - loss: 0.5107 - accuracy: 0.8437\n",
      "Epoch 5/25\n",
      "426/426 [==============================] - 0s 658us/step - loss: 0.4200 - accuracy: 0.8731\n",
      "Epoch 6/25\n",
      "426/426 [==============================] - 0s 670us/step - loss: 0.3599 - accuracy: 0.8900\n",
      "Epoch 7/25\n",
      "426/426 [==============================] - 0s 687us/step - loss: 0.3053 - accuracy: 0.9066\n",
      "Epoch 8/25\n",
      "426/426 [==============================] - 0s 664us/step - loss: 0.2641 - accuracy: 0.9159\n",
      "Epoch 9/25\n",
      "426/426 [==============================] - 0s 682us/step - loss: 0.2391 - accuracy: 0.9232\n",
      "Epoch 10/25\n",
      "426/426 [==============================] - 0s 655us/step - loss: 0.2110 - accuracy: 0.9324\n",
      "Epoch 11/25\n",
      "426/426 [==============================] - 0s 642us/step - loss: 0.1871 - accuracy: 0.9392\n",
      "Epoch 12/25\n",
      "426/426 [==============================] - 0s 636us/step - loss: 0.1789 - accuracy: 0.9411\n",
      "Epoch 13/25\n",
      "426/426 [==============================] - 0s 647us/step - loss: 0.1674 - accuracy: 0.9433\n",
      "Epoch 14/25\n",
      "426/426 [==============================] - 0s 638us/step - loss: 0.1551 - accuracy: 0.9487\n",
      "Epoch 15/25\n",
      "426/426 [==============================] - 0s 644us/step - loss: 0.1417 - accuracy: 0.9530\n",
      "Epoch 16/25\n",
      "426/426 [==============================] - 0s 634us/step - loss: 0.1383 - accuracy: 0.9510\n",
      "Epoch 17/25\n",
      "426/426 [==============================] - 0s 688us/step - loss: 0.1256 - accuracy: 0.9594\n",
      "Epoch 18/25\n",
      "426/426 [==============================] - 0s 705us/step - loss: 0.1165 - accuracy: 0.9614\n",
      "Epoch 19/25\n",
      "426/426 [==============================] - 0s 694us/step - loss: 0.1097 - accuracy: 0.9627\n",
      "Epoch 20/25\n",
      "426/426 [==============================] - 0s 666us/step - loss: 0.1079 - accuracy: 0.9619\n",
      "Epoch 21/25\n",
      "426/426 [==============================] - 0s 641us/step - loss: 0.0992 - accuracy: 0.9661\n",
      "Epoch 22/25\n",
      "426/426 [==============================] - 0s 687us/step - loss: 0.0891 - accuracy: 0.9701\n",
      "Epoch 23/25\n",
      "426/426 [==============================] - 0s 680us/step - loss: 0.0961 - accuracy: 0.9666\n",
      "Epoch 24/25\n",
      "426/426 [==============================] - 0s 688us/step - loss: 0.0936 - accuracy: 0.9666\n",
      "Epoch 25/25\n",
      "426/426 [==============================] - 0s 722us/step - loss: 0.0885 - accuracy: 0.9698\n"
     ]
    },
    {
     "data": {
      "text/plain": "<keras.src.callbacks.History at 0x1764c3f40>"
     },
     "execution_count": 27,
     "metadata": {},
     "output_type": "execute_result"
    }
   ],
   "source": [
    "model = tf.keras.models.Sequential(\n",
    "    [\n",
    "        tf.keras.layers.Dense(128, activation=\"relu\"),\n",
    "        tf.keras.layers.Dense(256, activation=\"relu\"),\n",
    "        tf.keras.layers.Dense(26, activation=\"softmax\"),\n",
    "    ]\n",
    ")\n",
    "model.compile(\n",
    "    optimizer=\"adam\", loss=\"sparse_categorical_crossentropy\", metrics=[\"accuracy\"]\n",
    ")\n",
    "model.fit(under_sample, under_sample_labels, epochs=25)"
   ],
   "metadata": {
    "collapsed": false,
    "ExecuteTime": {
     "end_time": "2023-12-22T21:21:35.317021Z",
     "start_time": "2023-12-22T21:21:28.018928Z"
    }
   },
   "id": "238300ab64ffb24a",
   "execution_count": 27
  },
  {
   "cell_type": "code",
   "outputs": [
    {
     "name": "stdout",
     "output_type": "stream",
     "text": [
      "86/86 [==============================] - 0s 403us/step - loss: 0.0986 - accuracy: 0.9655\n"
     ]
    },
    {
     "data": {
      "text/plain": "[0.09861212968826294, 0.9655045866966248]"
     },
     "execution_count": 28,
     "metadata": {},
     "output_type": "execute_result"
    }
   ],
   "source": [
    "model.evaluate(x_test_under, y_test_under)"
   ],
   "metadata": {
    "collapsed": false,
    "ExecuteTime": {
     "end_time": "2023-12-22T21:21:35.421424Z",
     "start_time": "2023-12-22T21:21:35.321330Z"
    }
   },
   "id": "12cadb0327d0c44",
   "execution_count": 28
  },
  {
   "cell_type": "code",
   "execution_count": 29,
   "outputs": [
    {
     "data": {
      "text/plain": "KNeighborsClassifier()",
      "text/html": "<style>#sk-container-id-1 {color: black;}#sk-container-id-1 pre{padding: 0;}#sk-container-id-1 div.sk-toggleable {background-color: white;}#sk-container-id-1 label.sk-toggleable__label {cursor: pointer;display: block;width: 100%;margin-bottom: 0;padding: 0.3em;box-sizing: border-box;text-align: center;}#sk-container-id-1 label.sk-toggleable__label-arrow:before {content: \"▸\";float: left;margin-right: 0.25em;color: #696969;}#sk-container-id-1 label.sk-toggleable__label-arrow:hover:before {color: black;}#sk-container-id-1 div.sk-estimator:hover label.sk-toggleable__label-arrow:before {color: black;}#sk-container-id-1 div.sk-toggleable__content {max-height: 0;max-width: 0;overflow: hidden;text-align: left;background-color: #f0f8ff;}#sk-container-id-1 div.sk-toggleable__content pre {margin: 0.2em;color: black;border-radius: 0.25em;background-color: #f0f8ff;}#sk-container-id-1 input.sk-toggleable__control:checked~div.sk-toggleable__content {max-height: 200px;max-width: 100%;overflow: auto;}#sk-container-id-1 input.sk-toggleable__control:checked~label.sk-toggleable__label-arrow:before {content: \"▾\";}#sk-container-id-1 div.sk-estimator input.sk-toggleable__control:checked~label.sk-toggleable__label {background-color: #d4ebff;}#sk-container-id-1 div.sk-label input.sk-toggleable__control:checked~label.sk-toggleable__label {background-color: #d4ebff;}#sk-container-id-1 input.sk-hidden--visually {border: 0;clip: rect(1px 1px 1px 1px);clip: rect(1px, 1px, 1px, 1px);height: 1px;margin: -1px;overflow: hidden;padding: 0;position: absolute;width: 1px;}#sk-container-id-1 div.sk-estimator {font-family: monospace;background-color: #f0f8ff;border: 1px dotted black;border-radius: 0.25em;box-sizing: border-box;margin-bottom: 0.5em;}#sk-container-id-1 div.sk-estimator:hover {background-color: #d4ebff;}#sk-container-id-1 div.sk-parallel-item::after {content: \"\";width: 100%;border-bottom: 1px solid gray;flex-grow: 1;}#sk-container-id-1 div.sk-label:hover label.sk-toggleable__label {background-color: #d4ebff;}#sk-container-id-1 div.sk-serial::before {content: \"\";position: absolute;border-left: 1px solid gray;box-sizing: border-box;top: 0;bottom: 0;left: 50%;z-index: 0;}#sk-container-id-1 div.sk-serial {display: flex;flex-direction: column;align-items: center;background-color: white;padding-right: 0.2em;padding-left: 0.2em;position: relative;}#sk-container-id-1 div.sk-item {position: relative;z-index: 1;}#sk-container-id-1 div.sk-parallel {display: flex;align-items: stretch;justify-content: center;background-color: white;position: relative;}#sk-container-id-1 div.sk-item::before, #sk-container-id-1 div.sk-parallel-item::before {content: \"\";position: absolute;border-left: 1px solid gray;box-sizing: border-box;top: 0;bottom: 0;left: 50%;z-index: -1;}#sk-container-id-1 div.sk-parallel-item {display: flex;flex-direction: column;z-index: 1;position: relative;background-color: white;}#sk-container-id-1 div.sk-parallel-item:first-child::after {align-self: flex-end;width: 50%;}#sk-container-id-1 div.sk-parallel-item:last-child::after {align-self: flex-start;width: 50%;}#sk-container-id-1 div.sk-parallel-item:only-child::after {width: 0;}#sk-container-id-1 div.sk-dashed-wrapped {border: 1px dashed gray;margin: 0 0.4em 0.5em 0.4em;box-sizing: border-box;padding-bottom: 0.4em;background-color: white;}#sk-container-id-1 div.sk-label label {font-family: monospace;font-weight: bold;display: inline-block;line-height: 1.2em;}#sk-container-id-1 div.sk-label-container {text-align: center;}#sk-container-id-1 div.sk-container {/* jupyter's `normalize.less` sets `[hidden] { display: none; }` but bootstrap.min.css set `[hidden] { display: none !important; }` so we also need the `!important` here to be able to override the default hidden behavior on the sphinx rendered scikit-learn.org. See: https://github.com/scikit-learn/scikit-learn/issues/21755 */display: inline-block !important;position: relative;}#sk-container-id-1 div.sk-text-repr-fallback {display: none;}</style><div id=\"sk-container-id-1\" class=\"sk-top-container\"><div class=\"sk-text-repr-fallback\"><pre>KNeighborsClassifier()</pre><b>In a Jupyter environment, please rerun this cell to show the HTML representation or trust the notebook. <br />On GitHub, the HTML representation is unable to render, please try loading this page with nbviewer.org.</b></div><div class=\"sk-container\" hidden><div class=\"sk-item\"><div class=\"sk-estimator sk-toggleable\"><input class=\"sk-toggleable__control sk-hidden--visually\" id=\"sk-estimator-id-1\" type=\"checkbox\" checked><label for=\"sk-estimator-id-1\" class=\"sk-toggleable__label sk-toggleable__label-arrow\">KNeighborsClassifier</label><div class=\"sk-toggleable__content\"><pre>KNeighborsClassifier()</pre></div></div></div></div></div>"
     },
     "execution_count": 29,
     "metadata": {},
     "output_type": "execute_result"
    }
   ],
   "source": [
    "knn = KNeighborsClassifier()\n",
    "knn.fit(x_train, y_train)"
   ],
   "metadata": {
    "collapsed": false,
    "ExecuteTime": {
     "end_time": "2023-12-22T21:21:35.427841Z",
     "start_time": "2023-12-22T21:21:35.421473Z"
    }
   },
   "id": "de2df25d9f730828"
  },
  {
   "cell_type": "code",
   "execution_count": 30,
   "outputs": [],
   "source": [
    "y_pred = knn.predict(x_test)"
   ],
   "metadata": {
    "collapsed": false,
    "ExecuteTime": {
     "end_time": "2023-12-22T21:21:36.131202Z",
     "start_time": "2023-12-22T21:21:35.428370Z"
    }
   },
   "id": "76c4bbc894b36874"
  },
  {
   "cell_type": "code",
   "execution_count": 31,
   "outputs": [
    {
     "name": "stdout",
     "output_type": "stream",
     "text": [
      "              precision    recall  f1-score   support\n",
      "\n",
      "           0       0.96      0.99      0.97       144\n",
      "           1       0.89      0.96      0.93       156\n",
      "           2       0.94      0.93      0.93       147\n",
      "           3       0.89      0.96      0.93       163\n",
      "           4       0.87      0.92      0.89       144\n",
      "           5       0.92      0.93      0.93       146\n",
      "           6       0.95      0.88      0.91       173\n",
      "           7       0.87      0.87      0.87       133\n",
      "           8       0.96      0.94      0.95       108\n",
      "           9       0.95      0.95      0.95       150\n",
      "          10       0.90      0.91      0.90       149\n",
      "          11       0.99      0.97      0.98       147\n",
      "          12       0.99      0.99      0.99       143\n",
      "          13       0.96      0.96      0.96       138\n",
      "          14       0.93      0.95      0.94       131\n",
      "          15       0.96      0.94      0.95       161\n",
      "          16       0.97      0.97      0.97       145\n",
      "          17       0.93      0.91      0.92       147\n",
      "          18       0.99      0.93      0.96       142\n",
      "          19       0.97      0.97      0.97       151\n",
      "          20       0.98      0.96      0.97       143\n",
      "          21       0.95      0.95      0.95       155\n",
      "          22       0.98      0.98      0.98       133\n",
      "          23       0.97      0.94      0.95       124\n",
      "          24       0.98      0.98      0.98       138\n",
      "          25       0.97      0.98      0.98       123\n",
      "\n",
      "    accuracy                           0.95      3734\n",
      "   macro avg       0.95      0.95      0.95      3734\n",
      "weighted avg       0.95      0.95      0.95      3734\n",
      "\n",
      "0.9453668987680771\n"
     ]
    }
   ],
   "source": [
    "print(classification_report(y_test, y_pred))\n",
    "print(accuracy_score(y_test, y_pred))"
   ],
   "metadata": {
    "collapsed": false,
    "ExecuteTime": {
     "end_time": "2023-12-22T21:21:36.140639Z",
     "start_time": "2023-12-22T21:21:36.125349Z"
    }
   },
   "id": "4b80d60799733c1b"
  },
  {
   "cell_type": "code",
   "execution_count": 32,
   "outputs": [
    {
     "data": {
      "text/plain": "GridSearchCV(estimator=KNeighborsClassifier(), n_jobs=-1,\n             param_grid={'n_neighbors': [3, 5, 7, 9, 11, 13, 15]})",
      "text/html": "<style>#sk-container-id-2 {color: black;}#sk-container-id-2 pre{padding: 0;}#sk-container-id-2 div.sk-toggleable {background-color: white;}#sk-container-id-2 label.sk-toggleable__label {cursor: pointer;display: block;width: 100%;margin-bottom: 0;padding: 0.3em;box-sizing: border-box;text-align: center;}#sk-container-id-2 label.sk-toggleable__label-arrow:before {content: \"▸\";float: left;margin-right: 0.25em;color: #696969;}#sk-container-id-2 label.sk-toggleable__label-arrow:hover:before {color: black;}#sk-container-id-2 div.sk-estimator:hover label.sk-toggleable__label-arrow:before {color: black;}#sk-container-id-2 div.sk-toggleable__content {max-height: 0;max-width: 0;overflow: hidden;text-align: left;background-color: #f0f8ff;}#sk-container-id-2 div.sk-toggleable__content pre {margin: 0.2em;color: black;border-radius: 0.25em;background-color: #f0f8ff;}#sk-container-id-2 input.sk-toggleable__control:checked~div.sk-toggleable__content {max-height: 200px;max-width: 100%;overflow: auto;}#sk-container-id-2 input.sk-toggleable__control:checked~label.sk-toggleable__label-arrow:before {content: \"▾\";}#sk-container-id-2 div.sk-estimator input.sk-toggleable__control:checked~label.sk-toggleable__label {background-color: #d4ebff;}#sk-container-id-2 div.sk-label input.sk-toggleable__control:checked~label.sk-toggleable__label {background-color: #d4ebff;}#sk-container-id-2 input.sk-hidden--visually {border: 0;clip: rect(1px 1px 1px 1px);clip: rect(1px, 1px, 1px, 1px);height: 1px;margin: -1px;overflow: hidden;padding: 0;position: absolute;width: 1px;}#sk-container-id-2 div.sk-estimator {font-family: monospace;background-color: #f0f8ff;border: 1px dotted black;border-radius: 0.25em;box-sizing: border-box;margin-bottom: 0.5em;}#sk-container-id-2 div.sk-estimator:hover {background-color: #d4ebff;}#sk-container-id-2 div.sk-parallel-item::after {content: \"\";width: 100%;border-bottom: 1px solid gray;flex-grow: 1;}#sk-container-id-2 div.sk-label:hover label.sk-toggleable__label {background-color: #d4ebff;}#sk-container-id-2 div.sk-serial::before {content: \"\";position: absolute;border-left: 1px solid gray;box-sizing: border-box;top: 0;bottom: 0;left: 50%;z-index: 0;}#sk-container-id-2 div.sk-serial {display: flex;flex-direction: column;align-items: center;background-color: white;padding-right: 0.2em;padding-left: 0.2em;position: relative;}#sk-container-id-2 div.sk-item {position: relative;z-index: 1;}#sk-container-id-2 div.sk-parallel {display: flex;align-items: stretch;justify-content: center;background-color: white;position: relative;}#sk-container-id-2 div.sk-item::before, #sk-container-id-2 div.sk-parallel-item::before {content: \"\";position: absolute;border-left: 1px solid gray;box-sizing: border-box;top: 0;bottom: 0;left: 50%;z-index: -1;}#sk-container-id-2 div.sk-parallel-item {display: flex;flex-direction: column;z-index: 1;position: relative;background-color: white;}#sk-container-id-2 div.sk-parallel-item:first-child::after {align-self: flex-end;width: 50%;}#sk-container-id-2 div.sk-parallel-item:last-child::after {align-self: flex-start;width: 50%;}#sk-container-id-2 div.sk-parallel-item:only-child::after {width: 0;}#sk-container-id-2 div.sk-dashed-wrapped {border: 1px dashed gray;margin: 0 0.4em 0.5em 0.4em;box-sizing: border-box;padding-bottom: 0.4em;background-color: white;}#sk-container-id-2 div.sk-label label {font-family: monospace;font-weight: bold;display: inline-block;line-height: 1.2em;}#sk-container-id-2 div.sk-label-container {text-align: center;}#sk-container-id-2 div.sk-container {/* jupyter's `normalize.less` sets `[hidden] { display: none; }` but bootstrap.min.css set `[hidden] { display: none !important; }` so we also need the `!important` here to be able to override the default hidden behavior on the sphinx rendered scikit-learn.org. See: https://github.com/scikit-learn/scikit-learn/issues/21755 */display: inline-block !important;position: relative;}#sk-container-id-2 div.sk-text-repr-fallback {display: none;}</style><div id=\"sk-container-id-2\" class=\"sk-top-container\"><div class=\"sk-text-repr-fallback\"><pre>GridSearchCV(estimator=KNeighborsClassifier(), n_jobs=-1,\n             param_grid={&#x27;n_neighbors&#x27;: [3, 5, 7, 9, 11, 13, 15]})</pre><b>In a Jupyter environment, please rerun this cell to show the HTML representation or trust the notebook. <br />On GitHub, the HTML representation is unable to render, please try loading this page with nbviewer.org.</b></div><div class=\"sk-container\" hidden><div class=\"sk-item sk-dashed-wrapped\"><div class=\"sk-label-container\"><div class=\"sk-label sk-toggleable\"><input class=\"sk-toggleable__control sk-hidden--visually\" id=\"sk-estimator-id-2\" type=\"checkbox\" ><label for=\"sk-estimator-id-2\" class=\"sk-toggleable__label sk-toggleable__label-arrow\">GridSearchCV</label><div class=\"sk-toggleable__content\"><pre>GridSearchCV(estimator=KNeighborsClassifier(), n_jobs=-1,\n             param_grid={&#x27;n_neighbors&#x27;: [3, 5, 7, 9, 11, 13, 15]})</pre></div></div></div><div class=\"sk-parallel\"><div class=\"sk-parallel-item\"><div class=\"sk-item\"><div class=\"sk-label-container\"><div class=\"sk-label sk-toggleable\"><input class=\"sk-toggleable__control sk-hidden--visually\" id=\"sk-estimator-id-3\" type=\"checkbox\" ><label for=\"sk-estimator-id-3\" class=\"sk-toggleable__label sk-toggleable__label-arrow\">estimator: KNeighborsClassifier</label><div class=\"sk-toggleable__content\"><pre>KNeighborsClassifier()</pre></div></div></div><div class=\"sk-serial\"><div class=\"sk-item\"><div class=\"sk-estimator sk-toggleable\"><input class=\"sk-toggleable__control sk-hidden--visually\" id=\"sk-estimator-id-4\" type=\"checkbox\" ><label for=\"sk-estimator-id-4\" class=\"sk-toggleable__label sk-toggleable__label-arrow\">KNeighborsClassifier</label><div class=\"sk-toggleable__content\"><pre>KNeighborsClassifier()</pre></div></div></div></div></div></div></div></div></div></div>"
     },
     "execution_count": 32,
     "metadata": {},
     "output_type": "execute_result"
    }
   ],
   "source": [
    "param_grid = {\"n_neighbors\": [3, 5, 7, 9, 11, 13, 15]}\n",
    "grid = GridSearchCV(knn, param_grid, n_jobs=-1)\n",
    "grid.fit(x_train, y_train)"
   ],
   "metadata": {
    "collapsed": false,
    "ExecuteTime": {
     "end_time": "2023-12-22T21:21:38.245638Z",
     "start_time": "2023-12-22T21:21:36.136169Z"
    }
   },
   "id": "a91a22cf9da89c84"
  },
  {
   "cell_type": "code",
   "execution_count": 33,
   "outputs": [
    {
     "name": "stdout",
     "output_type": "stream",
     "text": [
      "{'n_neighbors': 3}\n"
     ]
    }
   ],
   "source": [
    "print(grid.best_params_)"
   ],
   "metadata": {
    "collapsed": false,
    "ExecuteTime": {
     "end_time": "2023-12-22T21:21:38.251939Z",
     "start_time": "2023-12-22T21:21:38.244976Z"
    }
   },
   "id": "13cfea9a4686b67d"
  },
  {
   "cell_type": "code",
   "execution_count": 33,
   "outputs": [],
   "source": [],
   "metadata": {
    "collapsed": false,
    "ExecuteTime": {
     "end_time": "2023-12-22T21:21:38.252730Z",
     "start_time": "2023-12-22T21:21:38.249362Z"
    }
   },
   "id": "11f8f60eda9b6f5c"
  }
 ],
 "metadata": {
  "kernelspec": {
   "display_name": "Python 3",
   "language": "python",
   "name": "python3"
  },
  "language_info": {
   "codemirror_mode": {
    "name": "ipython",
    "version": 2
   },
   "file_extension": ".py",
   "mimetype": "text/x-python",
   "name": "python",
   "nbconvert_exporter": "python",
   "pygments_lexer": "ipython2",
   "version": "2.7.6"
  }
 },
 "nbformat": 4,
 "nbformat_minor": 5
}
